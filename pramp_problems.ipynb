{
 "cells": [
  {
   "cell_type": "code",
   "execution_count": 12,
   "metadata": {},
   "outputs": [
    {
     "name": "stdout",
     "output_type": "stream",
     "text": [
      "[0, 5, 4, 3, 2, 1, 1, 0, 10, 6, 1, 5]\n"
     ]
    },
    {
     "data": {
      "text/plain": [
       "7"
      ]
     },
     "execution_count": 12,
     "metadata": {},
     "output_type": "execute_result"
    }
   ],
   "source": [
    "def get_cheapest_cost_helper(node):\n",
    "    cur_cost = node.cost\n",
    "    child_paths = []\n",
    "    for child in node.children:\n",
    "        total_cost = get_cheapest_cost_helper(child)\n",
    "        child_paths.append(total_cost)\n",
    "    if child_paths:\n",
    "        return cur_cost + min(child_paths)\n",
    "    return cur_cost\n",
    "\n",
    "def get_cheapest_cost(rootNode):\n",
    "    return get_cheapest_cost_helper(rootNode)\n",
    "\n",
    "def dfs_helper(node):\n",
    "    branch = [node.cost]\n",
    "    for child in node.children:\n",
    "        branch += dfs_helper(child)\n",
    "    return branch\n",
    "\n",
    "def dfs(rootNode):\n",
    "    return dfs_helper(rootNode)\n",
    "\n",
    "########################################## \n",
    "# Use the helper code below to implement #\n",
    "# and test your function above           #\n",
    "##########################################\n",
    "\n",
    "# Create the tree by adding one branch at a time\n",
    "# A branch consists of a list of lists, \n",
    "# where each outter list is a level and each inner\n",
    "# list consists of all the nodes at that level\n",
    "\n",
    "# A node \n",
    "class Node:\n",
    "\n",
    "    # Constructor to create a new node\n",
    "    def __init__(self, cost):\n",
    "        self.cost = cost\n",
    "        self.children = []\n",
    "        self.parent = None\n",
    "\n",
    "honda = Node(0)\n",
    "\n",
    "# Create level 1 nodes\n",
    "for value in (5,3,6):\n",
    "    child = Node(value)\n",
    "    child.parent = honda\n",
    "    honda.children.append(child)\n",
    "\n",
    "\n",
    "\n",
    "# Create Level 2 Nodes\n",
    "for i, level in enumerate([[4], [2, 0], [1, 5]]):\n",
    "    for v, value in enumerate(level):\n",
    "        branch = honda.children[i]\n",
    "        child = Node(value)\n",
    "        child.parent = branch\n",
    "        branch.children.append(child)\n",
    "        # Create Level 3 for middle branch\n",
    "        if i==1:\n",
    "            extra = [1, 10]            \n",
    "            grand_child = Node(extra[v])\n",
    "            grand_child.parent = child\n",
    "            child.children.append(grand_child)\n",
    "            # Create Level 4 for longest branch\n",
    "            if v==0:\n",
    "                great_grand_child = Node(1)\n",
    "                great_grand_child.parent = grand_child\n",
    "                grand_child.children.append(great_grand_child)\n",
    "        \n",
    "print(dfs(honda))\n",
    "get_cheapest_cost_helper(honda)"
   ]
  },
  {
   "cell_type": "markdown",
   "metadata": {},
   "source": [
    "## Basic Regex Parser\n",
    "\n",
    "Implement a regular expression function isMatch that supports the '.' and '*' symbols. The function receives two strings - text and pattern - and should return true if the text matches the pattern as a regular expression. For simplicity, assume that the actual symbols '.' and '*' do not appear in the text string and are used as special symbols only in the pattern string.\n",
    "\n",
    "In case you aren’t familiar with regular expressions, the function determines if the text and pattern are the equal, where the '.' is treated as a single a character wildcard (see third example), and '*' is matched for a zero or more sequence of the previous letter (see fourth and fifth examples). For more information on regular expression matching, see the Regular Expression Wikipedia page.\n",
    "\n",
    "Explain your algorithm, and analyze its time and space complexities.\n",
    "\n",
    "Examples:\n",
    "\n",
    "input:  text = \"aa\", pattern = \"a\"\n",
    "output: false\n",
    "\n",
    "input:  text = \"aa\", pattern = \"aa\"\n",
    "output: true\n",
    "\n",
    "input:  text = \"abc\", pattern = \"a.c\"\n",
    "output: true\n",
    "\n",
    "input:  text = \"abbb\", pattern = \"ab*\"\n",
    "output: true\n",
    "\n",
    "input:  text = \"acd\", pattern = \"ab*c.\"\n",
    "output: true\n",
    "\n",
    "Constraints:\n",
    "\n",
    "    [time limit] 5000ms\n",
    "    [input] string text\n",
    "    [input] string pattern\n",
    "    [output] boolean\n",
    "\n",
    "     \n"
   ]
  },
  {
   "cell_type": "code",
   "execution_count": 36,
   "metadata": {},
   "outputs": [
    {
     "name": "stdout",
     "output_type": "stream",
     "text": [
      "False\n",
      "True\n",
      "True\n",
      "False\n",
      "True\n",
      "True\n"
     ]
    }
   ],
   "source": [
    "import re\n",
    "\n",
    "def is_match(text, pattern):\n",
    "    import re\n",
    "    if re.match(\"^\"+pattern+\"$\", text):\n",
    "        return True\n",
    "    return False\n",
    "\n",
    "inputs = \"\"\"input:  text = \"aa\", pattern = \"a\"\n",
    "output: false\n",
    "\n",
    "input:  text = \"aa\", pattern = \"aa\"\n",
    "output: true\n",
    "\n",
    "input:  text = \"abc\", pattern = \"a.c\"\n",
    "output: true\n",
    "\n",
    "input:  text = \"abbb\", pattern = \"ab*\"\n",
    "output: true\n",
    "\n",
    "input:  text = \"a\", pattern = \"ab*\"\n",
    "output: true\n",
    "\n",
    "input:  text = \"acd\", pattern = \"ab*c.\"\n",
    "output: true\"\"\"\n",
    "\n",
    "texts = re.findall(r'text = \\\"(.+?)\\\"', inputs)\n",
    "patterns = re.findall(r'pattern = \\\"(.+?)\\\"', inputs)\n",
    "\n",
    "for t,p in zip(texts, patterns):\n",
    "    print(is_match(t,p))"
   ]
  },
  {
   "cell_type": "code",
   "execution_count": 42,
   "metadata": {},
   "outputs": [
    {
     "name": "stdout",
     "output_type": "stream",
     "text": [
      "optional_char: \n",
      "Out of range\n",
      "False\n",
      "optional_char: \n",
      "True\n",
      "optional_char: \n",
      "True\n",
      "optional_char: b\n",
      "True\n",
      "optional_char: b\n",
      "True\n",
      "optional_char: b\n",
      "False\n"
     ]
    }
   ],
   "source": [
    "import re\n",
    "\n",
    "def is_match(text, pattern):\n",
    "    # Need to iterate through text and pattern, but they may not\n",
    "    # be the same size.\n",
    "    # Need separate counts for each string\n",
    "    \n",
    "    optional_char = \"\"\n",
    "    for i in range(len(pattern)-1):\n",
    "        if pattern[i+1]==\"*\":\n",
    "            optional_char = pattern[i]\n",
    "    print(\"optional_char:\",optional_char)\n",
    "    p = 0\n",
    "    for t in range(len(text)):\n",
    "        try:\n",
    "            if text[t] == optional_char\n",
    "                if pattern[p] == '*':\n",
    "                    p += 1\n",
    "                    continue\n",
    "                elif pattern[p] == optional_char:\n",
    "                    continue\n",
    "            elif pattern[p] == \".\" or pattern[p] == text[t]:\n",
    "                p += 1\n",
    "                continue            \n",
    "            return False\n",
    "        except:\n",
    "            print(\"Out of range\")\n",
    "            return False\n",
    "    return True\n",
    "\n",
    "inputs = \"\"\"input:  text = \"aa\", pattern = \"a\"\n",
    "output: false\n",
    "\n",
    "input:  text = \"aa\", pattern = \"aa\"\n",
    "output: true\n",
    "\n",
    "input:  text = \"abc\", pattern = \"a.c\"\n",
    "output: true\n",
    "\n",
    "input:  text = \"abbb\", pattern = \"ab*\"\n",
    "output: true\n",
    "\n",
    "input:  text = \"a\", pattern = \"ab*\"\n",
    "output: true\n",
    "\n",
    "input:  text = \"acd\", pattern = \"ab*c.\"\n",
    "output: true\"\"\"\n",
    "\n",
    "texts = re.findall(r'text = \\\"(.+?)\\\"', inputs)\n",
    "patterns = re.findall(r'pattern = \\\"(.+?)\\\"', inputs)\n",
    "\n",
    "for t,p in zip(texts, patterns):\n",
    "    print(is_match(t,p))"
   ]
  },
  {
   "cell_type": "code",
   "execution_count": 32,
   "metadata": {},
   "outputs": [
    {
     "name": "stdout",
     "output_type": "stream",
     "text": [
      "False\n",
      "True\n",
      "True\n",
      "True\n",
      "True\n"
     ]
    }
   ],
   "source": [
    "import re\n",
    "\n",
    "def is_match(text, pattern):\n",
    "    import re\n",
    "    if re.match(\"^\"+pattern+\"$\", text):\n",
    "        return True\n",
    "    return False\n",
    "\n",
    "inputs = \"\"\"input:  text = \"aa\", pattern = \"a\"\n",
    "output: false\n",
    "\n",
    "input:  text = \"aa\", pattern = \"aa\"\n",
    "output: true\n",
    "\n",
    "input:  text = \"abc\", pattern = \"a.c\"\n",
    "output: true\n",
    "\n",
    "input:  text = \"abbb\", pattern = \"ab*\"\n",
    "output: true\n",
    "\n",
    "input:  text = \"acd\", pattern = \"ab*c.\"\n",
    "output: true\"\"\"\n",
    "\n",
    "texts = re.findall(r'text = \\\"(.+?)\\\"', inputs)\n",
    "patterns = re.findall(r'pattern = \\\"(.+?)\\\"', inputs)\n",
    "\n",
    "for t,p in zip(texts, patterns):\n",
    "    print(is_match(t,p))"
   ]
  },
  {
   "cell_type": "code",
   "execution_count": 25,
   "metadata": {},
   "outputs": [
    {
     "data": {
      "text/plain": [
       "['aa', 'aa', 'abc', 'abbb', 'acd']"
      ]
     },
     "execution_count": 25,
     "metadata": {},
     "output_type": "execute_result"
    }
   ],
   "source": [
    "parsed_text"
   ]
  },
  {
   "cell_type": "code",
   "execution_count": 29,
   "metadata": {},
   "outputs": [
    {
     "data": {
      "text/plain": [
       "['aa', 'aa', 'abc', 'abbb', 'acd']"
      ]
     },
     "execution_count": 29,
     "metadata": {},
     "output_type": "execute_result"
    }
   ],
   "source": [
    "texts"
   ]
  },
  {
   "cell_type": "code",
   "execution_count": 30,
   "metadata": {},
   "outputs": [
    {
     "data": {
      "text/plain": [
       "['a', 'aa', 'a.c', 'ab*', 'ab*c.']"
      ]
     },
     "execution_count": 30,
     "metadata": {},
     "output_type": "execute_result"
    }
   ],
   "source": [
    "patterns"
   ]
  },
  {
   "cell_type": "code",
   "execution_count": 47,
   "metadata": {},
   "outputs": [
    {
     "name": "stdout",
     "output_type": "stream",
     "text": [
      "5.21 µs ± 154 ns per loop (mean ± std. dev. of 7 runs, 100000 loops each)\n"
     ]
    }
   ],
   "source": [
    "def linear_min(l):\n",
    "    min_n = l[0]\n",
    "    for i in range(1,len(l)):\n",
    "        min_n = min((l[i], min_n))\n",
    "    return min_n\n",
    "\n",
    "def quadratic_min(l):\n",
    "    is_min = False\n",
    "    for i in range(len(l)):\n",
    "        is_min = True\n",
    "        for j in range(len(l)):\n",
    "            if l[i] > l[j]:\n",
    "                is_min = False\n",
    "        if is_min:\n",
    "            return l[i]\n",
    "\n",
    "test = [5,4,9,3,2,7]\n",
    "%timeit(quadratic_min(test))"
   ]
  },
  {
   "cell_type": "code",
   "execution_count": 48,
   "metadata": {},
   "outputs": [
    {
     "name": "stdout",
     "output_type": "stream",
     "text": [
      "1.92 µs ± 41.3 ns per loop (mean ± std. dev. of 7 runs, 100000 loops each)\n"
     ]
    }
   ],
   "source": [
    "%timeit(linear_min(test))"
   ]
  },
  {
   "cell_type": "code",
   "execution_count": 49,
   "metadata": {},
   "outputs": [
    {
     "data": {
      "text/plain": [
       "2"
      ]
     },
     "execution_count": 49,
     "metadata": {},
     "output_type": "execute_result"
    }
   ],
   "source": [
    "linear_min(test)"
   ]
  },
  {
   "cell_type": "code",
   "execution_count": 50,
   "metadata": {},
   "outputs": [
    {
     "data": {
      "text/plain": [
       "0.0002"
      ]
     },
     "execution_count": 50,
     "metadata": {},
     "output_type": "execute_result"
    }
   ],
   "source": [
    "1/5000"
   ]
  },
  {
   "cell_type": "code",
   "execution_count": null,
   "metadata": {
    "collapsed": true
   },
   "outputs": [],
   "source": [
    "def transactionsStability(t):\n",
    "    max_t = t[0]\n",
    "    max_i = 0\n",
    "    if all(t[i]==t[i+1] for i in range(1,len(t))):\n",
    "        return t[0]\n",
    "    for i in range(len(t)):\n",
    "        if t[i] > max_t:\n",
    "            max_t = t[i]\n",
    "            max_i = i\n",
    "    t[max_i] /= 2\n",
    "    print(t)\n",
    "    return min(t)/max(t)"
   ]
  },
  {
   "cell_type": "code",
   "execution_count": 52,
   "metadata": {},
   "outputs": [
    {
     "data": {
      "text/plain": [
       "0.04"
      ]
     },
     "execution_count": 52,
     "metadata": {},
     "output_type": "execute_result"
    }
   ],
   "source": [
    "2/50"
   ]
  },
  {
   "cell_type": "code",
   "execution_count": null,
   "metadata": {
    "collapsed": true
   },
   "outputs": [],
   "source": []
  }
 ],
 "metadata": {
  "kernelspec": {
   "display_name": "Python [conda env:py36]",
   "language": "python",
   "name": "conda-env-py36-py"
  },
  "language_info": {
   "codemirror_mode": {
    "name": "ipython",
    "version": 3
   },
   "file_extension": ".py",
   "mimetype": "text/x-python",
   "name": "python",
   "nbconvert_exporter": "python",
   "pygments_lexer": "ipython3",
   "version": "3.6.1"
  },
  "toc": {
   "nav_menu": {},
   "number_sections": true,
   "sideBar": true,
   "skip_h1_title": false,
   "toc_cell": false,
   "toc_position": {},
   "toc_section_display": "block",
   "toc_window_display": false
  }
 },
 "nbformat": 4,
 "nbformat_minor": 2
}
