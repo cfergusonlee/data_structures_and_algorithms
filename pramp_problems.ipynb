{
 "cells": [
  {
   "cell_type": "code",
   "execution_count": 12,
   "metadata": {},
   "outputs": [
    {
     "name": "stdout",
     "output_type": "stream",
     "text": [
      "[0, 5, 4, 3, 2, 1, 1, 0, 10, 6, 1, 5]\n"
     ]
    },
    {
     "data": {
      "text/plain": [
       "7"
      ]
     },
     "execution_count": 12,
     "metadata": {},
     "output_type": "execute_result"
    }
   ],
   "source": [
    "def get_cheapest_cost_helper(node):\n",
    "    cur_cost = node.cost\n",
    "    child_paths = []\n",
    "    for child in node.children:\n",
    "        total_cost = get_cheapest_cost_helper(child)\n",
    "        child_paths.append(total_cost)\n",
    "    if child_paths:\n",
    "        return cur_cost + min(child_paths)\n",
    "    return cur_cost\n",
    "\n",
    "def get_cheapest_cost(rootNode):\n",
    "    return get_cheapest_cost_helper(rootNode)\n",
    "\n",
    "def dfs_helper(node):\n",
    "    branch = [node.cost]\n",
    "    for child in node.children:\n",
    "        branch += dfs_helper(child)\n",
    "    return branch\n",
    "\n",
    "def dfs(rootNode):\n",
    "    return dfs_helper(rootNode)\n",
    "\n",
    "########################################## \n",
    "# Use the helper code below to implement #\n",
    "# and test your function above           #\n",
    "##########################################\n",
    "\n",
    "# Create the tree by adding one branch at a time\n",
    "# A branch consists of a list of lists, \n",
    "# where each outter list is a level and each inner\n",
    "# list consists of all the nodes at that level\n",
    "\n",
    "# A node \n",
    "class Node:\n",
    "\n",
    "    # Constructor to create a new node\n",
    "    def __init__(self, cost):\n",
    "        self.cost = cost\n",
    "        self.children = []\n",
    "        self.parent = None\n",
    "\n",
    "honda = Node(0)\n",
    "\n",
    "# Create level 1 nodes\n",
    "for value in (5,3,6):\n",
    "    child = Node(value)\n",
    "    child.parent = honda\n",
    "    honda.children.append(child)\n",
    "\n",
    "\n",
    "\n",
    "# Create Level 2 Nodes\n",
    "for i, level in enumerate([[4], [2, 0], [1, 5]]):\n",
    "    for v, value in enumerate(level):\n",
    "        branch = honda.children[i]\n",
    "        child = Node(value)\n",
    "        child.parent = branch\n",
    "        branch.children.append(child)\n",
    "        # Create Level 3 for middle branch\n",
    "        if i==1:\n",
    "            extra = [1, 10]            \n",
    "            grand_child = Node(extra[v])\n",
    "            grand_child.parent = child\n",
    "            child.children.append(grand_child)\n",
    "            # Create Level 4 for longest branch\n",
    "            if v==0:\n",
    "                great_grand_child = Node(1)\n",
    "                great_grand_child.parent = grand_child\n",
    "                grand_child.children.append(great_grand_child)\n",
    "        \n",
    "print(dfs(honda))\n",
    "get_cheapest_cost_helper(honda)"
   ]
  },
  {
   "cell_type": "markdown",
   "metadata": {},
   "source": [
    "## Basic Regex Parser\n",
    "\n",
    "Implement a regular expression function isMatch that supports the '.' and '*' symbols. The function receives two strings - text and pattern - and should return true if the text matches the pattern as a regular expression. For simplicity, assume that the actual symbols '.' and '*' do not appear in the text string and are used as special symbols only in the pattern string.\n",
    "\n",
    "In case you aren’t familiar with regular expressions, the function determines if the text and pattern are the equal, where the '.' is treated as a single a character wildcard (see third example), and '*' is matched for a zero or more sequence of the previous letter (see fourth and fifth examples). For more information on regular expression matching, see the Regular Expression Wikipedia page.\n",
    "\n",
    "Explain your algorithm, and analyze its time and space complexities.\n",
    "\n",
    "Examples:\n",
    "\n",
    "input:  text = \"aa\", pattern = \"a\"\n",
    "output: false\n",
    "\n",
    "input:  text = \"aa\", pattern = \"aa\"\n",
    "output: true\n",
    "\n",
    "input:  text = \"abc\", pattern = \"a.c\"\n",
    "output: true\n",
    "\n",
    "input:  text = \"abbb\", pattern = \"ab*\"\n",
    "output: true\n",
    "\n",
    "input:  text = \"acd\", pattern = \"ab*c.\"\n",
    "output: true\n",
    "\n",
    "Constraints:\n",
    "\n",
    "    [time limit] 5000ms\n",
    "    [input] string text\n",
    "    [input] string pattern\n",
    "    [output] boolean\n",
    "\n",
    "     \n"
   ]
  },
  {
   "cell_type": "code",
   "execution_count": 36,
   "metadata": {},
   "outputs": [
    {
     "name": "stdout",
     "output_type": "stream",
     "text": [
      "False\n",
      "True\n",
      "True\n",
      "False\n",
      "True\n",
      "True\n"
     ]
    }
   ],
   "source": [
    "import re\n",
    "\n",
    "def is_match(text, pattern):\n",
    "    import re\n",
    "    if re.match(\"^\"+pattern+\"$\", text):\n",
    "        return True\n",
    "    return False\n",
    "\n",
    "inputs = \"\"\"input:  text = \"aa\", pattern = \"a\"\n",
    "output: false\n",
    "\n",
    "input:  text = \"aa\", pattern = \"aa\"\n",
    "output: true\n",
    "\n",
    "input:  text = \"abc\", pattern = \"a.c\"\n",
    "output: true\n",
    "\n",
    "input:  text = \"abbb\", pattern = \"ab*\"\n",
    "output: true\n",
    "\n",
    "input:  text = \"a\", pattern = \"ab*\"\n",
    "output: true\n",
    "\n",
    "input:  text = \"acd\", pattern = \"ab*c.\"\n",
    "output: true\"\"\"\n",
    "\n",
    "texts = re.findall(r'text = \\\"(.+?)\\\"', inputs)\n",
    "patterns = re.findall(r'pattern = \\\"(.+?)\\\"', inputs)\n",
    "\n",
    "for t,p in zip(texts, patterns):\n",
    "    print(is_match(t,p))"
   ]
  },
  {
   "cell_type": "code",
   "execution_count": 42,
   "metadata": {},
   "outputs": [
    {
     "name": "stdout",
     "output_type": "stream",
     "text": [
      "optional_char: \n",
      "Out of range\n",
      "False\n",
      "optional_char: \n",
      "True\n",
      "optional_char: \n",
      "True\n",
      "optional_char: b\n",
      "True\n",
      "optional_char: b\n",
      "True\n",
      "optional_char: b\n",
      "False\n"
     ]
    }
   ],
   "source": [
    "import re\n",
    "\n",
    "def is_match(text, pattern):\n",
    "    # Need to iterate through text and pattern, but they may not\n",
    "    # be the same size.\n",
    "    # Need separate counts for each string\n",
    "    \n",
    "    optional_char = \"\"\n",
    "    for i in range(len(pattern)-1):\n",
    "        if pattern[i+1]==\"*\":\n",
    "            optional_char = pattern[i]\n",
    "    print(\"optional_char:\",optional_char)\n",
    "    p = 0\n",
    "    for t in range(len(text)):\n",
    "        try:\n",
    "            if text[t] == optional_char\n",
    "                if pattern[p] == '*':\n",
    "                    p += 1\n",
    "                    continue\n",
    "                elif pattern[p] == optional_char:\n",
    "                    continue\n",
    "            elif pattern[p] == \".\" or pattern[p] == text[t]:\n",
    "                p += 1\n",
    "                continue            \n",
    "            return False\n",
    "        except:\n",
    "            print(\"Out of range\")\n",
    "            return False\n",
    "    return True\n",
    "\n",
    "inputs = \"\"\"input:  text = \"aa\", pattern = \"a\"\n",
    "output: false\n",
    "\n",
    "input:  text = \"aa\", pattern = \"aa\"\n",
    "output: true\n",
    "\n",
    "input:  text = \"abc\", pattern = \"a.c\"\n",
    "output: true\n",
    "\n",
    "input:  text = \"abbb\", pattern = \"ab*\"\n",
    "output: true\n",
    "\n",
    "input:  text = \"a\", pattern = \"ab*\"\n",
    "output: true\n",
    "\n",
    "input:  text = \"acd\", pattern = \"ab*c.\"\n",
    "output: true\"\"\"\n",
    "\n",
    "texts = re.findall(r'text = \\\"(.+?)\\\"', inputs)\n",
    "patterns = re.findall(r'pattern = \\\"(.+?)\\\"', inputs)\n",
    "\n",
    "for t,p in zip(texts, patterns):\n",
    "    print(is_match(t,p))"
   ]
  },
  {
   "cell_type": "code",
   "execution_count": 32,
   "metadata": {},
   "outputs": [
    {
     "name": "stdout",
     "output_type": "stream",
     "text": [
      "False\n",
      "True\n",
      "True\n",
      "True\n",
      "True\n"
     ]
    }
   ],
   "source": [
    "import re\n",
    "\n",
    "def is_match(text, pattern):\n",
    "    import re\n",
    "    if re.match(\"^\"+pattern+\"$\", text):\n",
    "        return True\n",
    "    return False\n",
    "\n",
    "inputs = \"\"\"input:  text = \"aa\", pattern = \"a\"\n",
    "output: false\n",
    "\n",
    "input:  text = \"aa\", pattern = \"aa\"\n",
    "output: true\n",
    "\n",
    "input:  text = \"abc\", pattern = \"a.c\"\n",
    "output: true\n",
    "\n",
    "input:  text = \"abbb\", pattern = \"ab*\"\n",
    "output: true\n",
    "\n",
    "input:  text = \"acd\", pattern = \"ab*c.\"\n",
    "output: true\"\"\"\n",
    "\n",
    "texts = re.findall(r'text = \\\"(.+?)\\\"', inputs)\n",
    "patterns = re.findall(r'pattern = \\\"(.+?)\\\"', inputs)\n",
    "\n",
    "for t,p in zip(texts, patterns):\n",
    "    print(is_match(t,p))"
   ]
  },
  {
   "cell_type": "code",
   "execution_count": 25,
   "metadata": {},
   "outputs": [
    {
     "data": {
      "text/plain": [
       "['aa', 'aa', 'abc', 'abbb', 'acd']"
      ]
     },
     "execution_count": 25,
     "metadata": {},
     "output_type": "execute_result"
    }
   ],
   "source": [
    "parsed_text"
   ]
  },
  {
   "cell_type": "code",
   "execution_count": 29,
   "metadata": {},
   "outputs": [
    {
     "data": {
      "text/plain": [
       "['aa', 'aa', 'abc', 'abbb', 'acd']"
      ]
     },
     "execution_count": 29,
     "metadata": {},
     "output_type": "execute_result"
    }
   ],
   "source": [
    "texts"
   ]
  },
  {
   "cell_type": "code",
   "execution_count": 30,
   "metadata": {},
   "outputs": [
    {
     "data": {
      "text/plain": [
       "['a', 'aa', 'a.c', 'ab*', 'ab*c.']"
      ]
     },
     "execution_count": 30,
     "metadata": {},
     "output_type": "execute_result"
    }
   ],
   "source": [
    "patterns"
   ]
  },
  {
   "cell_type": "code",
   "execution_count": 47,
   "metadata": {},
   "outputs": [
    {
     "name": "stdout",
     "output_type": "stream",
     "text": [
      "5.21 µs ± 154 ns per loop (mean ± std. dev. of 7 runs, 100000 loops each)\n"
     ]
    }
   ],
   "source": [
    "def linear_min(l):\n",
    "    min_n = l[0]\n",
    "    for i in range(1,len(l)):\n",
    "        min_n = min((l[i], min_n))\n",
    "    return min_n\n",
    "\n",
    "def quadratic_min(l):\n",
    "    is_min = False\n",
    "    for i in range(len(l)):\n",
    "        is_min = True\n",
    "        for j in range(len(l)):\n",
    "            if l[i] > l[j]:\n",
    "                is_min = False\n",
    "        if is_min:\n",
    "            return l[i]\n",
    "\n",
    "test = [5,4,9,3,2,7]\n",
    "%timeit(quadratic_min(test))"
   ]
  },
  {
   "cell_type": "code",
   "execution_count": 48,
   "metadata": {},
   "outputs": [
    {
     "name": "stdout",
     "output_type": "stream",
     "text": [
      "1.92 µs ± 41.3 ns per loop (mean ± std. dev. of 7 runs, 100000 loops each)\n"
     ]
    }
   ],
   "source": [
    "%timeit(linear_min(test))"
   ]
  },
  {
   "cell_type": "code",
   "execution_count": 49,
   "metadata": {},
   "outputs": [
    {
     "data": {
      "text/plain": [
       "2"
      ]
     },
     "execution_count": 49,
     "metadata": {},
     "output_type": "execute_result"
    }
   ],
   "source": [
    "linear_min(test)"
   ]
  },
  {
   "cell_type": "code",
   "execution_count": 50,
   "metadata": {},
   "outputs": [
    {
     "data": {
      "text/plain": [
       "0.0002"
      ]
     },
     "execution_count": 50,
     "metadata": {},
     "output_type": "execute_result"
    }
   ],
   "source": [
    "1/5000"
   ]
  },
  {
   "cell_type": "code",
   "execution_count": null,
   "metadata": {
    "collapsed": true
   },
   "outputs": [],
   "source": [
    "def transactionsStability(t):\n",
    "    max_t = t[0]\n",
    "    max_i = 0\n",
    "    if all(t[i]==t[i+1] for i in range(1,len(t))):\n",
    "        return t[0]\n",
    "    for i in range(len(t)):\n",
    "        if t[i] > max_t:\n",
    "            max_t = t[i]\n",
    "            max_i = i\n",
    "    t[max_i] /= 2\n",
    "    print(t)\n",
    "    return min(t)/max(t)"
   ]
  },
  {
   "cell_type": "code",
   "execution_count": 52,
   "metadata": {},
   "outputs": [
    {
     "data": {
      "text/plain": [
       "0.04"
      ]
     },
     "execution_count": 52,
     "metadata": {},
     "output_type": "execute_result"
    }
   ],
   "source": [
    "2/50"
   ]
  },
  {
   "cell_type": "code",
   "execution_count": 2,
   "metadata": {},
   "outputs": [
    {
     "data": {
      "text/plain": [
       "6"
      ]
     },
     "execution_count": 2,
     "metadata": {},
     "output_type": "execute_result"
    }
   ],
   "source": [
    "def get_number_of_islands(mat):\n",
    "    # Use bfs to search for adjacent land masses\n",
    "    # Each time you get to a node, find all its neighbors\n",
    "    # Iterate through the matrix and conduct a bfs if one hasn't been\n",
    "    # performed on that cell already\n",
    "    # Create a counter variable that keeps track of the number\n",
    "    # of bfs's performed.\n",
    "    # At the end, return this counter variable\n",
    "    \n",
    "    def check_neighbors(cell):\n",
    "        # Input: cell (row and column)\n",
    "        # Output: number of possible neighbors\n",
    "        \n",
    "        r, c = cell\n",
    "        neighbors = []\n",
    "        if r > 0:\n",
    "            neighbors.append([r-1,c])\n",
    "        if r < len(mat)-1:\n",
    "            neighbors.append([r+1,c])\n",
    "        if c > 0:\n",
    "            neighbors.append([r,c-1])\n",
    "        if c < len(mat[0])-1:\n",
    "            neighbors.append([r,c+1])\n",
    "        return neighbors\n",
    "    \n",
    "    def bfs(cell):\n",
    "        x,y = cell\n",
    "        mat[x][y] = -1\n",
    "        queue = [cell]\n",
    "        \n",
    "        def enqueue(cell):\n",
    "            queue.append(cell)\n",
    "            \n",
    "            \n",
    "        while queue:\n",
    "            node = queue.pop(0)\n",
    "            neighbors = check_neighbors(node)\n",
    "            for neighbor in neighbors:\n",
    "                r,c = neighbor\n",
    "                if mat[r][c] == 1:\n",
    "                    mat[r][c] = -1\n",
    "                    enqueue([r,c])\n",
    "                    \n",
    "        return mat\n",
    "    \n",
    "    num_islands = 0\n",
    "    \n",
    "    for i in range(len(mat)):\n",
    "        for j in range(len(mat[0])):\n",
    "            if mat[i][j] == 1:\n",
    "                num_islands += 1\n",
    "                bfs([i,j])\n",
    "    \n",
    "    \n",
    "    return num_islands\n",
    "\n",
    "\n",
    "binaryMatrix = [ [0,    1,    0,    1,    0],\n",
    "                 [0,    0,    1,    1,    1],\n",
    "                 [1,    0,    0,    1,    0],\n",
    "                 [0,    1,    1,    0,    0],\n",
    "                 [1,    0,    1,    0,    1] ]\n",
    "\n",
    "\n",
    "get_number_of_islands(binaryMatrix)"
   ]
  },
  {
   "cell_type": "code",
   "execution_count": null,
   "metadata": {
    "collapsed": true
   },
   "outputs": [],
   "source": [
    "\"friogboy\"\n",
    "\"smallfrogman\"\n",
    "\n",
    "\"friogboy\" 4\n",
    "\"smallfrog\" 5\n",
    "\n",
    "\n",
    "\n",
    "def deletion_distance(str1, str2):\n",
    "    # Iterate backwords through str1\n",
    "    # If the last chars are equal, delete them from both strings\n",
    "    # Else, delete the last char from the first string only\n",
    "    \n",
    "    def iter_del(a,b):\n",
    "    i = len(a)-1\n",
    "    while a != \"\":\n",
    "        if a[i] == b[i]:\n",
    "            a = a[:i]\n",
    "            b = b[:i]\n",
    "        else:\n",
    "            a = a[:i]\n",
    "        print(a)\n",
    "    return len(b)\n",
    "\n",
    "    dist1 = iter_del(str1, str2)\n",
    "    dist2 = iter_del(str2, str1)\n",
    "    return dist1 + dist2\n",
    "\n",
    "    \n",
    "\n",
    "print(deletion_distance(\"dog\", \"frog\"))"
   ]
  },
  {
   "cell_type": "code",
   "execution_count": 43,
   "metadata": {},
   "outputs": [
    {
     "data": {
      "text/plain": [
       "1"
      ]
     },
     "execution_count": 43,
     "metadata": {},
     "output_type": "execute_result"
    }
   ],
   "source": [
    "def count_paths_helper(mat, pos):\n",
    "    # \n",
    "\n",
    "    \n"
   ]
  },
  {
   "cell_type": "code",
   "execution_count": 71,
   "metadata": {},
   "outputs": [
    {
     "name": "stdout",
     "output_type": "stream",
     "text": [
      "1\n",
      "2\n",
      "3\n",
      "4\n",
      "5\n",
      "6\n",
      "7\n",
      "8\n",
      "9\n",
      "10\n",
      "11\n",
      "12\n",
      "13\n",
      "14\n",
      "15\n",
      "16\n",
      "17\n",
      "18\n",
      "19\n",
      "20\n",
      "21\n",
      "22\n",
      "23\n",
      "24\n",
      "25\n",
      "26\n",
      "27\n",
      "28\n",
      "29\n",
      "30\n",
      "31\n",
      "32\n",
      "33\n",
      "34\n",
      "35\n",
      "36\n",
      "37\n",
      "38\n",
      "39\n",
      "40\n",
      "41\n",
      "42\n",
      "43\n",
      "44\n",
      "45\n",
      "46\n",
      "47\n",
      "48\n",
      "49\n",
      "50\n",
      "51\n",
      "52\n",
      "53\n",
      "54\n",
      "55\n",
      "56\n",
      "57\n",
      "58\n",
      "59\n",
      "60\n",
      "61\n",
      "62\n",
      "63\n",
      "64\n",
      "65\n",
      "66\n",
      "67\n",
      "68\n",
      "69\n",
      "70\n",
      "71\n",
      "72\n",
      "73\n",
      "74\n",
      "75\n",
      "76\n",
      "77\n",
      "78\n",
      "79\n",
      "80\n",
      "81\n",
      "82\n",
      "83\n",
      "84\n",
      "85\n",
      "86\n",
      "87\n",
      "88\n",
      "89\n",
      "90\n",
      "91\n"
     ]
    },
    {
     "data": {
      "text/plain": [
       "27"
      ]
     },
     "execution_count": 71,
     "metadata": {},
     "output_type": "execute_result"
    }
   ],
   "source": [
    "def valid_square(mat, row, col, paths):\n",
    "    if 0 <= row < len(mat) and 0 <= col < len(mat[0]):\n",
    "        return mat[row][col] == 0\n",
    "    return False\n",
    "\n",
    "def is_at_end(mat, row, col, paths):\n",
    "    return row==7 and col == 7\n",
    "\n",
    "\n",
    "\n",
    "def count_paths(mat, row, col, paths):\n",
    "    d[\"calls\"] += 1\n",
    "    print(d[\"calls\"])\n",
    "    # recursive solution for path counting problem\n",
    "    if not valid_square(mat, row, col, paths):\n",
    "        return 0\n",
    "    if is_at_end(mat, row, col, paths):\n",
    "        return 1\n",
    "    if paths[row][col] == 0:\n",
    "        paths[row][col] = count_paths(mat, row+1, col, paths) + count_paths(mat, row, col+1, paths)\n",
    "    return paths[row][col]\n",
    "\n",
    "matrix = [\n",
    "    [0, 0, 0, 0, 0, 0, 0, 0],\n",
    "    [0, 0, 1, 0, 0, 0, 1, 0],\n",
    "    [0, 0, 0, 0, 1, 0, 0, 0],\n",
    "    [1, 0, 1, 0, 0, 1, 0, 0],\n",
    "    [0, 0, 1, 0, 0, 0, 0, 0],\n",
    "    [0, 0, 0, 1, 1, 0, 1, 0],\n",
    "    [0, 1, 0, 0, 0, 1, 0, 0],\n",
    "    [0, 0, 0, 0, 0, 0, 0, 0],\n",
    "]\n",
    "d = {}\n",
    "d[\"calls\"] = 0\n",
    "paths = [[0 for i in range(8)] for j in range(8)]\n",
    "\n",
    "count_paths(matrix, 0, 0, paths)\n",
    "    "
   ]
  },
  {
   "cell_type": "code",
   "execution_count": 68,
   "metadata": {},
   "outputs": [
    {
     "name": "stdout",
     "output_type": "stream",
     "text": [
      "[[0, 0, 0, 0, 0, 0, 0, 0], [0, 0, 0, 0, 0, 0, 0, 0], [0, 0, 0, 0, 0, 0, 0, 0], [0, 0, 0, 0, 0, 0, 0, 0], [0, 0, 0, 0, 0, 0, 0, 0], [0, 0, 0, 0, 0, 0, 0, 0], [0, 0, 0, 0, 0, 0, 0, 0], [0, 0, 0, 0, 0, 0, 0, 0]]\n"
     ]
    }
   ],
   "source": [
    "print([[0 for i in range(8)] for j in range(8)])"
   ]
  },
  {
   "cell_type": "code",
   "execution_count": 28,
   "metadata": {
    "collapsed": true
   },
   "outputs": [],
   "source": []
  },
  {
   "cell_type": "code",
   "execution_count": 5,
   "metadata": {},
   "outputs": [
    {
     "name": "stdout",
     "output_type": "stream",
     "text": [
      "['__call__', '__class__', '__delattr__', '__dir__', '__doc__', '__eq__', '__format__', '__func__', '__ge__', '__get__', '__getattribute__', '__gt__', '__hash__', '__init__', '__init_subclass__', '__le__', '__lt__', '__ne__', '__new__', '__reduce__', '__reduce_ex__', '__repr__', '__self__', '__setattr__', '__sizeof__', '__str__', '__subclasshook__']\n"
     ]
    }
   ],
   "source": [
    "exp = turtle.Turtle()\n",
    "print(dir(exp.width))"
   ]
  },
  {
   "cell_type": "code",
   "execution_count": 33,
   "metadata": {},
   "outputs": [
    {
     "name": "stdout",
     "output_type": "stream",
     "text": [
      "130/31\n"
     ]
    }
   ],
   "source": [
    "c = list(map(int, \"4 5 6\".split()))\n",
    "base = c.pop()\n",
    "num = base\n",
    "den = 1\n",
    "def add_fract(a,num,den):\n",
    "    return a*den+num, den\n",
    "    \n",
    "while c:\n",
    "    a = c.pop()\n",
    "    num, den = den, num\n",
    "    num, den = add_fract(a,num,den)\n",
    "    \n",
    "print(\"{0}/{1}\".format(num,den))"
   ]
  },
  {
   "cell_type": "code",
   "execution_count": 7,
   "metadata": {},
   "outputs": [
    {
     "name": "stdout",
     "output_type": "stream",
     "text": [
      "0\n"
     ]
    }
   ],
   "source": [
    "def index_equals_value_helper(arr,low,high,sol):\n",
    "    if high - low < 0:\n",
    "        return sol\n",
    "    mid = int((high+low)//2)\n",
    "    val = arr[mid]\n",
    "    if val < mid:\n",
    "        low = mid + 1\n",
    "    elif val > mid:\n",
    "        high = mid - 1\n",
    "    else:\n",
    "        sol = val\n",
    "        high = val - 1\n",
    "    sol = index_equals_value_helper(arr,low,high,sol)\n",
    "    return sol\n",
    "\n",
    "def index_equals_value_search(arr):\n",
    "    low = 0\n",
    "    high = len(arr) - 1\n",
    "    sol = -1\n",
    "    return index_equals_value_helper(arr,low,high,sol)\n",
    "\n",
    "# def index_equals_value_search(arr):\n",
    "\n",
    "#     low = 0\n",
    "#     high = len(arr)-1\n",
    "\n",
    "#     sol = -1\n",
    "#     while high-low >= 0:\n",
    "#         halfway = int((high+low)//2)\n",
    "#         cur_val = arr[halfway]\n",
    "#         #print(\"low,halfway,high,sol,cur_val:\", low,halfway,high,sol,cur_val)\n",
    "#         if cur_val < halfway:\n",
    "#             low = halfway + 1\n",
    "#         elif cur_val > halfway:\n",
    "#             high = halfway - 1\n",
    "#         else:\n",
    "#             high = halfway - 1\n",
    "#             sol = cur_val\n",
    "#         #print(\"low,halfway,high,sol:\", low,halfway,high,sol)\n",
    "\n",
    "#     return sol\n",
    "      \n",
    "  \n",
    "    \n",
    "#arr = [-3,1,2,10,11,12,13]\n",
    "# arr = [0,3]\n",
    "# arr = [-8,0,2,5]\n",
    "#arr = [-1,0,3,6]\n",
    "# arr = [0]\n",
    "print(index_equals_value_search(arr))"
   ]
  },
  {
   "cell_type": "code",
   "execution_count": null,
   "metadata": {
    "collapsed": true
   },
   "outputs": [],
   "source": []
  }
 ],
 "metadata": {
  "kernelspec": {
   "display_name": "Python [conda env:py36]",
   "language": "python",
   "name": "conda-env-py36-py"
  },
  "language_info": {
   "codemirror_mode": {
    "name": "ipython",
    "version": 3
   },
   "file_extension": ".py",
   "mimetype": "text/x-python",
   "name": "python",
   "nbconvert_exporter": "python",
   "pygments_lexer": "ipython3",
   "version": "3.6.1"
  },
  "toc": {
   "nav_menu": {},
   "number_sections": true,
   "sideBar": true,
   "skip_h1_title": false,
   "toc_cell": false,
   "toc_position": {},
   "toc_section_display": "block",
   "toc_window_display": false
  }
 },
 "nbformat": 4,
 "nbformat_minor": 2
}
