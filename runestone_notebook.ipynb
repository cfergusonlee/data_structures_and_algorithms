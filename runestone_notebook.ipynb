{
 "cells": [
  {
   "cell_type": "markdown",
   "metadata": {},
   "source": [
    "# Introduction"
   ]
  },
  {
   "cell_type": "markdown",
   "metadata": {},
   "source": [
    "## Brute Force Random Monkey Algorithm"
   ]
  },
  {
   "cell_type": "code",
   "execution_count": 20,
   "metadata": {},
   "outputs": [
    {
     "name": "stdout",
     "output_type": "stream",
     "text": [
      "Best attempt: fblacjeaglciuokkhds tvpxtkzx\n",
      "Best score: 3.6%\n",
      "Best attempt: gqzqjndpqtgbgfqhek bjnteavtl\n",
      "Best score: 17.9%\n",
      "Best attempt: bophulqodkt lwzewtzkaiwewsus\n",
      "Best score: 25.0%\n",
      "Best attempt: zyfhiledrzgtiyfoik hklrlalel\n",
      "Best score: 28.6%\n",
      "Best attempt: metvtnasgmy qk  ikdotmaweasr\n",
      "Best score: 32.1%\n"
     ]
    },
    {
     "ename": "KeyboardInterrupt",
     "evalue": "",
     "output_type": "error",
     "traceback": [
      "\u001b[0;31m---------------------------------------------------------------------------\u001b[0m",
      "\u001b[0;31mKeyboardInterrupt\u001b[0m                         Traceback (most recent call last)",
      "\u001b[0;32m<ipython-input-20-30fbc0457aad>\u001b[0m in \u001b[0;36m<module>\u001b[0;34m()\u001b[0m\n\u001b[1;32m     11\u001b[0m     \u001b[0mattempt\u001b[0m \u001b[0;34m=\u001b[0m \u001b[0;34m\"\"\u001b[0m\u001b[0;34m\u001b[0m\u001b[0m\n\u001b[1;32m     12\u001b[0m     \u001b[0;32mfor\u001b[0m \u001b[0mi\u001b[0m \u001b[0;32min\u001b[0m \u001b[0mrange\u001b[0m\u001b[0;34m(\u001b[0m\u001b[0mlen\u001b[0m\u001b[0;34m(\u001b[0m\u001b[0mgoal\u001b[0m\u001b[0;34m)\u001b[0m\u001b[0;34m)\u001b[0m\u001b[0;34m:\u001b[0m\u001b[0;34m\u001b[0m\u001b[0m\n\u001b[0;32m---> 13\u001b[0;31m         \u001b[0mrand_num\u001b[0m \u001b[0;34m=\u001b[0m \u001b[0mrandint\u001b[0m\u001b[0;34m(\u001b[0m\u001b[0;36m0\u001b[0m\u001b[0;34m,\u001b[0m\u001b[0;36m26\u001b[0m\u001b[0;34m)\u001b[0m\u001b[0;34m\u001b[0m\u001b[0m\n\u001b[0m\u001b[1;32m     14\u001b[0m         \u001b[0mchar\u001b[0m \u001b[0;34m=\u001b[0m \u001b[0mletters\u001b[0m\u001b[0;34m[\u001b[0m\u001b[0mrand_num\u001b[0m\u001b[0;34m]\u001b[0m\u001b[0;34m\u001b[0m\u001b[0m\n\u001b[1;32m     15\u001b[0m         \u001b[0mattempt\u001b[0m \u001b[0;34m+=\u001b[0m \u001b[0mchar\u001b[0m\u001b[0;34m\u001b[0m\u001b[0m\n",
      "\u001b[0;32m/Users/courtneyfergusonlee/anaconda/envs/DAND/lib/python2.7/random.pyc\u001b[0m in \u001b[0;36mrandint\u001b[0;34m(self, a, b)\u001b[0m\n\u001b[1;32m    240\u001b[0m         \"\"\"\n\u001b[1;32m    241\u001b[0m \u001b[0;34m\u001b[0m\u001b[0m\n\u001b[0;32m--> 242\u001b[0;31m         \u001b[0;32mreturn\u001b[0m \u001b[0mself\u001b[0m\u001b[0;34m.\u001b[0m\u001b[0mrandrange\u001b[0m\u001b[0;34m(\u001b[0m\u001b[0ma\u001b[0m\u001b[0;34m,\u001b[0m \u001b[0mb\u001b[0m\u001b[0;34m+\u001b[0m\u001b[0;36m1\u001b[0m\u001b[0;34m)\u001b[0m\u001b[0;34m\u001b[0m\u001b[0m\n\u001b[0m\u001b[1;32m    243\u001b[0m \u001b[0;34m\u001b[0m\u001b[0m\n\u001b[1;32m    244\u001b[0m     def _randbelow(self, n, _log=_log, _int=int, _maxwidth=1L<<BPF,\n",
      "\u001b[0;32m/Users/courtneyfergusonlee/anaconda/envs/DAND/lib/python2.7/random.pyc\u001b[0m in \u001b[0;36mrandrange\u001b[0;34m(self, start, stop, step, _int, _maxwidth)\u001b[0m\n\u001b[1;32m    214\u001b[0m             \u001b[0;32mif\u001b[0m \u001b[0mwidth\u001b[0m \u001b[0;34m>=\u001b[0m \u001b[0m_maxwidth\u001b[0m\u001b[0;34m:\u001b[0m\u001b[0;34m\u001b[0m\u001b[0m\n\u001b[1;32m    215\u001b[0m                 \u001b[0;32mreturn\u001b[0m \u001b[0m_int\u001b[0m\u001b[0;34m(\u001b[0m\u001b[0mistart\u001b[0m \u001b[0;34m+\u001b[0m \u001b[0mself\u001b[0m\u001b[0;34m.\u001b[0m\u001b[0m_randbelow\u001b[0m\u001b[0;34m(\u001b[0m\u001b[0mwidth\u001b[0m\u001b[0;34m)\u001b[0m\u001b[0;34m)\u001b[0m\u001b[0;34m\u001b[0m\u001b[0m\n\u001b[0;32m--> 216\u001b[0;31m             \u001b[0;32mreturn\u001b[0m \u001b[0m_int\u001b[0m\u001b[0;34m(\u001b[0m\u001b[0mistart\u001b[0m \u001b[0;34m+\u001b[0m \u001b[0m_int\u001b[0m\u001b[0;34m(\u001b[0m\u001b[0mself\u001b[0m\u001b[0;34m.\u001b[0m\u001b[0mrandom\u001b[0m\u001b[0;34m(\u001b[0m\u001b[0;34m)\u001b[0m\u001b[0;34m*\u001b[0m\u001b[0mwidth\u001b[0m\u001b[0;34m)\u001b[0m\u001b[0;34m)\u001b[0m\u001b[0;34m\u001b[0m\u001b[0m\n\u001b[0m\u001b[1;32m    217\u001b[0m         \u001b[0;32mif\u001b[0m \u001b[0mstep\u001b[0m \u001b[0;34m==\u001b[0m \u001b[0;36m1\u001b[0m\u001b[0;34m:\u001b[0m\u001b[0;34m\u001b[0m\u001b[0m\n\u001b[1;32m    218\u001b[0m             \u001b[0;32mraise\u001b[0m \u001b[0mValueError\u001b[0m\u001b[0;34m,\u001b[0m \u001b[0;34m\"empty range for randrange() (%d,%d, %d)\"\u001b[0m \u001b[0;34m%\u001b[0m \u001b[0;34m(\u001b[0m\u001b[0mistart\u001b[0m\u001b[0;34m,\u001b[0m \u001b[0mistop\u001b[0m\u001b[0;34m,\u001b[0m \u001b[0mwidth\u001b[0m\u001b[0;34m)\u001b[0m\u001b[0;34m\u001b[0m\u001b[0m\n",
      "\u001b[0;31mKeyboardInterrupt\u001b[0m: "
     ]
    }
   ],
   "source": [
    "from random import randint\n",
    "import numpy as np\n",
    "letters = \"abcdefghijklmnopqrstuvwxyz \"\n",
    "goal = \"methinks it is like a weasel\"\n",
    "attempt = \"\"\n",
    "best_attempt = \"\"\n",
    "best_score = 0\n",
    "count = 0\n",
    "record = 0\n",
    "while attempt != goal:\n",
    "    attempt = \"\"\n",
    "    for i in range(len(goal)):\n",
    "        rand_num = randint(0,26)\n",
    "        char = letters[rand_num]\n",
    "        attempt += char\n",
    "    score = np.mean(list(a == g for a, g in zip(attempt, goal)))\n",
    "    if score > best_score:\n",
    "        best_attempt = attempt\n",
    "        best_score = score    \n",
    "    if count % 1000 == 0 and record != best_score:\n",
    "        print \"Best attempt: {}\".format(best_attempt)\n",
    "        print \"Best score: {0:0.1f}%\".format(100*best_score)\n",
    "        record = best_score\n",
    "    count += 1\n",
    "\n"
   ]
  },
  {
   "cell_type": "markdown",
   "metadata": {},
   "source": [
    "## Hillclimbing Random Monkey Algorithm"
   ]
  },
  {
   "cell_type": "code",
   "execution_count": 33,
   "metadata": {},
   "outputs": [
    {
     "name": "stdout",
     "output_type": "stream",
     "text": [
      "Best attempt: yrwsibgshhucyfzrorbynkukpjej\n",
      "Best score: 10.7%\n",
      "Best attempt: mrwsibgshhucyfzrorbynkukpjej\n",
      "Best score: 14.3%\n",
      "Best attempt: mewsibgshhucyfzrorbynkukpjej\n",
      "Best score: 17.9%\n",
      "Best attempt: metsibgshhucyfzrorbynkukpjej\n",
      "Best score: 21.4%\n",
      "Best attempt: methibgshhucyfzrorbynkukpjej\n",
      "Best score: 25.0%\n",
      "Best attempt: methingshhucyfzrorbynkukpjej\n",
      "Best score: 28.6%\n",
      "Best attempt: methinkshhucyfzrorbynkukpjej\n",
      "Best score: 32.1%\n",
      "Best attempt: methinks hucyfzrorbynkukpjej\n",
      "Best score: 35.7%\n",
      "Best attempt: methinks iucyfzrorbynkukpjej\n",
      "Best score: 39.3%\n",
      "Best attempt: methinks itcyfzrorbynkukpjej\n",
      "Best score: 42.9%\n",
      "Best attempt: methinks it yfzrorbynkukpjej\n",
      "Best score: 46.4%\n",
      "Best attempt: methinks it ifzrorbynkukpjej\n",
      "Best score: 50.0%\n",
      "Best attempt: methinks it iszrorbynkukpjej\n",
      "Best score: 53.6%\n",
      "Best attempt: methinks it is rorbynkukpjej\n",
      "Best score: 57.1%\n",
      "Best attempt: methinks it is lorbynkukpjej\n",
      "Best score: 60.7%\n",
      "Best attempt: methinks it is lirbynkukpjej\n",
      "Best score: 64.3%\n",
      "Best attempt: methinks it is likbynkukpjej\n",
      "Best score: 67.9%\n",
      "Best attempt: methinks it is likeynkukpjej\n",
      "Best score: 71.4%\n",
      "Best attempt: methinks it is like nkukpjej\n",
      "Best score: 75.0%\n",
      "Best attempt: methinks it is like akukpjej\n",
      "Best score: 78.6%\n",
      "Best attempt: methinks it is like a ukpjej\n",
      "Best score: 82.1%\n",
      "Best attempt: methinks it is like a wkpjej\n",
      "Best score: 85.7%\n",
      "Best attempt: methinks it is like a wepjej\n",
      "Best score: 89.3%\n",
      "Best attempt: methinks it is like a weajej\n",
      "Best score: 92.9%\n",
      "Best attempt: methinks it is like a weasej\n",
      "Best score: 96.4%\n",
      "Best attempt: methinks it is like a weasel\n",
      "Best score: 100.0%\n",
      "Attempts: 393\n",
      "Best attempt: methinks it is like a weasel\n",
      "Best score: 100.0%\n"
     ]
    }
   ],
   "source": [
    "from random import randint\n",
    "import numpy as np\n",
    "letters = \"abcdefghijklmnopqrstuvwxyz \"\n",
    "goal = \"methinks it is like a weasel\"\n",
    "attempt = []\n",
    "best_attempt = \"\"\n",
    "best_score = 0\n",
    "count = 0\n",
    "record = 0\n",
    "\n",
    "for i in range(len(goal)):\n",
    "    rand_num = randint(0,26)\n",
    "    char = letters[rand_num]\n",
    "    attempt.append(char)\n",
    "        \n",
    "while best_attempt != goal:\n",
    "    for i in range(len(attempt)):\n",
    "        if attempt[i] != goal[i]:\n",
    "            rand_num = randint(0,26)\n",
    "            new_letter = letters[rand_num]\n",
    "            attempt[i] = new_letter\n",
    "            break            \n",
    "            \n",
    "    score = np.mean(list(a == g for a, g in zip(attempt, goal)))\n",
    "    if score > best_score:\n",
    "        best_attempt = \"\".join(attempt)\n",
    "        best_score = score    \n",
    "    if record != best_score:\n",
    "        print \"Best attempt: {}\".format(best_attempt)\n",
    "        print \"Best score: {0:0.1f}%\".format(100*best_score)\n",
    "        record = best_score\n",
    "    count += 1\n",
    "print \"Attempts:\", count\n",
    "print \"Best attempt: {}\".format(best_attempt)\n",
    "print \"Best score: {0:0.1f}%\".format(100*best_score)\n"
   ]
  },
  {
   "cell_type": "code",
   "execution_count": 19,
   "metadata": {},
   "outputs": [
    {
     "name": "stdout",
     "output_type": "stream",
     "text": [
      "3/5\n",
      "3/4\n",
      "True\n",
      "1/8\n",
      "1/2\n",
      "1/4\n",
      "True\n",
      "False\n"
     ]
    }
   ],
   "source": [
    "class Fraction:\n",
    "    \n",
    "    def __init__(self, top, bottom):\n",
    "        \n",
    "        self.num = top\n",
    "        self.den = bottom\n",
    "        \n",
    "    def __str__(self):\n",
    "        return \"{0}/{1}\".format(self.num, self.den)\n",
    "    \n",
    "    def __eq__(self, other):\n",
    "        firstnum = self.num * other.den\n",
    "        secondnum = other.num * self.den\n",
    "        \n",
    "        return firstnum == secondnum\n",
    "    \n",
    "    def __lt__(self, other):\n",
    "        firstnum = self.num * other.den\n",
    "        secondnum = other.num * self.den\n",
    "        \n",
    "        return firstnum < secondnum\n",
    "    \n",
    "    def __gt__(self, other):\n",
    "        firstnum = self.num * other.den\n",
    "        secondnum = other.num * self.den\n",
    "        \n",
    "        return firstnum > secondnum\n",
    "    \n",
    "    def __add__(self, otherfraction):\n",
    "        new_num = self.num*otherfraction.den + self.den*otherfraction.num\n",
    "        new_den = self.den*otherfraction.den\n",
    "        return self.reduce_fract(new_num,new_den)\n",
    "    \n",
    "    def __sub__(self, otherfraction):\n",
    "        new_num = self.num*otherfraction.den - self.den*otherfraction.num\n",
    "        new_den = self.den*otherfraction.den\n",
    "        return self.reduce_fract(new_num,new_den)\n",
    "    \n",
    "    def __mul__(self, otherfraction):\n",
    "        new_num = self.num*otherfraction.num\n",
    "        new_den = self.den*otherfraction.den\n",
    "        return self.reduce_fract(new_num,new_den)\n",
    "    \n",
    "    def __truediv__(self, otherfraction):\n",
    "        new_num = self.num*otherfraction.den\n",
    "        new_den = self.den*otherfraction.num\n",
    "        return self.reduce_fract(new_num,new_den)\n",
    "        \n",
    "    def reduce_fract(self, num, den):\n",
    "        common_den = self.gcd(num, den)\n",
    "        num //= common_den\n",
    "        den //= common_den\n",
    "        return Fraction(num,den)\n",
    "        \n",
    "    \n",
    "    def gcd(self,m,n):\n",
    "        # Uses Euclid's Algorithm to find the gcd\n",
    "        while m%n != 0:\n",
    "            m, n = n, m%n\n",
    "        return n\n",
    "        \n",
    "    \n",
    "test = Fraction(3,5)\n",
    "print(test)\n",
    "f1 = Fraction(1,4)\n",
    "f2 = Fraction(1,2)\n",
    "print(f1+f2)\n",
    "\n",
    "f3 = Fraction(27, 36)\n",
    "f4 = Fraction(6,8)\n",
    "print(f3==f4)\n",
    "\n",
    "print(f1*f2)\n",
    "\n",
    "print(f1/f2)\n",
    "\n",
    "print(f2-f1)\n",
    "\n",
    "print(f1<f2)\n",
    "\n",
    "print(f1>f2)"
   ]
  },
  {
   "cell_type": "code",
   "execution_count": 18,
   "metadata": {
    "scrolled": true
   },
   "outputs": [
    {
     "name": "stdout",
     "output_type": "stream",
     "text": [
      "-1/4\n"
     ]
    }
   ],
   "source": [
    "print(f1-f2)"
   ]
  },
  {
   "cell_type": "code",
   "execution_count": null,
   "metadata": {
    "collapsed": true
   },
   "outputs": [],
   "source": []
  }
 ],
 "metadata": {
  "kernelspec": {
   "display_name": "Python [conda env:py36]",
   "language": "python",
   "name": "conda-env-py36-py"
  },
  "language_info": {
   "codemirror_mode": {
    "name": "ipython",
    "version": 3
   },
   "file_extension": ".py",
   "mimetype": "text/x-python",
   "name": "python",
   "nbconvert_exporter": "python",
   "pygments_lexer": "ipython3",
   "version": "3.6.1"
  },
  "toc": {
   "nav_menu": {},
   "number_sections": true,
   "sideBar": true,
   "skip_h1_title": false,
   "toc_cell": false,
   "toc_position": {},
   "toc_section_display": "block",
   "toc_window_display": false
  }
 },
 "nbformat": 4,
 "nbformat_minor": 2
}
