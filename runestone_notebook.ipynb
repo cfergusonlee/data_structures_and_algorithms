{
 "cells": [
  {
   "cell_type": "markdown",
   "metadata": {},
   "source": [
    "# Introduction"
   ]
  },
  {
   "cell_type": "markdown",
   "metadata": {},
   "source": [
    "## Brute Force Random Monkey Algorithm"
   ]
  },
  {
   "cell_type": "code",
   "execution_count": 2,
   "metadata": {},
   "outputs": [
    {
     "name": "stdout",
     "output_type": "stream",
     "text": [
      "Best attempt: uzcq nscmimepmmxeyvkbijdimnz\n",
      "Best score: 7.1%\n",
      "Best attempt: mmlmcpci ipunbzip u xy yabue\n",
      "Best score: 17.9%\n",
      "Best attempt: qmrwfkil bntjvglare abztrshp\n",
      "Best score: 21.4%\n",
      "Best attempt: lhirevqs pg is swaeevnhgduhh\n",
      "Best score: 25.0%\n",
      "Best attempt: mpthynayayuwiz ovlrxahkghsjd\n",
      "Best score: 28.6%\n"
     ]
    },
    {
     "ename": "KeyboardInterrupt",
     "evalue": "",
     "output_type": "error",
     "traceback": [
      "\u001b[0;31m---------------------------------------------------------------------------\u001b[0m",
      "\u001b[0;31mKeyboardInterrupt\u001b[0m                         Traceback (most recent call last)",
      "\u001b[0;32m<ipython-input-2-bc320375203b>\u001b[0m in \u001b[0;36m<module>\u001b[0;34m()\u001b[0m\n\u001b[1;32m     11\u001b[0m     \u001b[0mattempt\u001b[0m \u001b[0;34m=\u001b[0m \u001b[0;34m\"\"\u001b[0m\u001b[0;34m\u001b[0m\u001b[0m\n\u001b[1;32m     12\u001b[0m     \u001b[0;32mfor\u001b[0m \u001b[0mi\u001b[0m \u001b[0;32min\u001b[0m \u001b[0mrange\u001b[0m\u001b[0;34m(\u001b[0m\u001b[0mlen\u001b[0m\u001b[0;34m(\u001b[0m\u001b[0mgoal\u001b[0m\u001b[0;34m)\u001b[0m\u001b[0;34m)\u001b[0m\u001b[0;34m:\u001b[0m\u001b[0;34m\u001b[0m\u001b[0m\n\u001b[0;32m---> 13\u001b[0;31m         \u001b[0mrand_num\u001b[0m \u001b[0;34m=\u001b[0m \u001b[0mrandint\u001b[0m\u001b[0;34m(\u001b[0m\u001b[0;36m0\u001b[0m\u001b[0;34m,\u001b[0m\u001b[0;36m26\u001b[0m\u001b[0;34m)\u001b[0m\u001b[0;34m\u001b[0m\u001b[0m\n\u001b[0m\u001b[1;32m     14\u001b[0m         \u001b[0mchar\u001b[0m \u001b[0;34m=\u001b[0m \u001b[0mletters\u001b[0m\u001b[0;34m[\u001b[0m\u001b[0mrand_num\u001b[0m\u001b[0;34m]\u001b[0m\u001b[0;34m\u001b[0m\u001b[0m\n\u001b[1;32m     15\u001b[0m         \u001b[0mattempt\u001b[0m \u001b[0;34m+=\u001b[0m \u001b[0mchar\u001b[0m\u001b[0;34m\u001b[0m\u001b[0m\n",
      "\u001b[0;32m~/anaconda/envs/py36/lib/python3.6/random.py\u001b[0m in \u001b[0;36mrandint\u001b[0;34m(self, a, b)\u001b[0m\n\u001b[1;32m    218\u001b[0m         \"\"\"\n\u001b[1;32m    219\u001b[0m \u001b[0;34m\u001b[0m\u001b[0m\n\u001b[0;32m--> 220\u001b[0;31m         \u001b[0;32mreturn\u001b[0m \u001b[0mself\u001b[0m\u001b[0;34m.\u001b[0m\u001b[0mrandrange\u001b[0m\u001b[0;34m(\u001b[0m\u001b[0ma\u001b[0m\u001b[0;34m,\u001b[0m \u001b[0mb\u001b[0m\u001b[0;34m+\u001b[0m\u001b[0;36m1\u001b[0m\u001b[0;34m)\u001b[0m\u001b[0;34m\u001b[0m\u001b[0m\n\u001b[0m\u001b[1;32m    221\u001b[0m \u001b[0;34m\u001b[0m\u001b[0m\n\u001b[1;32m    222\u001b[0m     def _randbelow(self, n, int=int, maxsize=1<<BPF, type=type,\n",
      "\u001b[0;31mKeyboardInterrupt\u001b[0m: "
     ]
    }
   ],
   "source": [
    "from random import randint\n",
    "import numpy as np\n",
    "letters = \"abcdefghijklmnopqrstuvwxyz \"\n",
    "goal = \"methinks it is like a weasel\"\n",
    "attempt = \"\"\n",
    "best_attempt = \"\"\n",
    "best_score = 0\n",
    "count = 0\n",
    "record = 0\n",
    "while attempt != goal:\n",
    "    attempt = \"\"\n",
    "    for i in range(len(goal)):\n",
    "        rand_num = randint(0,26)\n",
    "        char = letters[rand_num]\n",
    "        attempt += char\n",
    "    score = np.mean(list(a == g for a, g in zip(attempt, goal)))\n",
    "    if score > best_score:\n",
    "        best_attempt = attempt\n",
    "        best_score = score    \n",
    "    if count % 1000 == 0 and record != best_score:\n",
    "        print(\"Best attempt: {}\".format(best_attempt))\n",
    "        print(\"Best score: {0:0.1f}%\".format(100*best_score))\n",
    "        record = best_score\n",
    "    count += 1\n",
    "\n"
   ]
  },
  {
   "cell_type": "markdown",
   "metadata": {},
   "source": [
    "## Hillclimbing Random Monkey Algorithm"
   ]
  },
  {
   "cell_type": "code",
   "execution_count": 4,
   "metadata": {},
   "outputs": [
    {
     "name": "stdout",
     "output_type": "stream",
     "text": [
      "Best attempt: mgiiczwmbhuoxvjekdymtfvumnsw\n",
      "Best score: 3.6%\n",
      "Best attempt: meiiczwmbhuoxvjekdymtfvumnsw\n",
      "Best score: 7.1%\n",
      "Best attempt: meticzwmbhuoxvjekdymtfvumnsw\n",
      "Best score: 10.7%\n",
      "Best attempt: methczwmbhuoxvjekdymtfvumnsw\n",
      "Best score: 14.3%\n",
      "Best attempt: methizwmbhuoxvjekdymtfvumnsw\n",
      "Best score: 17.9%\n",
      "Best attempt: methinwmbhuoxvjekdymtfvumnsw\n",
      "Best score: 21.4%\n",
      "Best attempt: methinkmbhuoxvjekdymtfvumnsw\n",
      "Best score: 25.0%\n",
      "Best attempt: methinksbhuoxvjekdymtfvumnsw\n",
      "Best score: 28.6%\n",
      "Best attempt: methinks huoxvjekdymtfvumnsw\n",
      "Best score: 32.1%\n",
      "Best attempt: methinks iuoxvjekdymtfvumnsw\n",
      "Best score: 35.7%\n",
      "Best attempt: methinks itoxvjekdymtfvumnsw\n",
      "Best score: 39.3%\n",
      "Best attempt: methinks it xvjekdymtfvumnsw\n",
      "Best score: 42.9%\n",
      "Best attempt: methinks it ivjekdymtfvumnsw\n",
      "Best score: 46.4%\n",
      "Best attempt: methinks it isjekdymtfvumnsw\n",
      "Best score: 50.0%\n",
      "Best attempt: methinks it is ekdymtfvumnsw\n",
      "Best score: 53.6%\n",
      "Best attempt: methinks it is lkdymtfvumnsw\n",
      "Best score: 57.1%\n",
      "Best attempt: methinks it is lidymtfvumnsw\n",
      "Best score: 60.7%\n",
      "Best attempt: methinks it is likymtfvumnsw\n",
      "Best score: 64.3%\n",
      "Best attempt: methinks it is likemtfvumnsw\n",
      "Best score: 67.9%\n",
      "Best attempt: methinks it is like tfvumnsw\n",
      "Best score: 71.4%\n",
      "Best attempt: methinks it is like afvumnsw\n",
      "Best score: 75.0%\n",
      "Best attempt: methinks it is like a vumnsw\n",
      "Best score: 78.6%\n",
      "Best attempt: methinks it is like a wumnsw\n",
      "Best score: 82.1%\n",
      "Best attempt: methinks it is like a wemnsw\n",
      "Best score: 85.7%\n",
      "Best attempt: methinks it is like a weansw\n",
      "Best score: 89.3%\n",
      "Best attempt: methinks it is like a weassw\n",
      "Best score: 92.9%\n",
      "Best attempt: methinks it is like a weasew\n",
      "Best score: 96.4%\n",
      "Best attempt: methinks it is like a weasel\n",
      "Best score: 100.0%\n",
      "Attempts: 575\n",
      "Best attempt: methinks it is like a weasel\n",
      "Best score: 100.0%\n"
     ]
    }
   ],
   "source": [
    "from random import randint\n",
    "import numpy as np\n",
    "letters = \"abcdefghijklmnopqrstuvwxyz \"\n",
    "goal = \"methinks it is like a weasel\"\n",
    "attempt = []\n",
    "best_attempt = \"\"\n",
    "best_score = 0\n",
    "count = 0\n",
    "record = 0\n",
    "\n",
    "for i in range(len(goal)):\n",
    "    rand_num = randint(0,26)\n",
    "    char = letters[rand_num]\n",
    "    attempt.append(char)\n",
    "        \n",
    "while best_attempt != goal:\n",
    "    for i in range(len(attempt)):\n",
    "        if attempt[i] != goal[i]:\n",
    "            rand_num = randint(0,26)\n",
    "            new_letter = letters[rand_num]\n",
    "            attempt[i] = new_letter\n",
    "            break            \n",
    "            \n",
    "    score = np.mean(list(a == g for a, g in zip(attempt, goal)))\n",
    "    if score > best_score:\n",
    "        best_attempt = \"\".join(attempt)\n",
    "        best_score = score    \n",
    "    if record != best_score:\n",
    "        print(\"Best attempt: {}\".format(best_attempt))\n",
    "        print(\"Best score: {0:0.1f}%\".format(100*best_score))\n",
    "        record = best_score\n",
    "    count += 1\n",
    "print(\"Attempts:\", count)\n",
    "print(\"Best attempt: {}\".format(best_attempt))\n",
    "print(\"Best score: {0:0.1f}%\".format(100*best_score))\n"
   ]
  },
  {
   "cell_type": "code",
   "execution_count": 5,
   "metadata": {},
   "outputs": [
    {
     "name": "stdout",
     "output_type": "stream",
     "text": [
      "3/5\n",
      "3/4\n",
      "True\n",
      "1/8\n",
      "1/2\n",
      "1/4\n",
      "True\n",
      "False\n"
     ]
    }
   ],
   "source": [
    "class Fraction:\n",
    "    \n",
    "    def __init__(self, top, bottom):\n",
    "        \n",
    "        self.num = top\n",
    "        self.den = bottom\n",
    "        \n",
    "    def __str__(self):\n",
    "        return \"{0}/{1}\".format(self.num, self.den)\n",
    "    \n",
    "    def __eq__(self, other):\n",
    "        firstnum = self.num * other.den\n",
    "        secondnum = other.num * self.den\n",
    "        \n",
    "        return firstnum == secondnum\n",
    "    \n",
    "    def __lt__(self, other):\n",
    "        firstnum = self.num * other.den\n",
    "        secondnum = other.num * self.den\n",
    "        \n",
    "        return firstnum < secondnum\n",
    "    \n",
    "    def __gt__(self, other):\n",
    "        firstnum = self.num * other.den\n",
    "        secondnum = other.num * self.den\n",
    "        \n",
    "        return firstnum > secondnum\n",
    "    \n",
    "    def __add__(self, otherfraction):\n",
    "        new_num = self.num*otherfraction.den + self.den*otherfraction.num\n",
    "        new_den = self.den*otherfraction.den\n",
    "        return self.reduce_fract(new_num,new_den)\n",
    "    \n",
    "    def __sub__(self, otherfraction):\n",
    "        new_num = self.num*otherfraction.den - self.den*otherfraction.num\n",
    "        new_den = self.den*otherfraction.den\n",
    "        return self.reduce_fract(new_num,new_den)\n",
    "    \n",
    "    def __mul__(self, otherfraction):\n",
    "        new_num = self.num*otherfraction.num\n",
    "        new_den = self.den*otherfraction.den\n",
    "        return self.reduce_fract(new_num,new_den)\n",
    "    \n",
    "    def __truediv__(self, otherfraction):\n",
    "        new_num = self.num*otherfraction.den\n",
    "        new_den = self.den*otherfraction.num\n",
    "        return self.reduce_fract(new_num,new_den)\n",
    "        \n",
    "    def reduce_fract(self, num, den):\n",
    "        common_den = self.gcd(num, den)\n",
    "        num //= common_den\n",
    "        den //= common_den\n",
    "        return Fraction(num,den)\n",
    "        \n",
    "    \n",
    "    def gcd(self,m,n):\n",
    "        # Uses Euclid's Algorithm to find the gcd\n",
    "        while m%n != 0:\n",
    "            m, n = n, m%n\n",
    "        return n\n",
    "        \n",
    "    \n",
    "test = Fraction(3,5)\n",
    "print(test)\n",
    "f1 = Fraction(1,4)\n",
    "f2 = Fraction(1,2)\n",
    "print(f1+f2)\n",
    "\n",
    "f3 = Fraction(27, 36)\n",
    "f4 = Fraction(6,8)\n",
    "print(f3==f4)\n",
    "\n",
    "print(f1*f2)\n",
    "\n",
    "print(f1/f2)\n",
    "\n",
    "print(f2-f1)\n",
    "\n",
    "print(f1<f2)\n",
    "\n",
    "print(f1>f2)"
   ]
  },
  {
   "cell_type": "code",
   "execution_count": 6,
   "metadata": {
    "scrolled": true
   },
   "outputs": [
    {
     "name": "stdout",
     "output_type": "stream",
     "text": [
      "-1/4\n"
     ]
    }
   ],
   "source": [
    "print(f1-f2)"
   ]
  },
  {
   "cell_type": "markdown",
   "metadata": {},
   "source": [
    "## Inheritance: Logic Gates and Circuits"
   ]
  },
  {
   "cell_type": "code",
   "execution_count": 9,
   "metadata": {
    "scrolled": true
   },
   "outputs": [
    {
     "name": "stdout",
     "output_type": "stream",
     "text": [
      "Enter Pin A input for gate G1-->1\n",
      "Enter Pin B input for gate G1-->0\n",
      "Enter Pin A input for gate G2-->1\n",
      "Enter Pin B input for gate G2-->0\n",
      "1\n"
     ]
    }
   ],
   "source": [
    "class LogicGate:\n",
    "\n",
    "    def __init__(self,n):\n",
    "        self.label = n\n",
    "        self.output = None\n",
    "\n",
    "    def getLabel(self):\n",
    "        return self.label\n",
    "\n",
    "    def getOutput(self):\n",
    "        self.output = self.performGateLogic()\n",
    "        return self.output\n",
    "    \n",
    "class BinaryGate(LogicGate):\n",
    "    \n",
    "    def __init__(self,n):\n",
    "        super().__init__(n)\n",
    "        \n",
    "        self.pinA = None\n",
    "        self.pinB = None\n",
    "        \n",
    "    def getPinA(self):\n",
    "        if self.pinA == None:\n",
    "            return int(input(\"Enter Pin A input for gate \"+ self.getLabel() +\"-->\"))\n",
    "        else:\n",
    "            return self.pinA.getFrom().getOutput()\n",
    "    \n",
    "    def getPinB(self):\n",
    "        if self.pinB == None:\n",
    "            return int(input(\"Enter Pin B input for gate \"+ self.getLabel() +\"-->\"))\n",
    "        else:\n",
    "            return self.pinB.getFrom().getOutput()\n",
    "    \n",
    "    def setNextPin(self,source):\n",
    "        if self.pinA == None:\n",
    "            self.pinA = source\n",
    "        else:\n",
    "            if self.pinB == None:\n",
    "                self.pinB = source\n",
    "            else:\n",
    "               raise RuntimeError(\"Error: NO EMPTY PINS\")\n",
    "\n",
    "class UnaryGate(LogicGate):\n",
    "    \n",
    "    def __init__(self,n):\n",
    "        super().__init__(n)\n",
    "        \n",
    "        self.pin = None\n",
    "        \n",
    "    def getPin(self):\n",
    "        if self.pin == None:\n",
    "            return int(input(\"Enter Pin input for gate \"+ self.getLabel() +\"-->\"))\n",
    "        else:\n",
    "            return self.pin.getFrom().getOutput()\n",
    "    \n",
    "    def setNextPin(self,source):\n",
    "        if self.pin == None:\n",
    "            self.pin = source\n",
    "        else:\n",
    "            raise RuntimeError(\"Error: NO EMPTY PINS\")\n",
    "    \n",
    "class AndGate(BinaryGate):\n",
    "\n",
    "    def __init__(self,n):\n",
    "        super().__init__(n)\n",
    "\n",
    "    def performGateLogic(self):\n",
    "\n",
    "        a = self.getPinA()\n",
    "        b = self.getPinB()\n",
    "        return int(a==1 and b==1)\n",
    "        \n",
    "class OrGate(BinaryGate):\n",
    "    \n",
    "    def __init__(self,n):\n",
    "        super().__init__(n)\n",
    "\n",
    "    def performGateLogic(self):\n",
    "\n",
    "        a = self.getPinA()\n",
    "        b = self.getPinB()\n",
    "        return int(a==1 or b==1)\n",
    "\n",
    "class NotGate(UnaryGate):\n",
    "    \n",
    "    def __init__(self,n):\n",
    "        super().__init__(n)\n",
    "        \n",
    "    def performGateLogic(self):\n",
    "        \n",
    "        a = self.getPin()\n",
    "        return int(not a)\n",
    "            \n",
    "class Connector:\n",
    "\n",
    "    def __init__(self, fgate, tgate):\n",
    "        self.fromgate = fgate\n",
    "        self.togate = tgate\n",
    "\n",
    "        tgate.setNextPin(self)\n",
    "\n",
    "    def getFrom(self):\n",
    "        return self.fromgate\n",
    "\n",
    "    def getTo(self):\n",
    "        return self.togate\n",
    "        \n",
    "def main():\n",
    "    g1 = AndGate(\"G1\")\n",
    "    g2 = AndGate(\"G2\")\n",
    "    g3 = OrGate(\"G3\")\n",
    "    g4 = NotGate(\"G4\")\n",
    "    c1 = Connector(g1,g3)\n",
    "    c2 = Connector(g2,g3)\n",
    "    c3 = Connector(g3,g4)\n",
    "    print(g4.getOutput())\n",
    "\n",
    "main()"
   ]
  },
  {
   "cell_type": "code",
   "execution_count": 10,
   "metadata": {},
   "outputs": [
    {
     "name": "stdout",
     "output_type": "stream",
     "text": [
      "Enter Pin A input for gate G1-->0\n",
      "Enter Pin B input for gate G1-->1\n",
      "Enter Pin A input for gate G2-->0\n",
      "Enter Pin B input for gate G2-->1\n",
      "Enter Pin A input for gate G4-->0\n",
      "Enter Pin B input for gate G4-->1\n",
      "Enter Pin A input for gate G5-->0\n",
      "Enter Pin B input for gate G5-->1\n",
      "True\n"
     ]
    }
   ],
   "source": [
    "class NorGate(OrGate):\n",
    "    \n",
    "    def __init__(self,n):\n",
    "        super().__init__(n)\n",
    "    \n",
    "    def performGateLogic(self):\n",
    "        return int(not(super().performGateLogic()))\n",
    "    \n",
    "    \n",
    "    \n",
    "class NandGate(AndGate):\n",
    "    \n",
    "    def __init__(self,n):\n",
    "        super().__init__(n)\n",
    "        \n",
    "    def performGateLogic(self):\n",
    "        return int(not(super().performGateLogic()))\n",
    "    \n",
    "g1 = NandGate(\"G1\")\n",
    "g2 = NandGate(\"G2\")\n",
    "g3 = AndGate(\"G3\")\n",
    "\n",
    "g4 = AndGate(\"G4\")\n",
    "g5 = AndGate(\"G5\")\n",
    "g6 = OrGate(\"G6\")\n",
    "g7 = NotGate(\"G7\")\n",
    "\n",
    "c1 = Connector(g1,g3)\n",
    "c2 = Connector(g2,g3)\n",
    "\n",
    "c3 = Connector(g4,g6)\n",
    "c4 = Connector(g5,g6)\n",
    "c5 = Connector(g6,g7)\n",
    "\n",
    "print(g3.getOutput() == g7.getOutput())"
   ]
  },
  {
   "cell_type": "code",
   "execution_count": 11,
   "metadata": {},
   "outputs": [
    {
     "name": "stdout",
     "output_type": "stream",
     "text": [
      "5.02 µs ± 89.2 ns per loop (mean ± std. dev. of 7 runs, 100000 loops each)\n"
     ]
    }
   ],
   "source": [
    "def linear_min(l):\n",
    "    min_n = l[0]\n",
    "    for i in range(1,len(l)):\n",
    "        min_n = min((l[i], min_n))\n",
    "    return min_n\n",
    "\n",
    "def quadratic_min(l):\n",
    "    is_min = False\n",
    "    for i in range(len(l)):\n",
    "        is_min = True\n",
    "        for j in range(len(l)):\n",
    "            if l[i] > l[j]:\n",
    "                is_min = False\n",
    "        if is_min:\n",
    "            return l[i]\n",
    "\n",
    "test = [5,4,9,3,2,7]\n",
    "%timeit(quadratic_min(test))"
   ]
  },
  {
   "cell_type": "code",
   "execution_count": 12,
   "metadata": {},
   "outputs": [
    {
     "name": "stdout",
     "output_type": "stream",
     "text": [
      "2.05 µs ± 147 ns per loop (mean ± std. dev. of 7 runs, 100000 loops each)\n"
     ]
    }
   ],
   "source": [
    "%timeit(linear_min(test))"
   ]
  },
  {
   "cell_type": "code",
   "execution_count": 13,
   "metadata": {},
   "outputs": [
    {
     "data": {
      "text/plain": [
       "2"
      ]
     },
     "execution_count": 13,
     "metadata": {},
     "output_type": "execute_result"
    }
   ],
   "source": [
    "linear_min(test)"
   ]
  },
  {
   "cell_type": "code",
   "execution_count": 14,
   "metadata": {
    "collapsed": true
   },
   "outputs": [],
   "source": [
    "def test1():\n",
    "    l = []\n",
    "    for i in range(1000):\n",
    "        l = l + [i]\n",
    "\n",
    "def test2():\n",
    "    l = []\n",
    "    for i in range(1000):\n",
    "        l.append(i)\n",
    "\n",
    "def test3():\n",
    "    l = [i for i in range(1000)]\n",
    "\n",
    "def test4():\n",
    "    l = list(range(1000))"
   ]
  },
  {
   "cell_type": "code",
   "execution_count": 16,
   "metadata": {},
   "outputs": [
    {
     "name": "stdout",
     "output_type": "stream",
     "text": [
      "1.19 ms ± 40.3 µs per loop (mean ± std. dev. of 7 runs, 1000 loops each)\n"
     ]
    }
   ],
   "source": [
    "%timeit(test1())"
   ]
  },
  {
   "cell_type": "code",
   "execution_count": 17,
   "metadata": {},
   "outputs": [
    {
     "name": "stdout",
     "output_type": "stream",
     "text": [
      "88.3 µs ± 1.09 µs per loop (mean ± std. dev. of 7 runs, 10000 loops each)\n"
     ]
    }
   ],
   "source": [
    "%timeit(test2())"
   ]
  },
  {
   "cell_type": "code",
   "execution_count": 18,
   "metadata": {},
   "outputs": [
    {
     "name": "stdout",
     "output_type": "stream",
     "text": [
      "36.7 µs ± 403 ns per loop (mean ± std. dev. of 7 runs, 10000 loops each)\n"
     ]
    }
   ],
   "source": [
    "%timeit(test3())"
   ]
  },
  {
   "cell_type": "code",
   "execution_count": 19,
   "metadata": {},
   "outputs": [
    {
     "name": "stdout",
     "output_type": "stream",
     "text": [
      "16.1 µs ± 447 ns per loop (mean ± std. dev. of 7 runs, 100000 loops each)\n"
     ]
    }
   ],
   "source": [
    "%timeit(test4())"
   ]
  },
  {
   "cell_type": "code",
   "execution_count": null,
   "metadata": {
    "collapsed": true
   },
   "outputs": [],
   "source": []
  },
  {
   "cell_type": "code",
   "execution_count": null,
   "metadata": {
    "collapsed": true
   },
   "outputs": [],
   "source": []
  },
  {
   "cell_type": "code",
   "execution_count": null,
   "metadata": {
    "collapsed": true
   },
   "outputs": [],
   "source": []
  },
  {
   "cell_type": "code",
   "execution_count": null,
   "metadata": {
    "collapsed": true
   },
   "outputs": [],
   "source": []
  },
  {
   "cell_type": "markdown",
   "metadata": {},
   "source": [
    "# "
   ]
  }
 ],
 "metadata": {
  "kernelspec": {
   "display_name": "Python [conda env:py36]",
   "language": "python",
   "name": "conda-env-py36-py"
  },
  "language_info": {
   "codemirror_mode": {
    "name": "ipython",
    "version": 3
   },
   "file_extension": ".py",
   "mimetype": "text/x-python",
   "name": "python",
   "nbconvert_exporter": "python",
   "pygments_lexer": "ipython3",
   "version": "3.6.1"
  },
  "toc": {
   "nav_menu": {},
   "number_sections": true,
   "sideBar": true,
   "skip_h1_title": false,
   "toc_cell": false,
   "toc_position": {},
   "toc_section_display": "block",
   "toc_window_display": false
  }
 },
 "nbformat": 4,
 "nbformat_minor": 2
}
