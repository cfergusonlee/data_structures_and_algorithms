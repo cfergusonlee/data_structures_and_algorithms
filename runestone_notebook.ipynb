{
 "cells": [
  {
   "cell_type": "markdown",
   "metadata": {},
   "source": [
    "# Introduction"
   ]
  },
  {
   "cell_type": "markdown",
   "metadata": {},
   "source": [
    "## Brute Force Random Monkey Algorithm"
   ]
  },
  {
   "cell_type": "code",
   "execution_count": 2,
   "metadata": {},
   "outputs": [
    {
     "name": "stdout",
     "output_type": "stream",
     "text": [
      "Best attempt: uzcq nscmimepmmxeyvkbijdimnz\n",
      "Best score: 7.1%\n",
      "Best attempt: mmlmcpci ipunbzip u xy yabue\n",
      "Best score: 17.9%\n",
      "Best attempt: qmrwfkil bntjvglare abztrshp\n",
      "Best score: 21.4%\n",
      "Best attempt: lhirevqs pg is swaeevnhgduhh\n",
      "Best score: 25.0%\n",
      "Best attempt: mpthynayayuwiz ovlrxahkghsjd\n",
      "Best score: 28.6%\n"
     ]
    },
    {
     "ename": "KeyboardInterrupt",
     "evalue": "",
     "output_type": "error",
     "traceback": [
      "\u001b[0;31m---------------------------------------------------------------------------\u001b[0m",
      "\u001b[0;31mKeyboardInterrupt\u001b[0m                         Traceback (most recent call last)",
      "\u001b[0;32m<ipython-input-2-bc320375203b>\u001b[0m in \u001b[0;36m<module>\u001b[0;34m()\u001b[0m\n\u001b[1;32m     11\u001b[0m     \u001b[0mattempt\u001b[0m \u001b[0;34m=\u001b[0m \u001b[0;34m\"\"\u001b[0m\u001b[0;34m\u001b[0m\u001b[0m\n\u001b[1;32m     12\u001b[0m     \u001b[0;32mfor\u001b[0m \u001b[0mi\u001b[0m \u001b[0;32min\u001b[0m \u001b[0mrange\u001b[0m\u001b[0;34m(\u001b[0m\u001b[0mlen\u001b[0m\u001b[0;34m(\u001b[0m\u001b[0mgoal\u001b[0m\u001b[0;34m)\u001b[0m\u001b[0;34m)\u001b[0m\u001b[0;34m:\u001b[0m\u001b[0;34m\u001b[0m\u001b[0m\n\u001b[0;32m---> 13\u001b[0;31m         \u001b[0mrand_num\u001b[0m \u001b[0;34m=\u001b[0m \u001b[0mrandint\u001b[0m\u001b[0;34m(\u001b[0m\u001b[0;36m0\u001b[0m\u001b[0;34m,\u001b[0m\u001b[0;36m26\u001b[0m\u001b[0;34m)\u001b[0m\u001b[0;34m\u001b[0m\u001b[0m\n\u001b[0m\u001b[1;32m     14\u001b[0m         \u001b[0mchar\u001b[0m \u001b[0;34m=\u001b[0m \u001b[0mletters\u001b[0m\u001b[0;34m[\u001b[0m\u001b[0mrand_num\u001b[0m\u001b[0;34m]\u001b[0m\u001b[0;34m\u001b[0m\u001b[0m\n\u001b[1;32m     15\u001b[0m         \u001b[0mattempt\u001b[0m \u001b[0;34m+=\u001b[0m \u001b[0mchar\u001b[0m\u001b[0;34m\u001b[0m\u001b[0m\n",
      "\u001b[0;32m~/anaconda/envs/py36/lib/python3.6/random.py\u001b[0m in \u001b[0;36mrandint\u001b[0;34m(self, a, b)\u001b[0m\n\u001b[1;32m    218\u001b[0m         \"\"\"\n\u001b[1;32m    219\u001b[0m \u001b[0;34m\u001b[0m\u001b[0m\n\u001b[0;32m--> 220\u001b[0;31m         \u001b[0;32mreturn\u001b[0m \u001b[0mself\u001b[0m\u001b[0;34m.\u001b[0m\u001b[0mrandrange\u001b[0m\u001b[0;34m(\u001b[0m\u001b[0ma\u001b[0m\u001b[0;34m,\u001b[0m \u001b[0mb\u001b[0m\u001b[0;34m+\u001b[0m\u001b[0;36m1\u001b[0m\u001b[0;34m)\u001b[0m\u001b[0;34m\u001b[0m\u001b[0m\n\u001b[0m\u001b[1;32m    221\u001b[0m \u001b[0;34m\u001b[0m\u001b[0m\n\u001b[1;32m    222\u001b[0m     def _randbelow(self, n, int=int, maxsize=1<<BPF, type=type,\n",
      "\u001b[0;31mKeyboardInterrupt\u001b[0m: "
     ]
    }
   ],
   "source": [
    "from random import randint\n",
    "import numpy as np\n",
    "letters = \"abcdefghijklmnopqrstuvwxyz \"\n",
    "goal = \"methinks it is like a weasel\"\n",
    "attempt = \"\"\n",
    "best_attempt = \"\"\n",
    "best_score = 0\n",
    "count = 0\n",
    "record = 0\n",
    "while attempt != goal:\n",
    "    attempt = \"\"\n",
    "    for i in range(len(goal)):\n",
    "        rand_num = randint(0,26)\n",
    "        char = letters[rand_num]\n",
    "        attempt += char\n",
    "    score = np.mean(list(a == g for a, g in zip(attempt, goal)))\n",
    "    if score > best_score:\n",
    "        best_attempt = attempt\n",
    "        best_score = score    \n",
    "    if count % 1000 == 0 and record != best_score:\n",
    "        print(\"Best attempt: {}\".format(best_attempt))\n",
    "        print(\"Best score: {0:0.1f}%\".format(100*best_score))\n",
    "        record = best_score\n",
    "    count += 1\n",
    "\n"
   ]
  },
  {
   "cell_type": "markdown",
   "metadata": {},
   "source": [
    "## Hillclimbing Random Monkey Algorithm"
   ]
  },
  {
   "cell_type": "code",
   "execution_count": 4,
   "metadata": {},
   "outputs": [
    {
     "name": "stdout",
     "output_type": "stream",
     "text": [
      "Best attempt: mgiiczwmbhuoxvjekdymtfvumnsw\n",
      "Best score: 3.6%\n",
      "Best attempt: meiiczwmbhuoxvjekdymtfvumnsw\n",
      "Best score: 7.1%\n",
      "Best attempt: meticzwmbhuoxvjekdymtfvumnsw\n",
      "Best score: 10.7%\n",
      "Best attempt: methczwmbhuoxvjekdymtfvumnsw\n",
      "Best score: 14.3%\n",
      "Best attempt: methizwmbhuoxvjekdymtfvumnsw\n",
      "Best score: 17.9%\n",
      "Best attempt: methinwmbhuoxvjekdymtfvumnsw\n",
      "Best score: 21.4%\n",
      "Best attempt: methinkmbhuoxvjekdymtfvumnsw\n",
      "Best score: 25.0%\n",
      "Best attempt: methinksbhuoxvjekdymtfvumnsw\n",
      "Best score: 28.6%\n",
      "Best attempt: methinks huoxvjekdymtfvumnsw\n",
      "Best score: 32.1%\n",
      "Best attempt: methinks iuoxvjekdymtfvumnsw\n",
      "Best score: 35.7%\n",
      "Best attempt: methinks itoxvjekdymtfvumnsw\n",
      "Best score: 39.3%\n",
      "Best attempt: methinks it xvjekdymtfvumnsw\n",
      "Best score: 42.9%\n",
      "Best attempt: methinks it ivjekdymtfvumnsw\n",
      "Best score: 46.4%\n",
      "Best attempt: methinks it isjekdymtfvumnsw\n",
      "Best score: 50.0%\n",
      "Best attempt: methinks it is ekdymtfvumnsw\n",
      "Best score: 53.6%\n",
      "Best attempt: methinks it is lkdymtfvumnsw\n",
      "Best score: 57.1%\n",
      "Best attempt: methinks it is lidymtfvumnsw\n",
      "Best score: 60.7%\n",
      "Best attempt: methinks it is likymtfvumnsw\n",
      "Best score: 64.3%\n",
      "Best attempt: methinks it is likemtfvumnsw\n",
      "Best score: 67.9%\n",
      "Best attempt: methinks it is like tfvumnsw\n",
      "Best score: 71.4%\n",
      "Best attempt: methinks it is like afvumnsw\n",
      "Best score: 75.0%\n",
      "Best attempt: methinks it is like a vumnsw\n",
      "Best score: 78.6%\n",
      "Best attempt: methinks it is like a wumnsw\n",
      "Best score: 82.1%\n",
      "Best attempt: methinks it is like a wemnsw\n",
      "Best score: 85.7%\n",
      "Best attempt: methinks it is like a weansw\n",
      "Best score: 89.3%\n",
      "Best attempt: methinks it is like a weassw\n",
      "Best score: 92.9%\n",
      "Best attempt: methinks it is like a weasew\n",
      "Best score: 96.4%\n",
      "Best attempt: methinks it is like a weasel\n",
      "Best score: 100.0%\n",
      "Attempts: 575\n",
      "Best attempt: methinks it is like a weasel\n",
      "Best score: 100.0%\n"
     ]
    }
   ],
   "source": [
    "from random import randint\n",
    "import numpy as np\n",
    "letters = \"abcdefghijklmnopqrstuvwxyz \"\n",
    "goal = \"methinks it is like a weasel\"\n",
    "attempt = []\n",
    "best_attempt = \"\"\n",
    "best_score = 0\n",
    "count = 0\n",
    "record = 0\n",
    "\n",
    "for i in range(len(goal)):\n",
    "    rand_num = randint(0,26)\n",
    "    char = letters[rand_num]\n",
    "    attempt.append(char)\n",
    "        \n",
    "while best_attempt != goal:\n",
    "    for i in range(len(attempt)):\n",
    "        if attempt[i] != goal[i]:\n",
    "            rand_num = randint(0,26)\n",
    "            new_letter = letters[rand_num]\n",
    "            attempt[i] = new_letter\n",
    "            break            \n",
    "            \n",
    "    score = np.mean(list(a == g for a, g in zip(attempt, goal)))\n",
    "    if score > best_score:\n",
    "        best_attempt = \"\".join(attempt)\n",
    "        best_score = score    \n",
    "    if record != best_score:\n",
    "        print(\"Best attempt: {}\".format(best_attempt))\n",
    "        print(\"Best score: {0:0.1f}%\".format(100*best_score))\n",
    "        record = best_score\n",
    "    count += 1\n",
    "print(\"Attempts:\", count)\n",
    "print(\"Best attempt: {}\".format(best_attempt))\n",
    "print(\"Best score: {0:0.1f}%\".format(100*best_score))\n"
   ]
  },
  {
   "cell_type": "code",
   "execution_count": 5,
   "metadata": {},
   "outputs": [
    {
     "name": "stdout",
     "output_type": "stream",
     "text": [
      "3/5\n",
      "3/4\n",
      "True\n",
      "1/8\n",
      "1/2\n",
      "1/4\n",
      "True\n",
      "False\n"
     ]
    }
   ],
   "source": [
    "class Fraction:\n",
    "    \n",
    "    def __init__(self, top, bottom):\n",
    "        \n",
    "        self.num = top\n",
    "        self.den = bottom\n",
    "        \n",
    "    def __str__(self):\n",
    "        return \"{0}/{1}\".format(self.num, self.den)\n",
    "    \n",
    "    def __eq__(self, other):\n",
    "        firstnum = self.num * other.den\n",
    "        secondnum = other.num * self.den\n",
    "        \n",
    "        return firstnum == secondnum\n",
    "    \n",
    "    def __lt__(self, other):\n",
    "        firstnum = self.num * other.den\n",
    "        secondnum = other.num * self.den\n",
    "        \n",
    "        return firstnum < secondnum\n",
    "    \n",
    "    def __gt__(self, other):\n",
    "        firstnum = self.num * other.den\n",
    "        secondnum = other.num * self.den\n",
    "        \n",
    "        return firstnum > secondnum\n",
    "    \n",
    "    def __add__(self, otherfraction):\n",
    "        new_num = self.num*otherfraction.den + self.den*otherfraction.num\n",
    "        new_den = self.den*otherfraction.den\n",
    "        return self.reduce_fract(new_num,new_den)\n",
    "    \n",
    "    def __sub__(self, otherfraction):\n",
    "        new_num = self.num*otherfraction.den - self.den*otherfraction.num\n",
    "        new_den = self.den*otherfraction.den\n",
    "        return self.reduce_fract(new_num,new_den)\n",
    "    \n",
    "    def __mul__(self, otherfraction):\n",
    "        new_num = self.num*otherfraction.num\n",
    "        new_den = self.den*otherfraction.den\n",
    "        return self.reduce_fract(new_num,new_den)\n",
    "    \n",
    "    def __truediv__(self, otherfraction):\n",
    "        new_num = self.num*otherfraction.den\n",
    "        new_den = self.den*otherfraction.num\n",
    "        return self.reduce_fract(new_num,new_den)\n",
    "        \n",
    "    def reduce_fract(self, num, den):\n",
    "        common_den = self.gcd(num, den)\n",
    "        num //= common_den\n",
    "        den //= common_den\n",
    "        return Fraction(num,den)\n",
    "        \n",
    "    \n",
    "    def gcd(self,m,n):\n",
    "        # Uses Euclid's Algorithm to find the gcd\n",
    "        while m%n != 0:\n",
    "            m, n = n, m%n\n",
    "        return n\n",
    "        \n",
    "    \n",
    "test = Fraction(3,5)\n",
    "print(test)\n",
    "f1 = Fraction(1,4)\n",
    "f2 = Fraction(1,2)\n",
    "print(f1+f2)\n",
    "\n",
    "f3 = Fraction(27, 36)\n",
    "f4 = Fraction(6,8)\n",
    "print(f3==f4)\n",
    "\n",
    "print(f1*f2)\n",
    "\n",
    "print(f1/f2)\n",
    "\n",
    "print(f2-f1)\n",
    "\n",
    "print(f1<f2)\n",
    "\n",
    "print(f1>f2)"
   ]
  },
  {
   "cell_type": "code",
   "execution_count": 6,
   "metadata": {
    "scrolled": true
   },
   "outputs": [
    {
     "name": "stdout",
     "output_type": "stream",
     "text": [
      "-1/4\n"
     ]
    }
   ],
   "source": [
    "print(f1-f2)"
   ]
  },
  {
   "cell_type": "markdown",
   "metadata": {},
   "source": [
    "## Inheritance: Logic Gates and Circuits"
   ]
  },
  {
   "cell_type": "code",
   "execution_count": 9,
   "metadata": {
    "scrolled": true
   },
   "outputs": [
    {
     "name": "stdout",
     "output_type": "stream",
     "text": [
      "Enter Pin A input for gate G1-->1\n",
      "Enter Pin B input for gate G1-->0\n",
      "Enter Pin A input for gate G2-->1\n",
      "Enter Pin B input for gate G2-->0\n",
      "1\n"
     ]
    }
   ],
   "source": [
    "class LogicGate:\n",
    "\n",
    "    def __init__(self,n):\n",
    "        self.label = n\n",
    "        self.output = None\n",
    "\n",
    "    def getLabel(self):\n",
    "        return self.label\n",
    "\n",
    "    def getOutput(self):\n",
    "        self.output = self.performGateLogic()\n",
    "        return self.output\n",
    "    \n",
    "class BinaryGate(LogicGate):\n",
    "    \n",
    "    def __init__(self,n):\n",
    "        super().__init__(n)\n",
    "        \n",
    "        self.pinA = None\n",
    "        self.pinB = None\n",
    "        \n",
    "    def getPinA(self):\n",
    "        if self.pinA == None:\n",
    "            return int(input(\"Enter Pin A input for gate \"+ self.getLabel() +\"-->\"))\n",
    "        else:\n",
    "            return self.pinA.getFrom().getOutput()\n",
    "    \n",
    "    def getPinB(self):\n",
    "        if self.pinB == None:\n",
    "            return int(input(\"Enter Pin B input for gate \"+ self.getLabel() +\"-->\"))\n",
    "        else:\n",
    "            return self.pinB.getFrom().getOutput()\n",
    "    \n",
    "    def setNextPin(self,source):\n",
    "        if self.pinA == None:\n",
    "            self.pinA = source\n",
    "        else:\n",
    "            if self.pinB == None:\n",
    "                self.pinB = source\n",
    "            else:\n",
    "               raise RuntimeError(\"Error: NO EMPTY PINS\")\n",
    "\n",
    "class UnaryGate(LogicGate):\n",
    "    \n",
    "    def __init__(self,n):\n",
    "        super().__init__(n)\n",
    "        \n",
    "        self.pin = None\n",
    "        \n",
    "    def getPin(self):\n",
    "        if self.pin == None:\n",
    "            return int(input(\"Enter Pin input for gate \"+ self.getLabel() +\"-->\"))\n",
    "        else:\n",
    "            return self.pin.getFrom().getOutput()\n",
    "    \n",
    "    def setNextPin(self,source):\n",
    "        if self.pin == None:\n",
    "            self.pin = source\n",
    "        else:\n",
    "            raise RuntimeError(\"Error: NO EMPTY PINS\")\n",
    "    \n",
    "class AndGate(BinaryGate):\n",
    "\n",
    "    def __init__(self,n):\n",
    "        super().__init__(n)\n",
    "\n",
    "    def performGateLogic(self):\n",
    "\n",
    "        a = self.getPinA()\n",
    "        b = self.getPinB()\n",
    "        return int(a==1 and b==1)\n",
    "        \n",
    "class OrGate(BinaryGate):\n",
    "    \n",
    "    def __init__(self,n):\n",
    "        super().__init__(n)\n",
    "\n",
    "    def performGateLogic(self):\n",
    "\n",
    "        a = self.getPinA()\n",
    "        b = self.getPinB()\n",
    "        return int(a==1 or b==1)\n",
    "\n",
    "class NotGate(UnaryGate):\n",
    "    \n",
    "    def __init__(self,n):\n",
    "        super().__init__(n)\n",
    "        \n",
    "    def performGateLogic(self):\n",
    "        \n",
    "        a = self.getPin()\n",
    "        return int(not a)\n",
    "            \n",
    "class Connector:\n",
    "\n",
    "    def __init__(self, fgate, tgate):\n",
    "        self.fromgate = fgate\n",
    "        self.togate = tgate\n",
    "\n",
    "        tgate.setNextPin(self)\n",
    "\n",
    "    def getFrom(self):\n",
    "        return self.fromgate\n",
    "\n",
    "    def getTo(self):\n",
    "        return self.togate\n",
    "        \n",
    "def main():\n",
    "    g1 = AndGate(\"G1\")\n",
    "    g2 = AndGate(\"G2\")\n",
    "    g3 = OrGate(\"G3\")\n",
    "    g4 = NotGate(\"G4\")\n",
    "    c1 = Connector(g1,g3)\n",
    "    c2 = Connector(g2,g3)\n",
    "    c3 = Connector(g3,g4)\n",
    "    print(g4.getOutput())\n",
    "\n",
    "main()"
   ]
  },
  {
   "cell_type": "code",
   "execution_count": 10,
   "metadata": {},
   "outputs": [
    {
     "name": "stdout",
     "output_type": "stream",
     "text": [
      "Enter Pin A input for gate G1-->0\n",
      "Enter Pin B input for gate G1-->1\n",
      "Enter Pin A input for gate G2-->0\n",
      "Enter Pin B input for gate G2-->1\n",
      "Enter Pin A input for gate G4-->0\n",
      "Enter Pin B input for gate G4-->1\n",
      "Enter Pin A input for gate G5-->0\n",
      "Enter Pin B input for gate G5-->1\n",
      "True\n"
     ]
    }
   ],
   "source": [
    "class NorGate(OrGate):\n",
    "    \n",
    "    def __init__(self,n):\n",
    "        super().__init__(n)\n",
    "    \n",
    "    def performGateLogic(self):\n",
    "        return int(not(super().performGateLogic()))\n",
    "    \n",
    "    \n",
    "    \n",
    "class NandGate(AndGate):\n",
    "    \n",
    "    def __init__(self,n):\n",
    "        super().__init__(n)\n",
    "        \n",
    "    def performGateLogic(self):\n",
    "        return int(not(super().performGateLogic()))\n",
    "    \n",
    "g1 = NandGate(\"G1\")\n",
    "g2 = NandGate(\"G2\")\n",
    "g3 = AndGate(\"G3\")\n",
    "\n",
    "g4 = AndGate(\"G4\")\n",
    "g5 = AndGate(\"G5\")\n",
    "g6 = OrGate(\"G6\")\n",
    "g7 = NotGate(\"G7\")\n",
    "\n",
    "c1 = Connector(g1,g3)\n",
    "c2 = Connector(g2,g3)\n",
    "\n",
    "c3 = Connector(g4,g6)\n",
    "c4 = Connector(g5,g6)\n",
    "c5 = Connector(g6,g7)\n",
    "\n",
    "print(g3.getOutput() == g7.getOutput())"
   ]
  },
  {
   "cell_type": "markdown",
   "metadata": {},
   "source": [
    "# Analysis "
   ]
  },
  {
   "cell_type": "code",
   "execution_count": 11,
   "metadata": {},
   "outputs": [
    {
     "name": "stdout",
     "output_type": "stream",
     "text": [
      "5.02 µs ± 89.2 ns per loop (mean ± std. dev. of 7 runs, 100000 loops each)\n"
     ]
    }
   ],
   "source": [
    "def linear_min(l):\n",
    "    min_n = l[0]\n",
    "    for i in range(1,len(l)):\n",
    "        min_n = min((l[i], min_n))\n",
    "    return min_n\n",
    "\n",
    "def quadratic_min(l):\n",
    "    is_min = False\n",
    "    for i in range(len(l)):\n",
    "        is_min = True\n",
    "        for j in range(len(l)):\n",
    "            if l[i] > l[j]:\n",
    "                is_min = False\n",
    "        if is_min:\n",
    "            return l[i]\n",
    "\n",
    "test = [5,4,9,3,2,7]\n",
    "%timeit(quadratic_min(test))"
   ]
  },
  {
   "cell_type": "code",
   "execution_count": 12,
   "metadata": {},
   "outputs": [
    {
     "name": "stdout",
     "output_type": "stream",
     "text": [
      "2.05 µs ± 147 ns per loop (mean ± std. dev. of 7 runs, 100000 loops each)\n"
     ]
    }
   ],
   "source": [
    "%timeit(linear_min(test))"
   ]
  },
  {
   "cell_type": "code",
   "execution_count": 13,
   "metadata": {},
   "outputs": [
    {
     "data": {
      "text/plain": [
       "2"
      ]
     },
     "execution_count": 13,
     "metadata": {},
     "output_type": "execute_result"
    }
   ],
   "source": [
    "linear_min(test)"
   ]
  },
  {
   "cell_type": "code",
   "execution_count": 14,
   "metadata": {
    "collapsed": true
   },
   "outputs": [],
   "source": [
    "def test1():\n",
    "    l = []\n",
    "    for i in range(1000):\n",
    "        l = l + [i]\n",
    "\n",
    "def test2():\n",
    "    l = []\n",
    "    for i in range(1000):\n",
    "        l.append(i)\n",
    "\n",
    "def test3():\n",
    "    l = [i for i in range(1000)]\n",
    "\n",
    "def test4():\n",
    "    l = list(range(1000))"
   ]
  },
  {
   "cell_type": "code",
   "execution_count": 16,
   "metadata": {},
   "outputs": [
    {
     "name": "stdout",
     "output_type": "stream",
     "text": [
      "1.19 ms ± 40.3 µs per loop (mean ± std. dev. of 7 runs, 1000 loops each)\n"
     ]
    }
   ],
   "source": [
    "%timeit(test1())"
   ]
  },
  {
   "cell_type": "code",
   "execution_count": 17,
   "metadata": {},
   "outputs": [
    {
     "name": "stdout",
     "output_type": "stream",
     "text": [
      "88.3 µs ± 1.09 µs per loop (mean ± std. dev. of 7 runs, 10000 loops each)\n"
     ]
    }
   ],
   "source": [
    "%timeit(test2())"
   ]
  },
  {
   "cell_type": "code",
   "execution_count": 18,
   "metadata": {},
   "outputs": [
    {
     "name": "stdout",
     "output_type": "stream",
     "text": [
      "36.7 µs ± 403 ns per loop (mean ± std. dev. of 7 runs, 10000 loops each)\n"
     ]
    }
   ],
   "source": [
    "%timeit(test3())"
   ]
  },
  {
   "cell_type": "code",
   "execution_count": 19,
   "metadata": {},
   "outputs": [
    {
     "name": "stdout",
     "output_type": "stream",
     "text": [
      "16.1 µs ± 447 ns per loop (mean ± std. dev. of 7 runs, 100000 loops each)\n"
     ]
    }
   ],
   "source": [
    "%timeit(test4())"
   ]
  },
  {
   "cell_type": "markdown",
   "metadata": {},
   "source": [
    "# Basic Data Structures "
   ]
  },
  {
   "cell_type": "code",
   "execution_count": 4,
   "metadata": {},
   "outputs": [
    {
     "name": "stdout",
     "output_type": "stream",
     "text": [
      "True\n",
      "dog\n"
     ]
    }
   ],
   "source": [
    "from pythonds.basic.stack import Stack\n",
    "\n",
    "s = Stack()\n",
    "\n",
    "print(s.isEmpty())\n",
    "s.push(4)\n",
    "s.push('dog')\n",
    "print(s.peek())"
   ]
  },
  {
   "cell_type": "code",
   "execution_count": 5,
   "metadata": {},
   "outputs": [
    {
     "data": {
      "text/plain": [
       "['Stack',\n",
       " '__builtins__',\n",
       " '__cached__',\n",
       " '__doc__',\n",
       " '__file__',\n",
       " '__loader__',\n",
       " '__name__',\n",
       " '__package__',\n",
       " '__spec__']"
      ]
     },
     "execution_count": 5,
     "metadata": {},
     "output_type": "execute_result"
    }
   ],
   "source": [
    "import pythonds\n",
    "dir(pythonds.basic.stack)"
   ]
  },
  {
   "cell_type": "code",
   "execution_count": 5,
   "metadata": {},
   "outputs": [
    {
     "data": {
      "text/plain": [
       "'otoM olleH'"
      ]
     },
     "execution_count": 5,
     "metadata": {},
     "output_type": "execute_result"
    }
   ],
   "source": [
    "def revstring(mystr):\n",
    "    str_stack = Stack()\n",
    "    for l in mystr:\n",
    "        str_stack.push(l)\n",
    "    out_str = \"\"\n",
    "    while not str_stack.isEmpty():\n",
    "        out_str += str_stack.pop()\n",
    "    return out_str\n",
    "\n",
    "revstring(\"Hello Moto\")"
   ]
  },
  {
   "cell_type": "code",
   "execution_count": 80,
   "metadata": {},
   "outputs": [
    {
     "name": "stdout",
     "output_type": "stream",
     "text": [
      "A B * C D * -\n",
      "A B + C * D E - F G + * -\n",
      "5 3 4 2 - ** *\n",
      "A B C * D E - / +\n",
      "( A + B ) * ( C + D ) * ( E + F ): A B + C D + * E F + *\n"
     ]
    }
   ],
   "source": [
    "from pythonds.basic.stack import Stack\n",
    "\n",
    "def infixToPostfix(infixexpr):\n",
    "    prec = {}\n",
    "    prec[\"**\"] = 4\n",
    "    prec[\"*\"] = 3\n",
    "    prec[\"/\"] = 3\n",
    "    prec[\"+\"] = 2\n",
    "    prec[\"-\"] = 2\n",
    "    prec[\"(\"] = 1\n",
    "    opStack = Stack()\n",
    "    postfixList = []\n",
    "    tokenList = infixexpr.split()\n",
    "\n",
    "    for token in tokenList:\n",
    "        if token in \"ABCDEFGHIJKLMNOPQRSTUVWXYZ\" or token in \"0123456789\":\n",
    "            postfixList.append(token)\n",
    "        elif token == '(':\n",
    "            opStack.push(token)\n",
    "        elif token == ')':\n",
    "            topToken = opStack.pop()\n",
    "            while topToken != '(':\n",
    "                postfixList.append(topToken)\n",
    "                topToken = opStack.pop()\n",
    "        else:\n",
    "            while (not opStack.isEmpty()) and \\\n",
    "               (prec[opStack.peek()] >= prec[token]):\n",
    "                  postfixList.append(opStack.pop())\n",
    "            opStack.push(token)\n",
    "\n",
    "    while not opStack.isEmpty():\n",
    "        postfixList.append(opStack.pop())\n",
    "    return \" \".join(postfixList)\n",
    "\n",
    "5 * 3 ** (4 - 2)\n",
    "print(infixToPostfix(\"A * B - C * D\"))\n",
    "print(infixToPostfix(\"( A + B ) * C - ( D - E ) * ( F + G )\"))\n",
    "print(infixToPostfix(\"5 * 3 ** ( 4 - 2 )\"))\n",
    "print(infixToPostfix(\"A + B * C / ( D - E )\"))\n",
    "print(\"( A + B ) * ( C + D ) * ( E + F ):\", infixToPostfix(\"( A + B ) * ( C + D ) * ( E + F )\"))"
   ]
  },
  {
   "cell_type": "code",
   "execution_count": 36,
   "metadata": {},
   "outputs": [
    {
     "name": "stdout",
     "output_type": "stream",
     "text": [
      "True\n",
      "True\n",
      "True\n",
      "True\n",
      "True\n",
      "True\n",
      "True\n",
      "True\n"
     ]
    }
   ],
   "source": [
    "from pythonds.basic.queue import Queue\n",
    "\n",
    "def hotPotato(namelist, num):\n",
    "    simqueue = Queue()\n",
    "    for name in namelist:\n",
    "        simqueue.enqueue(name)\n",
    "\n",
    "    while simqueue.size() > 1:\n",
    "        for i in range(num):\n",
    "            simqueue.enqueue(simqueue.dequeue())\n",
    "\n",
    "        simqueue.dequeue()\n",
    "\n",
    "    return simqueue.dequeue()\n",
    "\n",
    "def hotPotatoMod(namelist, cycles):\n",
    "    namecopy = [name for name in namelist]\n",
    "    curpos = 0\n",
    "    while len(namecopy) > 1:\n",
    "        curpos += cycles\n",
    "        curpos %= len(namecopy)\n",
    "        namecopy.pop(curpos)\n",
    "        #curpos -= 1 \n",
    "    return namecopy.pop()\n",
    "\n",
    "names = [\"Bill\",\"David\",\"Susan\",\"Jane\",\"Kent\",\"Brad\"]\n",
    "\n",
    "for i in range(8):\n",
    "    print(hotPotatoMod(names, i) == hotPotato(names,i))\n",
    "#print(hotPotatoMod(names, 7))"
   ]
  },
  {
   "cell_type": "code",
   "execution_count": 45,
   "metadata": {},
   "outputs": [
    {
     "name": "stdout",
     "output_type": "stream",
     "text": [
      "1.87 ms ± 115 µs per loop (mean ± std. dev. of 7 runs, 1000 loops each)\n"
     ]
    }
   ],
   "source": [
    "%timeit(hotPotato(names,500))"
   ]
  },
  {
   "cell_type": "code",
   "execution_count": 46,
   "metadata": {},
   "outputs": [
    {
     "name": "stdout",
     "output_type": "stream",
     "text": [
      "2.94 µs ± 71.1 ns per loop (mean ± std. dev. of 7 runs, 100000 loops each)\n"
     ]
    }
   ],
   "source": [
    "%timeit(hotPotatoMod(names, 500))"
   ]
  },
  {
   "cell_type": "code",
   "execution_count": 41,
   "metadata": {},
   "outputs": [
    {
     "name": "stdout",
     "output_type": "stream",
     "text": [
      "Average Wait   5.31 secs   0 tasks remaining.\n",
      "Average Wait   7.39 secs   0 tasks remaining.\n",
      "Average Wait   4.97 secs   0 tasks remaining.\n",
      "Average Wait   0.92 secs   0 tasks remaining.\n",
      "Average Wait  10.68 secs   0 tasks remaining.\n",
      "Average Wait   1.52 secs   0 tasks remaining.\n",
      "Average Wait   3.71 secs   0 tasks remaining.\n",
      "Average Wait   3.57 secs   0 tasks remaining.\n",
      "Average Wait   3.90 secs   0 tasks remaining.\n",
      "Average Wait   7.49 secs   1 tasks remaining.\n"
     ]
    }
   ],
   "source": [
    "from pythonds.basic.queue import Queue\n",
    "\n",
    "import random\n",
    "\n",
    "class Printer:\n",
    "    def __init__(self, ppm):\n",
    "        self.pagerate = ppm\n",
    "        self.currentTask = None\n",
    "        self.timeRemaining = 0\n",
    "\n",
    "    def tick(self):\n",
    "        if self.currentTask != None:\n",
    "            self.timeRemaining = self.timeRemaining - 1\n",
    "            if self.timeRemaining <= 0:\n",
    "                self.currentTask = None\n",
    "\n",
    "    def busy(self):\n",
    "        if self.currentTask != None:\n",
    "            return True\n",
    "        else:\n",
    "            return False\n",
    "\n",
    "    def startNext(self,newtask):\n",
    "        self.currentTask = newtask\n",
    "        self.timeRemaining = newtask.getPages() * 60/self.pagerate\n",
    "\n",
    "class Task:\n",
    "    def __init__(self,time):\n",
    "        self.timestamp = time\n",
    "        self.pages = random.randrange(1,21)\n",
    "\n",
    "    def getStamp(self):\n",
    "        return self.timestamp\n",
    "\n",
    "    def getPages(self):\n",
    "        return self.pages\n",
    "\n",
    "    def waitTime(self, currenttime):\n",
    "        return currenttime - self.timestamp\n",
    "\n",
    "\n",
    "def simulation(numSeconds, pagesPerMinute):\n",
    "\n",
    "    labprinter = Printer(pagesPerMinute)\n",
    "    printQueue = Queue()\n",
    "    waitingtimes = []\n",
    "\n",
    "    for currentSecond in range(numSeconds):\n",
    "\n",
    "        if newPrintTask():\n",
    "            task = Task(currentSecond)\n",
    "            printQueue.enqueue(task)\n",
    "\n",
    "        if (not labprinter.busy()) and (not printQueue.isEmpty()):\n",
    "            nexttask = printQueue.dequeue()\n",
    "            waitingtimes.append( nexttask.waitTime(currentSecond))\n",
    "            labprinter.startNext(nexttask)\n",
    "\n",
    "        labprinter.tick()\n",
    "\n",
    "    averageWait=sum(waitingtimes)/len(waitingtimes)\n",
    "    print(\"Average Wait %6.2f secs %3d tasks remaining.\"%(averageWait,printQueue.size()))\n",
    "\n",
    "def newPrintTask():\n",
    "    num = random.randrange(1,121)\n",
    "    if num == 120:\n",
    "        return True\n",
    "    else:\n",
    "        return False\n",
    "\n",
    "for i in range(10):\n",
    "    simulation(3600,20)\n"
   ]
  },
  {
   "cell_type": "code",
   "execution_count": 42,
   "metadata": {},
   "outputs": [
    {
     "name": "stdout",
     "output_type": "stream",
     "text": [
      "False\n",
      "True\n",
      "True\n",
      "True\n",
      "True\n"
     ]
    }
   ],
   "source": [
    "from pythonds.basic.deque import Deque\n",
    "\n",
    "def palchecker(aString):\n",
    "    chardeque = Deque()\n",
    "\n",
    "    for ch in aString:\n",
    "        chardeque.addRear(ch)\n",
    "\n",
    "    if len(aString) == 1:\n",
    "        return True\n",
    "\n",
    "    first, last = chardeque.removeFront(), chardeque.removeRear()\n",
    "    while chardeque.size() > 1 and first == last:\n",
    "        first, last = chardeque.removeFront(), chardeque.removeRear()\n",
    "\n",
    "    return first == last\n",
    "\n",
    "print(palchecker(\"lsdkjfskf\"))\n",
    "print(palchecker(\"radar\"))\n",
    "print(palchecker(\"ada\"))\n",
    "print(palchecker(\"aa\"))\n",
    "print(palchecker(\"a\"))\n"
   ]
  },
  {
   "cell_type": "code",
   "execution_count": 51,
   "metadata": {},
   "outputs": [
    {
     "name": "stdout",
     "output_type": "stream",
     "text": [
      "1\n",
      "2\n",
      "3\n",
      "True\n"
     ]
    }
   ],
   "source": [
    "class Node:\n",
    "    def __init__(self,initdata):\n",
    "        self.data = initdata\n",
    "        self.next = None\n",
    "        \n",
    "\n",
    "    def getData(self):\n",
    "        return self.data\n",
    "\n",
    "    def getNext(self):\n",
    "        return self.next\n",
    "\n",
    "    def setData(self,newdata):\n",
    "        self.data = newdata\n",
    "\n",
    "    def setNext(self,newnext):\n",
    "        self.next = newnext\n",
    "\n",
    "\n",
    "class UnorderedList:\n",
    "\n",
    "    def __init__(self):\n",
    "        self.head = None\n",
    "        self.lastItem = None\n",
    "\n",
    "    def isEmpty(self):\n",
    "        return self.head == None\n",
    "\n",
    "    def add(self,item):\n",
    "        if not self.head:\n",
    "            temp = Node(item)\n",
    "            self.lastItem = temp\n",
    "        else:\n",
    "            temp = Node(item)\n",
    "        temp.setNext(self.head)\n",
    "        self.head = temp\n",
    " \n",
    "    def append(self, item):\n",
    "        \"\"\"\n",
    "        Adds an item to the end of the linked list\n",
    "        Time complexity: O(n)\n",
    "        \"\"\"\n",
    "        current = self.head\n",
    "        if not current:\n",
    "            item = Node(item)\n",
    "            self.head = item\n",
    "            self.lastItem = item\n",
    "        else:\n",
    "            while current.next != None:\n",
    "                current = current.next\n",
    "            item = Node(item)\n",
    "            current.next = item\n",
    "            \n",
    "    def appendEfficient(self, item):\n",
    "        \"\"\"\n",
    "        Adds an item to the end of the linked list using\n",
    "        the stored self.lastItem value\n",
    "        Last item's next becomes the new item.\n",
    "        Last item becomes the new item\n",
    "        \"\"\"\n",
    "        if self.lastItem:\n",
    "            temp = Node(item)\n",
    "            self.lastItem.next = temp\n",
    "            self.lastItem = temp\n",
    "        else:\n",
    "            item = Node(item)\n",
    "            self.head = item\n",
    "            self.lastItem = item\n",
    "\n",
    "    def size(self):\n",
    "        current = self.head\n",
    "        count = 0\n",
    "        while current != None:\n",
    "            count = count + 1\n",
    "            current = current.getNext()\n",
    "\n",
    "        return count\n",
    "\n",
    "    def search(self,item):\n",
    "        current = self.head\n",
    "        found = False\n",
    "        while current != None and not found:\n",
    "            print(current.getData())\n",
    "            if current.getData() == item:\n",
    "                found = True\n",
    "            else:\n",
    "                current = current.getNext()\n",
    "\n",
    "        return found\n",
    "\n",
    "    def remove(self,item):\n",
    "        current = self.head\n",
    "        previous = None\n",
    "        found = False\n",
    "        while not found:\n",
    "            if current.getData() == item:\n",
    "                found = True\n",
    "            else:\n",
    "                previous = current\n",
    "                current = current.getNext()\n",
    "\n",
    "        if previous == None:\n",
    "            self.head = current.getNext()\n",
    "        else:\n",
    "            previous.setNext(current.getNext())\n",
    "\n",
    "mylist = UnorderedList()\n",
    "\n",
    "mylist.add(2)\n",
    "mylist.add(1)\n",
    "mylist.appendEfficient(3)\n",
    "print(mylist.search(3))\n",
    "\n"
   ]
  },
  {
   "cell_type": "code",
   "execution_count": 76,
   "metadata": {},
   "outputs": [
    {
     "name": "stdout",
     "output_type": "stream",
     "text": [
      "8.8 µs ± 210 ns per loop (mean ± std. dev. of 7 runs, 100000 loops each)\n",
      "17 µs ± 289 ns per loop (mean ± std. dev. of 7 runs, 100000 loops each)\n",
      "24.4 µs ± 711 ns per loop (mean ± std. dev. of 7 runs, 10000 loops each)\n",
      "31.7 µs ± 344 ns per loop (mean ± std. dev. of 7 runs, 10000 loops each)\n",
      "39.8 µs ± 811 ns per loop (mean ± std. dev. of 7 runs, 10000 loops each)\n",
      "47.4 µs ± 602 ns per loop (mean ± std. dev. of 7 runs, 10000 loops each)\n",
      "55 µs ± 1.02 µs per loop (mean ± std. dev. of 7 runs, 10000 loops each)\n",
      "62.8 µs ± 718 ns per loop (mean ± std. dev. of 7 runs, 10000 loops each)\n",
      "70.8 µs ± 806 ns per loop (mean ± std. dev. of 7 runs, 10000 loops each)\n"
     ]
    }
   ],
   "source": [
    "def appendEfficientTest(r):\n",
    "    testlist = UnorderedList()\n",
    "\n",
    "    for i in range(r):\n",
    "        testlist.appendEfficient(i)\n",
    "\n",
    "for r in range(10,100,10):\n",
    "    %timeit(appendEfficientTest(r))"
   ]
  },
  {
   "cell_type": "code",
   "execution_count": 77,
   "metadata": {},
   "outputs": [
    {
     "name": "stdout",
     "output_type": "stream",
     "text": [
      "13.3 µs ± 113 ns per loop (mean ± std. dev. of 7 runs, 100000 loops each)\n",
      "38.2 µs ± 568 ns per loop (mean ± std. dev. of 7 runs, 10000 loops each)\n",
      "74 µs ± 484 ns per loop (mean ± std. dev. of 7 runs, 10000 loops each)\n",
      "126 µs ± 3.74 µs per loop (mean ± std. dev. of 7 runs, 10000 loops each)\n",
      "191 µs ± 13.5 µs per loop (mean ± std. dev. of 7 runs, 10000 loops each)\n",
      "333 µs ± 53 µs per loop (mean ± std. dev. of 7 runs, 1000 loops each)\n",
      "358 µs ± 15.3 µs per loop (mean ± std. dev. of 7 runs, 1000 loops each)\n",
      "463 µs ± 36.2 µs per loop (mean ± std. dev. of 7 runs, 1000 loops each)\n",
      "553 µs ± 8.95 µs per loop (mean ± std. dev. of 7 runs, 1000 loops each)\n"
     ]
    }
   ],
   "source": [
    "def appendTest(r):\n",
    "    testlist = UnorderedList()\n",
    "\n",
    "    for i in range(r):\n",
    "        testlist.append(i)\n",
    "    \n",
    "for r in range(10,100,10):\n",
    "    %timeit(appendTest(r))"
   ]
  },
  {
   "cell_type": "code",
   "execution_count": 78,
   "metadata": {},
   "outputs": [
    {
     "data": {
      "text/plain": [
       "0"
      ]
     },
     "execution_count": 78,
     "metadata": {},
     "output_type": "execute_result"
    }
   ],
   "source": [
    "testlist.size()"
   ]
  },
  {
   "cell_type": "markdown",
   "metadata": {},
   "source": [
    "# Recursion\n",
    "\n",
    "## The Three Laws of Recursion\n",
    "Like the robots of Asimov, all recursive algorithms must obey three important laws:\n",
    "\n",
    "1. A recursive algorithm must have a base case.\n",
    "2. A recursive algorithm must change its state and move toward the base case.\n",
    "3. A recursive algorithm must call itself, recursively."
   ]
  },
  {
   "cell_type": "code",
   "execution_count": 100,
   "metadata": {},
   "outputs": [
    {
     "name": "stdout",
     "output_type": "stream",
     "text": [
      "Pass\n",
      "Pass\n",
      "Pass\n",
      "Pass\n"
     ]
    }
   ],
   "source": [
    "def testEqual(a,b):\n",
    "    if a==b:\n",
    "        print(\"Pass\")\n",
    "    else:\n",
    "        message = \"Test Failed: expected {0} but got {1}\".format(b,a)\n",
    "        print(message)\n",
    "\n",
    "def reverse(s):\n",
    "    if len(s) < 2:\n",
    "        return s\n",
    "    else:\n",
    "        return reverse(s[1:]) + s[0]\n",
    "\n",
    "testEqual(reverse(\"hello\"),\"olleh\")\n",
    "testEqual(reverse(\"l\"),\"l\")\n",
    "testEqual(reverse(\"follow\"),\"wollof\")\n",
    "testEqual(reverse(\"\"),\"\")"
   ]
  },
  {
   "cell_type": "code",
   "execution_count": 104,
   "metadata": {},
   "outputs": [
    {
     "name": "stdout",
     "output_type": "stream",
     "text": [
      "Pass\n",
      "Pass\n",
      "Pass\n",
      "Pass\n",
      "Pass\n",
      "Pass\n"
     ]
    }
   ],
   "source": [
    "#from test import testEqual\n",
    "def removeWhite(s):\n",
    "    return [l for l in s if l.isalpha()]\n",
    "\n",
    "def isPal(s):\n",
    "    if len(s) < 2:\n",
    "        return True\n",
    "    else:\n",
    "        return s[0]==s[-1] and isPal(s[1:len(s)-1])\n",
    "\n",
    "testEqual(isPal(removeWhite(\"x\")),True)\n",
    "testEqual(isPal(removeWhite(\"radar\")),True)\n",
    "testEqual(isPal(removeWhite(\"hello\")),False)\n",
    "testEqual(isPal(removeWhite(\"\")),True)\n",
    "testEqual(isPal(removeWhite(\"hannah\")),True)\n",
    "testEqual(isPal(removeWhite(\"madam i'm adam\")),True)\n"
   ]
  },
  {
   "cell_type": "markdown",
   "metadata": {},
   "source": [
    "## Recursive Turtle Tree"
   ]
  },
  {
   "cell_type": "code",
   "execution_count": null,
   "metadata": {
    "collapsed": true
   },
   "outputs": [],
   "source": [
    "import turtle\n",
    "\n",
    "def tree(branchLen,t, pensize, rgb):\n",
    "    if branchLen > 5:\n",
    "        pensize -= 2\n",
    "        t.pensize(pensize)\n",
    "        rgb[1] += 15\n",
    "        t.color(tuple(rgb))\n",
    "        t.forward(branchLen)\n",
    "        t.right(20)\n",
    "        tree(branchLen-15,t, pensize, rgb)\n",
    "        t.left(40)\n",
    "        tree(branchLen-15,t, pensize, rgb)\n",
    "        t.right(20)\n",
    "        t.backward(branchLen)\n",
    "        pensize += 2\n",
    "        t.pensize(pensize)\n",
    "        rgb[1] -= 15\n",
    "        t.color(tuple(rgb))\n",
    "\n",
    "def main():\n",
    "    t = turtle.Turtle()\n",
    "    myWin = turtle.Screen()\n",
    "    myWin.colormode(255)\n",
    "    t.left(90)\n",
    "    t.up()\n",
    "    t.backward(100)\n",
    "    t.down()\n",
    "    t.color(tuple([70,40,15]))\n",
    "    tree(75,t, 10, [70,40,15])\n",
    "    myWin.exitonclick()\n",
    "\n",
    "main()\n"
   ]
  },
  {
   "cell_type": "markdown",
   "metadata": {},
   "source": [
    "## Tower of Hanoi"
   ]
  },
  {
   "cell_type": "code",
   "execution_count": 5,
   "metadata": {},
   "outputs": [
    {
     "name": "stdout",
     "output_type": "stream",
     "text": [
      "moving disk from A to C\n",
      "moving disk from A to B\n",
      "moving disk from C to B\n",
      "moving disk from A to C\n",
      "moving disk from B to A\n",
      "moving disk from B to C\n",
      "moving disk from A to C\n",
      "moving disk from A to B\n",
      "moving disk from C to B\n",
      "moving disk from C to A\n",
      "moving disk from B to A\n",
      "moving disk from C to B\n",
      "moving disk from A to C\n",
      "moving disk from A to B\n",
      "moving disk from C to B\n",
      "moving disk from A to C\n",
      "moving disk from B to A\n",
      "moving disk from B to C\n",
      "moving disk from A to C\n",
      "moving disk from B to A\n",
      "moving disk from C to B\n",
      "moving disk from C to A\n",
      "moving disk from B to A\n",
      "moving disk from B to C\n",
      "moving disk from A to C\n",
      "moving disk from A to B\n",
      "moving disk from C to B\n",
      "moving disk from A to C\n",
      "moving disk from B to A\n",
      "moving disk from B to C\n",
      "moving disk from A to C\n"
     ]
    }
   ],
   "source": [
    "import time\n",
    "\n",
    "def moveTower(height,fromPole, toPole, withPole):\n",
    "    if height >= 1:\n",
    "        moveTower(height-1,fromPole,withPole,toPole)\n",
    "        moveDisk(fromPole,toPole)\n",
    "        moveTower(height-1,withPole,toPole,fromPole)\n",
    "\n",
    "def moveDisk(fp,tp):\n",
    "    time.sleep(2)\n",
    "    print(\"moving disk from\",fp,\"to\",tp)\n",
    "\n",
    "moveTower(5,\"A\",\"C\",\"B\")\n"
   ]
  },
  {
   "cell_type": "markdown",
   "metadata": {},
   "source": [
    "## Exploring a Maze"
   ]
  },
  {
   "cell_type": "code",
   "execution_count": 96,
   "metadata": {},
   "outputs": [
    {
     "name": "stdout",
     "output_type": "stream",
     "text": [
      "++++++++++++++++++++++\n",
      "+   +   ++ ++     +   \n",
      "+ +   +       +++ + ++\n",
      "+ + +  ++  ++++   + ++\n",
      "+++ ++++++    +++ +  +\n",
      "+          ++  ++    +\n",
      "+++++ ++++++   +++++ +\n",
      "+     +   +++++++  + +\n",
      "+ +++++++      S +   +\n",
      "+                + +++\n",
      "++++++++++++++++++E+++\n",
      "++++++++++++++++++++++\n",
      "+XXX+OOO++X++OOOOO+XXX\n",
      "+X+OOO+OOOOOOO+++O+X++\n",
      "+X+O+  ++OO++++XXO+X++\n",
      "+++O++++++    +++O+OO+\n",
      "+  OOO     ++  ++OOOO+\n",
      "+++++O++++++   +++++O+\n",
      "+OOOOO+XXX+++++++XX+O+\n",
      "+O+++++++OOOOOOS +OOO+\n",
      "+OOOOOOOOO       +O+++\n",
      "++++++++++++++++++O+++\n"
     ]
    }
   ],
   "source": [
    "# Try depth first search\n",
    "# keep track of visited squares\n",
    "# Mark squares as visited with a \"-\" sign\n",
    "# If the square == \"-\", back up the way you came\n",
    "# Move to a valid square\n",
    "# Need to check for valid squares\n",
    "# If the square is valid and hasn't been visited before, move forward\n",
    "\n",
    "def get_valid(maze, cur_pos):\n",
    "    neighbors = []\n",
    "    row, col = cur_pos\n",
    "    rows = len(maze)\n",
    "    cols = len(maze[0])\n",
    "    for i in (-1,1):\n",
    "        if 0 < i+row < len(maze):\n",
    "            if maze[i+row][col] not in \"+OX\":\n",
    "                neighbors.append([i+row,col])\n",
    "        if 0 < i+col < len(maze[0]):\n",
    "            if maze[row][col+i] not in \"+OX\":\n",
    "                neighbors.append([row,col+i])\n",
    "    #print(neighbors)            \n",
    "    return neighbors\n",
    "\n",
    "def escape_maze_helper(maze, cur_pos, end_pos):\n",
    "    #print_maze(maze)\n",
    "    path = [cur_pos]\n",
    "    if cur_pos == end_pos:\n",
    "        return path\n",
    "    neighbors = get_valid(maze, cur_pos)\n",
    "    for neighbor in neighbors:\n",
    "        row, col = neighbor\n",
    "        maze[row][col] = \"O\"\n",
    "        temp = escape_maze_helper(maze, neighbor, end_pos)\n",
    "        if end_pos in temp:\n",
    "            path += temp\n",
    "            break\n",
    "        else:\n",
    "            maze[row][col] = \"X\"\n",
    "    return path\n",
    "\n",
    "def escape_maze(maze, start_pos, end_pos):\n",
    "    return escape_maze_helper(maze, start_pos, end_pos)\n",
    "\n",
    "maze = []\n",
    "start = []\n",
    "end = []\n",
    "with open(\"data/maze.txt\", \"r\") as f:\n",
    "    for i, line in enumerate(f):\n",
    "        row = []\n",
    "        if \"\\n\" in line:\n",
    "            line = line[:-1]\n",
    "        #line = line.remove(\"\\n\")\n",
    "        for j,c in enumerate(line):\n",
    "            if c == \"S\":\n",
    "                start = [i,j]\n",
    "            elif c == \"E\":\n",
    "                end = [i,j]\n",
    "            row.append(c)\n",
    "        maze.append(row)\n",
    "\n",
    "def print_maze(maze):\n",
    "    for row in maze:\n",
    "        print(\"\".join(row))\n",
    "\n",
    "print_maze(maze)\n",
    "escape_maze(maze,start,end)\n",
    "print_maze(maze)\n",
    "\n"
   ]
  },
  {
   "cell_type": "code",
   "execution_count": 36,
   "metadata": {},
   "outputs": [
    {
     "name": "stdout",
     "output_type": "stream",
     "text": [
      "++++++++++++++++++++++\n",
      "+   +   ++ ++     +   \n",
      "+ +   +       +++ + ++\n",
      "+ + +  ++  ++++   + ++\n",
      "+++ ++++++    +++ +  +\n",
      "+          ++  ++    +\n",
      "+++++ ++++++   +++++ +\n",
      "+     +   +++++++  + +\n",
      "+ +++++++      S +   +\n",
      "+                + +++\n",
      "++++++++++++++++++E+++\n"
     ]
    }
   ],
   "source": [
    "def print_maze(maze):\n",
    "    for row in maze:\n",
    "        print(\"\".join(row))\n",
    "\n",
    "maze = []\n",
    "start = []\n",
    "end = []\n",
    "\n",
    "with open(\"data/maze.txt\", \"r\") as f:\n",
    "    for i, line in enumerate(f):\n",
    "        row = []\n",
    "        if \"\\n\" in line:\n",
    "            line = line[:-1]\n",
    "        #line = line.remove(\"\\n\")\n",
    "        for j,c in enumerate(line):\n",
    "            if c == \"S\":\n",
    "                start = [i,j]\n",
    "            elif c == \"E\":\n",
    "                end = [i,j]\n",
    "            row.append(c)\n",
    "        maze.append(row)\n",
    "        \n",
    "print_maze(maze)"
   ]
  },
  {
   "cell_type": "code",
   "execution_count": 29,
   "metadata": {},
   "outputs": [
    {
     "data": {
      "text/plain": [
       "265252859812191058636308480000000"
      ]
     },
     "execution_count": 29,
     "metadata": {},
     "output_type": "execute_result"
    }
   ],
   "source": [
    "def fact(num):\n",
    "    if num in factorials:\n",
    "        return factorials[num]\n",
    "    elif num < 2:\n",
    "        return 1\n",
    "    else:\n",
    "        value = num * fact(num-1)\n",
    "        factorials[num] = value\n",
    "        return value\n",
    "    \n",
    "factorials = {}\n",
    "\n",
    "fact(30)"
   ]
  },
  {
   "cell_type": "code",
   "execution_count": null,
   "metadata": {
    "collapsed": true
   },
   "outputs": [],
   "source": [
    "def pascal(rows):\n",
    "    # Base case: 1 row\n",
    "    # If first or last value in row, 1\n",
    "    # Else, sum of mat[row-1][pos-1] + mat[row-1][pos]"
   ]
  },
  {
   "cell_type": "code",
   "execution_count": null,
   "metadata": {
    "collapsed": true
   },
   "outputs": [],
   "source": [
    "from time import time\n",
    "\n",
    "# Loop through the nodes of the graph and test the\n",
    "# max propogation.\n",
    "# The max propogation is the longest path in the graph\n",
    "# Create a graph\n",
    "# The graph has a list of nodes\n",
    "# Each node has the following attributes:\n",
    "# Visited\n",
    "# Neighbors\n",
    "# Name\n",
    "\n",
    "# Instead of a Node class, use a dictionary\n",
    "\n",
    "class Node():\n",
    "    def __init__(self,name):\n",
    "        self.name = name\n",
    "        self.visited = False\n",
    "        self.neighbors = []\n",
    "        \n",
    "\n",
    "\n",
    "class Graph():\n",
    "    def __init__(self):\n",
    "        self.node_dict = {}\n",
    "    \n",
    "    def create_node(self, name):\n",
    "        self.node_dict[name] = {\n",
    "            \"visited\": False, \n",
    "            \"neighbors\": []\n",
    "            }\n",
    "        \n",
    "    def clear_visited(self):\n",
    "        for node in self.node_dict:\n",
    "            self.node_dict[node][\"visited\"] = False\n",
    "    \n",
    "    def add_node(self,name):\n",
    "        self.create_node(name)\n",
    "        \n",
    "    def connect_nodes(self,n1,n2):\n",
    "        if n1 not in self.node_dict:\n",
    "            self.add_node(n1)\n",
    "        if n2 not in self.node_dict:\n",
    "            self.add_node(n2)\n",
    "        self.node_dict[n1][\"neighbors\"].append(n2)\n",
    "        self.node_dict[n2][\"neighbors\"].append(n1)\n",
    "               \n",
    "    def search_graph(self,name):\n",
    "        return any(node.name == name for node in self.nodes)\n",
    "        \n",
    "    def find_node(self,name):\n",
    "        for node in self.nodes:\n",
    "            if node.name == name:\n",
    "                return node\n",
    "    \n",
    "    def dfs_propogation_helper(self,cur_node):\n",
    "        visited_list = [cur_node]\n",
    "        self.node_dict[cur_node][\"visited\"] = True\n",
    "        temp_paths = []\n",
    "        for neighbor in self.node_dict[cur_node][\"neighbors\"]:\n",
    "            if not self.node_dict[neighbor][\"visited\"]:\n",
    "                temp_paths.append(self.dfs_propogation_helper(neighbor))\n",
    "        if temp_paths:\n",
    "            temp_paths = sorted(temp_paths, key=lambda x: len(x))\n",
    "            visited_list += temp_paths[-1]\n",
    "        return visited_list\n",
    "                        \n",
    "    def dfs_propogation(self,start_node):\n",
    "        #start_node = find_node(node)\n",
    "        self.clear_visited()\n",
    "        return self.dfs_propogation_helper(start_node)\n",
    "        \n",
    "graph = Graph()\n",
    "\n",
    "n = int(raw_input())  # the number of adjacency relations\n",
    "for i in xrange(n):\n",
    "    # xi: the ID of a person which is adjacent to yi\n",
    "    # yi: the ID of a person which is adjacent to xi\n",
    "    xi, yi = [int(j) for j in raw_input().split()]\n",
    "    graph.connect_nodes(xi, yi)\n",
    "\n",
    "#print(graph.node_dict)\n",
    "#print(\"Graph creation took {} seconds\".format(time()-start))    \n",
    "\n",
    "# The minimal amount of steps required to completely propagate the advertisement\n",
    "graph.dfs_propogation(1)  \n",
    "min_max_prop = len(graph.node_dict)\n",
    "for node in graph.node_dict:\n",
    "    start = time()\n",
    "    prop = len(graph.dfs_propogation(node))-1\n",
    "    print(\"DFS took {} seconds\".format(time()-start))\n",
    "    if prop < min_max_prop:\n",
    "        min_max_prop = prop\n",
    "print(min_max_prop)"
   ]
  },
  {
   "cell_type": "markdown",
   "metadata": {},
   "source": [
    "## Stanford Programming Abstractions Midterm Practice\n",
    "\n",
    "This code block will accept two linked lists as input, rearrange them and output the new rearranged linked lists.\n",
    "\n",
    "<img src=\"images/Screen Shot 2017-12-25 at 5.41.56 PM.png\">"
   ]
  },
  {
   "cell_type": "code",
   "execution_count": 55,
   "metadata": {
    "scrolled": true
   },
   "outputs": [
    {
     "name": "stdout",
     "output_type": "stream",
     "text": [
      "list1 nodes:\n",
      "1\n",
      "list2 nodes:\n",
      "2\n",
      "3\n",
      "4\n",
      "list1 nodes:\n",
      "4\n",
      "1\n",
      "2\n",
      "list2 nodes:\n",
      "3\n"
     ]
    }
   ],
   "source": [
    "class Node():\n",
    "    def __init__(self,data,next_node=None):\n",
    "        self.data = data\n",
    "        self.next = next_node\n",
    "        \n",
    "class LinkedList():\n",
    "    def __init__(self,head=None):\n",
    "        self.head = head\n",
    "        \n",
    "    def get_node(self,data):\n",
    "        cur_node = self\n",
    "        while cur_node.data != data:\n",
    "            cur_node = cur_node.next\n",
    "        return cur_node\n",
    "    \n",
    "    def detach_node(self,data):\n",
    "        cur_node = self.head\n",
    "        if cur_node.data==data:\n",
    "            self.head = self.head.next\n",
    "            cur_node.next = None\n",
    "            return cur_node\n",
    "        \n",
    "        while cur_node.next.data != data:\n",
    "            cur_node = cur_node.next\n",
    "        \n",
    "        desired_node = cur_node.next\n",
    "        cur_node.next = desired_node.next\n",
    "        desired_node.next = None\n",
    "        return desired_node\n",
    "    \n",
    "    def add_node(self,node):\n",
    "        node.next = self.head\n",
    "        self.head = node\n",
    "    \n",
    "    def print_nodes(self):\n",
    "        cur_node = self.head\n",
    "        while cur_node != None:\n",
    "            print(cur_node.data)\n",
    "            cur_node = cur_node.next\n",
    "            \n",
    "        \n",
    "        \n",
    "list1 = LinkedList(Node(1))\n",
    "\n",
    "list2 = LinkedList(Node(4))\n",
    "for data in (3,2):\n",
    "    cur_node = Node(data)\n",
    "    list2.add_node(cur_node)\n",
    "    \n",
    "print(\"list1 nodes:\")\n",
    "list1.print_nodes()\n",
    "print(\"list2 nodes:\")\n",
    "list2.print_nodes()\n",
    "    \n",
    "# Get nodes 2 and 4 from list2 and put them in list1\n",
    "# Whenever you take a node from a list, make sure to keep the\n",
    "# connections intact\n",
    "    \n",
    "for node in (2,4):\n",
    "    desired_node = list2.detach_node(node)\n",
    "    if desired_node.data==2:\n",
    "        list1.head.next = desired_node\n",
    "    else:\n",
    "        list1.add_node(desired_node)\n",
    "        \n",
    "print(\"list1 nodes:\")\n",
    "list1.print_nodes()\n",
    "print(\"list2 nodes:\")\n",
    "list2.print_nodes()      "
   ]
  },
  {
   "cell_type": "markdown",
   "metadata": {},
   "source": [
    "## Stanford Programming Abstractions  Final Practice\n",
    "\n",
    "<img src=\"images/Screen Shot 2017-12-25 at 9.03.22 PM.png\">"
   ]
  },
  {
   "cell_type": "code",
   "execution_count": 67,
   "metadata": {},
   "outputs": [
    {
     "name": "stdout",
     "output_type": "stream",
     "text": [
      "A ['A', 'D']\n",
      "B ['B', 'A', 'D', 'E', 'C', 'F']\n",
      "C ['C', 'F']\n",
      "H ['H', 'E', 'F']\n",
      "('B', ['B', 'A', 'D', 'E', 'C', 'F'])\n"
     ]
    }
   ],
   "source": [
    "connections = [\"A D\", \"B A\", \"B E\", \"B C\", \"C F\", \"G H\", \"G E\", \"H F\"]\n",
    "\n",
    "class Node():\n",
    "    def __init__(self,name):\n",
    "        self.name = name\n",
    "        self.decendants=[]\n",
    "        self.visited = False\n",
    "        \n",
    "class Directed_Graph():\n",
    "    def __init__(self):\n",
    "        self.nodes = []\n",
    "        \n",
    "    def add_node(self,name):\n",
    "        node = Node(name)\n",
    "        self.nodes.append(node)\n",
    "        \n",
    "    def connect_node(self,connection):\n",
    "        ancestor, decendant = connection.split()\n",
    "        ancestor = self.find_node(ancestor)\n",
    "        decendant = self.find_node(decendant)\n",
    "        ancestor.decendants.append(decendant)\n",
    "        \n",
    "    def find_node(self,name):\n",
    "        for node in self.nodes:\n",
    "            if node.name == name:\n",
    "                return node\n",
    "    def clear_visited(self):\n",
    "        for node in self.nodes:\n",
    "            node.visited = False\n",
    "    \n",
    "    def dfs_helper(self,cur_node):\n",
    "        visited_list = [cur_node]\n",
    "        cur_node.visited = True\n",
    "        for decendant in cur_node.decendants:\n",
    "            if decendant.visited:\n",
    "                visited_list.append(decendant)\n",
    "                break\n",
    "            visited_list += self.dfs_helper(decendant)\n",
    "        return visited_list\n",
    "        \n",
    "    def dfs(self,start_node):\n",
    "        self.clear_visited()\n",
    "        start_node = self.find_node(start_node)\n",
    "        path = self.dfs_helper(start_node)\n",
    "        return start_node.name, [node.name for node in path]\n",
    "        \n",
    "def is_unique(path):\n",
    "    return len(path) == len(set(path))\n",
    "    \n",
    "example_1 = Directed_Graph()\n",
    "for name in \"ABCDEFGH\":\n",
    "    example_1.add_node(name)\n",
    "    \n",
    "example_2 = Directed_Graph()\n",
    "for name in \"ABCDEFGH\":\n",
    "    example_2.add_node(name)\n",
    "    \n",
    "connections_1 = [\"A D\", \"B A\", \"B E\", \"B C\", \"C F\", \"G H\", \"G E\", \n",
    "               \"H E\", \"H F\"]\n",
    "for connection in connections_1:\n",
    "    example_1.connect_node(connection)\n",
    "    \n",
    "connections_2 = [\"A D\", \"B A\", \"B E\", \"B C\", \"C F\", \"G H\", \"G E\", \n",
    "               \"H E\", \"H F\"]\n",
    "for connection in connections_1:\n",
    "    example_1.connect_node(connection)\n",
    "    \n",
    "# Use depth first search and check whether there are \n",
    "# any duplicates at the end\n",
    "\n",
    "node_names = [node.name for node in example_1.nodes]\n",
    "paths = []\n",
    "for name in node_names:\n",
    "    start_node, path = example_1.dfs(name)\n",
    "    if not is_unique(path) or len(path)==1:\n",
    "        continue\n",
    "    print(start_node,path)\n",
    "    paths.append((start_node,path))\n",
    "    \n",
    "ans = sorted(paths, key = lambda x:len(x[1]))[-1]\n",
    "print(ans)\n"
   ]
  },
  {
   "cell_type": "markdown",
   "metadata": {},
   "source": [
    "## Project Euler 196: Prime Triplets\n",
    "\n",
    "Define S(n) as the sum of the primes in row n which are elements of any prime triplet.\n",
    "Then S(8)=60 and S(9)=37.\n",
    "\n",
    "You are given that S(10000)=950007619.\n",
    "\n",
    "Find  S(5678027) + S(7208785)\n",
    "\n",
    "Solution:\n",
    "To find the starting number of the row, take (n*(n-1))/2 + 1\n",
    "There will be n numbers in that row\n",
    "Find the primes in that row, the previous row, and the proceding row"
   ]
  },
  {
   "cell_type": "code",
   "execution_count": 75,
   "metadata": {
    "collapsed": true
   },
   "outputs": [],
   "source": [
    "def check_prime(n):\n",
    "    return all(n%i for i in range(2,int(n**.5)+1))\n",
    "\n",
    "primes = [x for x in range(1000000,1500500) if check_prime(x)]"
   ]
  },
  {
   "cell_type": "code",
   "execution_count": 77,
   "metadata": {},
   "outputs": [
    {
     "name": "stdout",
     "output_type": "stream",
     "text": [
      "16119992467352 16119998145379\n"
     ]
    }
   ],
   "source": [
    "n = 5678027\n",
    "starting_val = (n*(n-1))//2 + 1\n",
    "ending_val = starting_val+n\n",
    "\n",
    "print(starting_val, ending_val)"
   ]
  },
  {
   "cell_type": "code",
   "execution_count": 84,
   "metadata": {},
   "outputs": [
    {
     "data": {
      "text/plain": [
       "False"
      ]
     },
     "execution_count": 84,
     "metadata": {},
     "output_type": "execute_result"
    }
   ],
   "source": [
    "n = 600851475143\n",
    "factors = [x for x in range(2,int(n**.5)+1) if n%x==0]\n",
    "factors\n",
    "check_prime(n)"
   ]
  },
  {
   "cell_type": "code",
   "execution_count": 86,
   "metadata": {
    "collapsed": true
   },
   "outputs": [],
   "source": [
    "factors\n",
    "prime_factors = [f for f in factors if check_prime(f)]"
   ]
  },
  {
   "cell_type": "code",
   "execution_count": 87,
   "metadata": {},
   "outputs": [
    {
     "data": {
      "text/plain": [
       "[71, 839, 1471, 6857]"
      ]
     },
     "execution_count": 87,
     "metadata": {},
     "output_type": "execute_result"
    }
   ],
   "source": [
    "prime_factors"
   ]
  },
  {
   "cell_type": "code",
   "execution_count": 88,
   "metadata": {},
   "outputs": [
    {
     "data": {
      "text/plain": [
       "104743"
      ]
     },
     "execution_count": 88,
     "metadata": {},
     "output_type": "execute_result"
    }
   ],
   "source": [
    "factors = []\n",
    "i = 2\n",
    "while len(factors)<10001:\n",
    "    if check_prime(i):\n",
    "        factors.append(i)\n",
    "    i += 1\n",
    "factors[10000]"
   ]
  },
  {
   "cell_type": "markdown",
   "metadata": {},
   "source": [
    "## Project Euler 18: Max Path\n",
    "\n",
    "Try dynamic programming for this one. Starting at the bottom, get the maximum path for each node and work your way up.\n",
    "\n",
    "Start with an empty pyramid. Working from the bottom up, append the sum of the maximum path to that node. When you reach the top, you'll be able to choose the maximum path from the available choices."
   ]
  },
  {
   "cell_type": "code",
   "execution_count": 110,
   "metadata": {},
   "outputs": [
    {
     "name": "stdout",
     "output_type": "stream",
     "text": [
      "Pyramid:\n",
      "[[75],\n",
      " [95, 64],\n",
      " [17, 47, 82],\n",
      " [18, 35, 87, 10],\n",
      " [20, 4, 82, 47, 65],\n",
      " [19, 1, 23, 75, 3, 34],\n",
      " [88, 2, 77, 73, 7, 63, 67],\n",
      " [99, 65, 4, 28, 6, 16, 70, 92],\n",
      " [41, 41, 26, 56, 83, 40, 80, 70, 33],\n",
      " [41, 48, 72, 33, 47, 32, 37, 16, 94, 29],\n",
      " [53, 71, 44, 65, 25, 43, 91, 52, 97, 51, 14],\n",
      " [70, 11, 33, 28, 77, 73, 17, 78, 39, 68, 17, 57],\n",
      " [91, 71, 52, 38, 17, 14, 91, 43, 58, 50, 27, 29, 48],\n",
      " [63, 66, 4, 68, 89, 53, 67, 30, 73, 16, 69, 87, 40, 31],\n",
      " [4, 62, 98, 27, 23, 9, 70, 98, 73, 93, 38, 53, 60, 4, 23]]\n",
      "Max path:\n",
      "[75, 95, 47, 87, 82, 75, 73, 28, 83, 47, 43, 73, 91, 67, 98]\n",
      "1064\n"
     ]
    }
   ],
   "source": [
    "# Create a list of lists\n",
    "# Traverse the list, getting the max val each time\n",
    "\n",
    "import pprint\n",
    "\n",
    "pyramid = []\n",
    "with open(\"data/max_path_pyramid.txt\", \"r\") as f:\n",
    "    for line in f:\n",
    "        line = line.rstrip()\n",
    "        row = list(map(int, line.split()))\n",
    "        pyramid.append(row)\n",
    "\n",
    "print(\"Pyramid:\")\n",
    "pprint.pprint(pyramid)\n",
    "\n",
    "path = [val for val in pyramid[0]]\n",
    "j = 0\n",
    "\n",
    "for i in range(len(pyramid)-1):\n",
    "    if pyramid[i+1][j] > pyramid[i+1][j+1]:\n",
    "        next_val = pyramid[i+1][j]\n",
    "    else:\n",
    "        next_val = pyramid[i+1][j+1]\n",
    "        j += 1\n",
    "    path.append(next_val)\n",
    "\n",
    "    \n",
    "print(\"Max path:\")\n",
    "print(path)\n",
    "print(sum(path))"
   ]
  },
  {
   "cell_type": "code",
   "execution_count": 118,
   "metadata": {},
   "outputs": [
    {
     "name": "stdout",
     "output_type": "stream",
     "text": [
      "6580\n"
     ]
    }
   ],
   "source": [
    "# Create a list of lists\n",
    "# Traverse the list, getting the max val each time\n",
    "\n",
    "import pprint\n",
    "\n",
    "pyramid = []\n",
    "with open(\"data/p067_triangle.txt\", \"r\") as f:\n",
    "    for line in f:\n",
    "        line = line.rstrip()\n",
    "        row = list(map(int, line.split()))\n",
    "        pyramid.append(row)\n",
    "\n",
    "#print(\"Pyramid:\")\n",
    "#pprint.pprint(pyramid)\n",
    "\n",
    "path = [val for val in pyramid[0]]\n",
    "j = 0\n",
    "\n",
    "for i in range(len(pyramid)-1):\n",
    "    if pyramid[i+1][j] > pyramid[i+1][j+1]:\n",
    "        next_val = pyramid[i+1][j]\n",
    "    else:\n",
    "        next_val = pyramid[i+1][j+1]\n",
    "        j += 1\n",
    "    path.append(next_val)\n",
    "\n",
    "    \n",
    "# print(\"Max path:\")\n",
    "# print(path)\n",
    "print(sum(path))"
   ]
  },
  {
   "cell_type": "code",
   "execution_count": 116,
   "metadata": {},
   "outputs": [
    {
     "data": {
      "text/plain": [
       "[7273]"
      ]
     },
     "execution_count": 116,
     "metadata": {},
     "output_type": "execute_result"
    }
   ],
   "source": [
    "import pprint\n",
    "\n",
    "pyramid = []\n",
    "with open(\"data/p067_triangle.txt\", \"r\") as f:\n",
    "    for line in f:\n",
    "        line = line.rstrip()\n",
    "        row = list(map(int, line.split()))\n",
    "        pyramid.append(row)\n",
    "\n",
    "#print(\"Pyramid:\")\n",
    "#pprint.pprint(pyramid)\n",
    "\n",
    "cur_row = []\n",
    "lower_row = [val for val in pyramid[-1]]\n",
    "for i in range(len(pyramid)-2,-1,-1):\n",
    "    cur_row = [val for val in pyramid[i]]\n",
    "    for j in range(len(pyramid[i])):\n",
    "        lower_val = max(lower_row[j:j+2])\n",
    "        cur_row[j] += lower_val\n",
    "    lower_row = [val for val in cur_row]\n",
    "    \n",
    "cur_row"
   ]
  },
  {
   "cell_type": "code",
   "execution_count": 111,
   "metadata": {},
   "outputs": [
    {
     "name": "stdout",
     "output_type": "stream",
     "text": [
      "[[75],\n",
      " [95, 64],\n",
      " [17, 47, 82],\n",
      " [18, 35, 87, 10],\n",
      " [20, 4, 82, 47, 65],\n",
      " [19, 1, 23, 75, 3, 34],\n",
      " [88, 2, 77, 73, 7, 63, 67],\n",
      " [99, 65, 4, 28, 6, 16, 70, 92],\n",
      " [41, 41, 26, 56, 83, 40, 80, 70, 33],\n",
      " [41, 48, 72, 33, 47, 32, 37, 16, 94, 29],\n",
      " [53, 71, 44, 65, 25, 43, 91, 52, 97, 51, 14],\n",
      " [70, 11, 33, 28, 77, 73, 17, 78, 39, 68, 17, 57],\n",
      " [91, 71, 52, 38, 17, 14, 91, 43, 58, 50, 27, 29, 48],\n",
      " [63, 66, 4, 68, 89, 53, 67, 30, 73, 16, 69, 87, 40, 31],\n",
      " [4, 62, 98, 27, 23, 9, 70, 98, 73, 93, 38, 53, 60, 4, 23]]\n"
     ]
    }
   ],
   "source": [
    "pprint.pprint(pyramid)"
   ]
  },
  {
   "cell_type": "markdown",
   "metadata": {},
   "source": [
    "## Shortest Paths Problem: Dijkstra's Algorithm"
   ]
  },
  {
   "cell_type": "markdown",
   "metadata": {},
   "source": [
    "## String Edit Distance\n",
    "\n",
    "Costs:\n",
    "- Deletion: 1\n",
    "- Insertion: 1\n",
    "- Substitution: 1\n",
    "- Match: 0\n",
    "\n"
   ]
  },
  {
   "cell_type": "code",
   "execution_count": 202,
   "metadata": {},
   "outputs": [
    {
     "data": {
      "text/plain": [
       "([['-', 'A', 'A', 'C', 'A', 'G', 'T', 'T', 'A', 'C', 'C', '-'],\n",
       "  ['T', 8, 7, 8, 7, 8, 7, 6, 7, 8, 7, 8],\n",
       "  ['A', 7, 6, 7, 6, 7, 8, 7, 6, 7, 6, 7],\n",
       "  ['A', 8, 7, 6, 5, 6, 7, 6, 5, 6, 5, 6],\n",
       "  ['G', 9, 8, 7, 6, 5, 6, 5, 6, 5, 4, 5],\n",
       "  ['G', 8, 7, 6, 5, 4, 5, 4, 5, 4, 3, 4],\n",
       "  ['T', 9, 8, 7, 6, 5, 4, 3, 4, 3, 2, 3],\n",
       "  ['C', 8, 7, 6, 7, 6, 5, 4, 3, 2, 1, 2],\n",
       "  ['A', 9, 8, 7, 6, 5, 4, 3, 2, 3, 2, 1],\n",
       "  ['-', 10, 9, 8, 7, 6, 5, 4, 3, 2, 1, 0]],\n",
       " 8)"
      ]
     },
     "execution_count": 202,
     "metadata": {},
     "output_type": "execute_result"
    }
   ],
   "source": [
    "def deletion_distance(word1,word2):\n",
    "    mat = create_matrix(word1,word2)\n",
    "    def cost(i,j):\n",
    "        x = 2\n",
    "        if mat[i][0] == mat[0][j]:\n",
    "            x = 0\n",
    "        bottom = mat[i+1][j] + 1\n",
    "        right = mat[i][j+1] + 1\n",
    "        corner = mat[i+1][j+1] + x\n",
    "        return min((right,bottom,corner))\n",
    "    \n",
    "    for i in range(len(mat)-2,0,-1):\n",
    "        for j in range(len(mat[0])-2,0,-1):\n",
    "            mat[i][j] = cost(i,j)\n",
    "            \n",
    "    return (mat, mat[1][1])\n",
    "\n",
    "# Create an  n by m matrix where n is the length of \n",
    "# word 2 and m is the length of word 1\n",
    "\n",
    "def create_matrix(word1,word2):\n",
    "    mat = []\n",
    "    cost1 = 1*len(word1)\n",
    "    cost2 = 1*len(word2)\n",
    "    \n",
    "    for i in range(len(word2)+2):\n",
    "        row = []\n",
    "        \n",
    "        for j in range(len(word1)+2):\n",
    "            \n",
    "            # Initialize the first and last rows\n",
    "            if i==0 and 0 < j <= len(word1):\n",
    "                row.append(word1[j-1])\n",
    "            elif i==len(word2)+1 and 0 < j <= len(word1)+1:\n",
    "                row.append(cost1)\n",
    "                cost1 -= 1\n",
    "                \n",
    "            # Initialize the first and last columns\n",
    "            elif 0 < i <= len(word2) and j == 0:\n",
    "                row.append(word2[i-1])\n",
    "            elif 0 < i <= len(word2) and j == len(word1)+1:\n",
    "                row.append(cost2)\n",
    "                cost2 -= 1\n",
    "            else:\n",
    "                row.append(\"-\")\n",
    "        mat.append(row)\n",
    "\n",
    "    return mat\n",
    "\n",
    "word1 = \"AACAGTTACC\"\n",
    "word2 = \"TAAGGTCA\"\n",
    "\n",
    "\n",
    "deletion_distance(word1,word2)"
   ]
  },
  {
   "cell_type": "markdown",
   "metadata": {},
   "source": [
    "# Searching and Sorting"
   ]
  },
  {
   "cell_type": "code",
   "execution_count": 2,
   "metadata": {},
   "outputs": [
    {
     "name": "stdout",
     "output_type": "stream",
     "text": [
      "Inputs:[[1, 2, 3, 4, 5], 1], result: True\n",
      "Inputs:[[1, 2, 3, 4, 5], 5], result: True\n",
      "Inputs:[[1, 2, 3, 4, 5], 8], result: False\n",
      "Inputs:[[1, 2, 3, 4, 5], -1], result: False\n",
      "Inputs:[[1, 2, 3, 4, 5, 6], 3.5], result: False\n",
      "Inputs:[[1], 1], result: True\n"
     ]
    }
   ],
   "source": [
    "def binary_search(arr,val):\n",
    "    low = 0\n",
    "    high = len(arr) - 1\n",
    "    \n",
    "    while high - low >= 0:\n",
    "        pos = (high+low)//2\n",
    "        if arr[pos] == val:\n",
    "            return True\n",
    "        elif arr[pos] > val:\n",
    "            high = pos - 1\n",
    "        else:\n",
    "            low = pos + 1\n",
    "    return False\n",
    "\n",
    "inputs = [([[1,2,3,4,5],1]), ([[1,2,3,4,5],5]), \n",
    "          ([[1,2,3,4,5],8]), ([[1,2,3,4,5],-1]), \n",
    "         ([[1,2,3,4,5,6],3.5]), ([[1],1]), ]\n",
    "for x in inputs:\n",
    "    print(\"Inputs:{0}, result: {1}\".format(x, binary_search(*x)))"
   ]
  },
  {
   "cell_type": "code",
   "execution_count": 94,
   "metadata": {},
   "outputs": [
    {
     "data": {
      "text/plain": [
       "([1, 2, 9, 16, 21, 26, 27, 28, 29, 34, 39, 40, 43, 45, 46, 49], 80)"
      ]
     },
     "execution_count": 94,
     "metadata": {},
     "output_type": "execute_result"
    }
   ],
   "source": [
    "def merge_sort_helper(nums):\n",
    "    \n",
    "    if len(left)>1:\n",
    "        left = merge_sort_helper(left[:len(left)//2],left[len(left)//2:])\n",
    "\n",
    "def merge_sort(nums,step):\n",
    "    # Recursively split list in half\n",
    "    # When the list is 1 element big, merge with adjacent list\n",
    "    # Order the elements in that new list\n",
    "    # To order the elements, use while loops\n",
    "    # Iterate through the left and right halves\n",
    "    # Add the smaller value each time\n",
    "    \n",
    "    left,right = [],[]\n",
    "    if len(nums)<2:\n",
    "        step += 1\n",
    "        #print(\"Step {}\".format(step))\n",
    "        return (nums,step)\n",
    "      \n",
    "    left,step = merge_sort(nums[:len(nums)//2],step)\n",
    "    right,step = merge_sort(nums[len(nums)//2:],step)\n",
    "    \n",
    "    i = 0\n",
    "    j = 0\n",
    "    ans = []\n",
    "    \n",
    "    while i<len(left) and j<len(right):\n",
    "        if left[i] < right[j]:\n",
    "            ans.append(left[i])\n",
    "            i += 1\n",
    "        else:\n",
    "            ans.append(right[j])\n",
    "            j += 1\n",
    "        step += 1\n",
    "        #print(\"Step {}\".format(step))\n",
    "            \n",
    "    while i<len(left):\n",
    "        ans.append(left[i])\n",
    "        i += 1\n",
    "        step += 1\n",
    "        #print(\"Step {}\".format(step))\n",
    "        \n",
    "    while j<len(right):\n",
    "        ans.append(right[j])\n",
    "        j += 1\n",
    "        step += 1\n",
    "        #print(\"Step {}\".format(step))\n",
    "        \n",
    "    return (ans,step)\n",
    "    \n",
    "nums =  [21, 1, 26, 45, 29, 28, 2, 9, 16, 49, 39, 27, 43, 34, 46, 40] \n",
    "merge_sort(nums,0)\n",
    "    "
   ]
  },
  {
   "cell_type": "code",
   "execution_count": 36,
   "metadata": {},
   "outputs": [
    {
     "data": {
      "text/plain": [
       "['a', ['b', [], ['d', [], []]], ['c', ['e', [], []], ['f', [], []]]]"
      ]
     },
     "execution_count": 36,
     "metadata": {},
     "output_type": "execute_result"
    }
   ],
   "source": [
    "def Tree(root):\n",
    "    return [root, [], []]\n",
    "\n",
    "def insert_left(root, node):\n",
    "    l = root.pop(1)\n",
    "    if len(l) > 1:\n",
    "        root.insert(1, [node, l, []])\n",
    "    else:\n",
    "        root.insert(1, [node, [], []])\n",
    "        \n",
    "def insert_right(root, node):\n",
    "    r = root.pop(2)\n",
    "    if len(r) > 1:\n",
    "        root.insert(2, [node, [], r])\n",
    "    else:\n",
    "        root.insert(2, [node, [], []])\n",
    "        \n",
    "def get_left_child(root):\n",
    "    return root[1]\n",
    "        \n",
    "def get_right_child(root):\n",
    "    return root[2]\n",
    "        \n",
    "tree = Tree('a')\n",
    "insert_left(tree, 'b')\n",
    "insert_right(get_left_child(tree), 'd')\n",
    "insert_right(tree, 'f')\n",
    "insert_right(tree, 'c')\n",
    "insert_left(get_right_child(tree), 'e')\n",
    "tree"
   ]
  },
  {
   "cell_type": "code",
   "execution_count": 42,
   "metadata": {},
   "outputs": [
    {
     "data": {
      "text/plain": [
       "['a', 'b', 'c', 'd', 'e', 'f']"
      ]
     },
     "execution_count": 42,
     "metadata": {},
     "output_type": "execute_result"
    }
   ],
   "source": [
    "class BinaryTree:\n",
    "    def __init__(self,rootObj):\n",
    "        self.key = rootObj\n",
    "        self.leftChild = None\n",
    "        self.rightChild = None\n",
    "\n",
    "    def insertLeft(self,newNode):\n",
    "        if self.leftChild == None:\n",
    "            self.leftChild = BinaryTree(newNode)\n",
    "        else:\n",
    "            t = BinaryTree(newNode)\n",
    "            t.leftChild = self.leftChild\n",
    "            self.leftChild = t\n",
    "\n",
    "    def insertRight(self,newNode):\n",
    "        if self.rightChild == None:\n",
    "            self.rightChild = BinaryTree(newNode)\n",
    "        else:\n",
    "            t = BinaryTree(newNode)\n",
    "            t.rightChild = self.rightChild\n",
    "            self.rightChild = t\n",
    "\n",
    "\n",
    "    def getRightChild(self):\n",
    "        return self.rightChild\n",
    "\n",
    "    def getLeftChild(self):\n",
    "        return self.leftChild\n",
    "\n",
    "    def setRootVal(self,obj):\n",
    "        self.key = obj\n",
    "\n",
    "    def getRootVal(self):\n",
    "        return self.key\n",
    "    \n",
    "    def bfs(self):\n",
    "        path = []\n",
    "        queue = [self]\n",
    "        while queue:\n",
    "            next_node = queue.pop(0)\n",
    "            path.append(next_node.getRootVal())\n",
    "            \n",
    "            left = next_node.leftChild\n",
    "            if left:\n",
    "                queue.append(left)\n",
    "            \n",
    "            right = next_node.rightChild\n",
    "            if right:\n",
    "                queue.append(right)\n",
    "        return path\n",
    "    \n",
    "def buildTree():\n",
    "    tree = BinaryTree(\"a\")\n",
    "    tree.insertLeft(\"b\")\n",
    "    tree.getLeftChild().insertRight(\"d\")\n",
    "    tree.insertRight(\"f\")\n",
    "    tree.insertRight(\"c\")\n",
    "    tree.getRightChild().insertLeft(\"e\")\n",
    "    return tree\n",
    "\n",
    "tree = buildTree()\n",
    "tree.bfs()\n",
    "    "
   ]
  },
  {
   "cell_type": "markdown",
   "metadata": {},
   "source": [
    "## Recursive Practice"
   ]
  },
  {
   "cell_type": "markdown",
   "metadata": {},
   "source": [
    "### Permutations of a string"
   ]
  },
  {
   "cell_type": "code",
   "execution_count": 93,
   "metadata": {},
   "outputs": [
    {
     "data": {
      "text/plain": [
       "['abc', 'acb', 'bca', 'bac', 'cab', 'cba']"
      ]
     },
     "execution_count": 93,
     "metadata": {},
     "output_type": "execute_result"
    }
   ],
   "source": [
    "def get_perms(string):\n",
    "    if len(string) == 1:\n",
    "        return [string]\n",
    "    new_endings = []\n",
    "    for i in range(len(string)):\n",
    "        cur = string[i:] + string[:i]\n",
    "        endings = get_perms(cur[1:])\n",
    "        for ending in endings:\n",
    "            new_endings.append(cur[0]+ending)\n",
    "    return new_endings\n",
    "\n",
    "# def get_perms(string):\n",
    "#     substring = string[]\n",
    "#     if len(string) < 1:\n",
    "#         re\n",
    "\n",
    "get_perms(\"abc\")"
   ]
  },
  {
   "cell_type": "code",
   "execution_count": 58,
   "metadata": {
    "scrolled": true
   },
   "outputs": [
    {
     "data": {
      "text/plain": [
       "array([[ 1,  2,  3,  4],\n",
       "       [12, 13, 14,  5],\n",
       "       [11, 16, 15,  6],\n",
       "       [10,  9,  8,  7]])"
      ]
     },
     "execution_count": 58,
     "metadata": {},
     "output_type": "execute_result"
    }
   ],
   "source": [
    "import pprint\n",
    "import numpy as np\n",
    "\n",
    "def spiralHelper(start,dist,iteration,row,col,mat):\n",
    "    if dist == 0:\n",
    "        return mat\n",
    "    iteration += 1\n",
    "    if iteration %2:\n",
    "        dist -= 1\n",
    "        \n",
    "    row_change, col_change = increment[iteration%4]\n",
    "    for i in range(dist):\n",
    "        row += row_change\n",
    "        col += col_change\n",
    "        mat[row][col] = start\n",
    "        start += 1\n",
    "    mat = spiralHelper(start,dist,iteration,row,col,mat)\n",
    "    return mat\n",
    "        \n",
    "increment = {0: (0,1), 1: (1,0), 2: (0,-1), 3: (-1,0)}\n",
    "\n",
    "def spiralNumbers(n):\n",
    "    mat = []\n",
    "    for i in range(n):\n",
    "        row = []\n",
    "        for j in range(n):\n",
    "            if i==0:\n",
    "                row.append(j+1)\n",
    "            else:\n",
    "                row.append(0)\n",
    "        mat.append(row)\n",
    "    \n",
    "    return spiralHelper(n+1,n,0,0,n-1,mat)\n",
    "\n",
    "np.array(spiralNumbers(4))"
   ]
  },
  {
   "cell_type": "markdown",
   "metadata": {},
   "source": [
    "## "
   ]
  },
  {
   "cell_type": "markdown",
   "metadata": {},
   "source": [
    "## "
   ]
  },
  {
   "cell_type": "markdown",
   "metadata": {},
   "source": [
    "## "
   ]
  }
 ],
 "metadata": {
  "kernelspec": {
   "display_name": "Python [conda env:py36]",
   "language": "python",
   "name": "conda-env-py36-py"
  },
  "language_info": {
   "codemirror_mode": {
    "name": "ipython",
    "version": 3
   },
   "file_extension": ".py",
   "mimetype": "text/x-python",
   "name": "python",
   "nbconvert_exporter": "python",
   "pygments_lexer": "ipython3",
   "version": "3.6.1"
  },
  "toc": {
   "nav_menu": {},
   "number_sections": true,
   "sideBar": true,
   "skip_h1_title": false,
   "toc_cell": false,
   "toc_position": {},
   "toc_section_display": "block",
   "toc_window_display": false
  }
 },
 "nbformat": 4,
 "nbformat_minor": 2
}
