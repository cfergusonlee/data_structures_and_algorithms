{
 "cells": [
  {
   "cell_type": "markdown",
   "metadata": {},
   "source": [
    "# Introduction"
   ]
  },
  {
   "cell_type": "markdown",
   "metadata": {},
   "source": [
    "## Brute Force Random Monkey Algorithm"
   ]
  },
  {
   "cell_type": "code",
   "execution_count": 2,
   "metadata": {},
   "outputs": [
    {
     "name": "stdout",
     "output_type": "stream",
     "text": [
      "Best attempt: uzcq nscmimepmmxeyvkbijdimnz\n",
      "Best score: 7.1%\n",
      "Best attempt: mmlmcpci ipunbzip u xy yabue\n",
      "Best score: 17.9%\n",
      "Best attempt: qmrwfkil bntjvglare abztrshp\n",
      "Best score: 21.4%\n",
      "Best attempt: lhirevqs pg is swaeevnhgduhh\n",
      "Best score: 25.0%\n",
      "Best attempt: mpthynayayuwiz ovlrxahkghsjd\n",
      "Best score: 28.6%\n"
     ]
    },
    {
     "ename": "KeyboardInterrupt",
     "evalue": "",
     "output_type": "error",
     "traceback": [
      "\u001b[0;31m---------------------------------------------------------------------------\u001b[0m",
      "\u001b[0;31mKeyboardInterrupt\u001b[0m                         Traceback (most recent call last)",
      "\u001b[0;32m<ipython-input-2-bc320375203b>\u001b[0m in \u001b[0;36m<module>\u001b[0;34m()\u001b[0m\n\u001b[1;32m     11\u001b[0m     \u001b[0mattempt\u001b[0m \u001b[0;34m=\u001b[0m \u001b[0;34m\"\"\u001b[0m\u001b[0;34m\u001b[0m\u001b[0m\n\u001b[1;32m     12\u001b[0m     \u001b[0;32mfor\u001b[0m \u001b[0mi\u001b[0m \u001b[0;32min\u001b[0m \u001b[0mrange\u001b[0m\u001b[0;34m(\u001b[0m\u001b[0mlen\u001b[0m\u001b[0;34m(\u001b[0m\u001b[0mgoal\u001b[0m\u001b[0;34m)\u001b[0m\u001b[0;34m)\u001b[0m\u001b[0;34m:\u001b[0m\u001b[0;34m\u001b[0m\u001b[0m\n\u001b[0;32m---> 13\u001b[0;31m         \u001b[0mrand_num\u001b[0m \u001b[0;34m=\u001b[0m \u001b[0mrandint\u001b[0m\u001b[0;34m(\u001b[0m\u001b[0;36m0\u001b[0m\u001b[0;34m,\u001b[0m\u001b[0;36m26\u001b[0m\u001b[0;34m)\u001b[0m\u001b[0;34m\u001b[0m\u001b[0m\n\u001b[0m\u001b[1;32m     14\u001b[0m         \u001b[0mchar\u001b[0m \u001b[0;34m=\u001b[0m \u001b[0mletters\u001b[0m\u001b[0;34m[\u001b[0m\u001b[0mrand_num\u001b[0m\u001b[0;34m]\u001b[0m\u001b[0;34m\u001b[0m\u001b[0m\n\u001b[1;32m     15\u001b[0m         \u001b[0mattempt\u001b[0m \u001b[0;34m+=\u001b[0m \u001b[0mchar\u001b[0m\u001b[0;34m\u001b[0m\u001b[0m\n",
      "\u001b[0;32m~/anaconda/envs/py36/lib/python3.6/random.py\u001b[0m in \u001b[0;36mrandint\u001b[0;34m(self, a, b)\u001b[0m\n\u001b[1;32m    218\u001b[0m         \"\"\"\n\u001b[1;32m    219\u001b[0m \u001b[0;34m\u001b[0m\u001b[0m\n\u001b[0;32m--> 220\u001b[0;31m         \u001b[0;32mreturn\u001b[0m \u001b[0mself\u001b[0m\u001b[0;34m.\u001b[0m\u001b[0mrandrange\u001b[0m\u001b[0;34m(\u001b[0m\u001b[0ma\u001b[0m\u001b[0;34m,\u001b[0m \u001b[0mb\u001b[0m\u001b[0;34m+\u001b[0m\u001b[0;36m1\u001b[0m\u001b[0;34m)\u001b[0m\u001b[0;34m\u001b[0m\u001b[0m\n\u001b[0m\u001b[1;32m    221\u001b[0m \u001b[0;34m\u001b[0m\u001b[0m\n\u001b[1;32m    222\u001b[0m     def _randbelow(self, n, int=int, maxsize=1<<BPF, type=type,\n",
      "\u001b[0;31mKeyboardInterrupt\u001b[0m: "
     ]
    }
   ],
   "source": [
    "from random import randint\n",
    "import numpy as np\n",
    "letters = \"abcdefghijklmnopqrstuvwxyz \"\n",
    "goal = \"methinks it is like a weasel\"\n",
    "attempt = \"\"\n",
    "best_attempt = \"\"\n",
    "best_score = 0\n",
    "count = 0\n",
    "record = 0\n",
    "while attempt != goal:\n",
    "    attempt = \"\"\n",
    "    for i in range(len(goal)):\n",
    "        rand_num = randint(0,26)\n",
    "        char = letters[rand_num]\n",
    "        attempt += char\n",
    "    score = np.mean(list(a == g for a, g in zip(attempt, goal)))\n",
    "    if score > best_score:\n",
    "        best_attempt = attempt\n",
    "        best_score = score    \n",
    "    if count % 1000 == 0 and record != best_score:\n",
    "        print(\"Best attempt: {}\".format(best_attempt))\n",
    "        print(\"Best score: {0:0.1f}%\".format(100*best_score))\n",
    "        record = best_score\n",
    "    count += 1\n",
    "\n"
   ]
  },
  {
   "cell_type": "markdown",
   "metadata": {},
   "source": [
    "## Hillclimbing Random Monkey Algorithm"
   ]
  },
  {
   "cell_type": "code",
   "execution_count": 4,
   "metadata": {},
   "outputs": [
    {
     "name": "stdout",
     "output_type": "stream",
     "text": [
      "Best attempt: mgiiczwmbhuoxvjekdymtfvumnsw\n",
      "Best score: 3.6%\n",
      "Best attempt: meiiczwmbhuoxvjekdymtfvumnsw\n",
      "Best score: 7.1%\n",
      "Best attempt: meticzwmbhuoxvjekdymtfvumnsw\n",
      "Best score: 10.7%\n",
      "Best attempt: methczwmbhuoxvjekdymtfvumnsw\n",
      "Best score: 14.3%\n",
      "Best attempt: methizwmbhuoxvjekdymtfvumnsw\n",
      "Best score: 17.9%\n",
      "Best attempt: methinwmbhuoxvjekdymtfvumnsw\n",
      "Best score: 21.4%\n",
      "Best attempt: methinkmbhuoxvjekdymtfvumnsw\n",
      "Best score: 25.0%\n",
      "Best attempt: methinksbhuoxvjekdymtfvumnsw\n",
      "Best score: 28.6%\n",
      "Best attempt: methinks huoxvjekdymtfvumnsw\n",
      "Best score: 32.1%\n",
      "Best attempt: methinks iuoxvjekdymtfvumnsw\n",
      "Best score: 35.7%\n",
      "Best attempt: methinks itoxvjekdymtfvumnsw\n",
      "Best score: 39.3%\n",
      "Best attempt: methinks it xvjekdymtfvumnsw\n",
      "Best score: 42.9%\n",
      "Best attempt: methinks it ivjekdymtfvumnsw\n",
      "Best score: 46.4%\n",
      "Best attempt: methinks it isjekdymtfvumnsw\n",
      "Best score: 50.0%\n",
      "Best attempt: methinks it is ekdymtfvumnsw\n",
      "Best score: 53.6%\n",
      "Best attempt: methinks it is lkdymtfvumnsw\n",
      "Best score: 57.1%\n",
      "Best attempt: methinks it is lidymtfvumnsw\n",
      "Best score: 60.7%\n",
      "Best attempt: methinks it is likymtfvumnsw\n",
      "Best score: 64.3%\n",
      "Best attempt: methinks it is likemtfvumnsw\n",
      "Best score: 67.9%\n",
      "Best attempt: methinks it is like tfvumnsw\n",
      "Best score: 71.4%\n",
      "Best attempt: methinks it is like afvumnsw\n",
      "Best score: 75.0%\n",
      "Best attempt: methinks it is like a vumnsw\n",
      "Best score: 78.6%\n",
      "Best attempt: methinks it is like a wumnsw\n",
      "Best score: 82.1%\n",
      "Best attempt: methinks it is like a wemnsw\n",
      "Best score: 85.7%\n",
      "Best attempt: methinks it is like a weansw\n",
      "Best score: 89.3%\n",
      "Best attempt: methinks it is like a weassw\n",
      "Best score: 92.9%\n",
      "Best attempt: methinks it is like a weasew\n",
      "Best score: 96.4%\n",
      "Best attempt: methinks it is like a weasel\n",
      "Best score: 100.0%\n",
      "Attempts: 575\n",
      "Best attempt: methinks it is like a weasel\n",
      "Best score: 100.0%\n"
     ]
    }
   ],
   "source": [
    "from random import randint\n",
    "import numpy as np\n",
    "letters = \"abcdefghijklmnopqrstuvwxyz \"\n",
    "goal = \"methinks it is like a weasel\"\n",
    "attempt = []\n",
    "best_attempt = \"\"\n",
    "best_score = 0\n",
    "count = 0\n",
    "record = 0\n",
    "\n",
    "for i in range(len(goal)):\n",
    "    rand_num = randint(0,26)\n",
    "    char = letters[rand_num]\n",
    "    attempt.append(char)\n",
    "        \n",
    "while best_attempt != goal:\n",
    "    for i in range(len(attempt)):\n",
    "        if attempt[i] != goal[i]:\n",
    "            rand_num = randint(0,26)\n",
    "            new_letter = letters[rand_num]\n",
    "            attempt[i] = new_letter\n",
    "            break            \n",
    "            \n",
    "    score = np.mean(list(a == g for a, g in zip(attempt, goal)))\n",
    "    if score > best_score:\n",
    "        best_attempt = \"\".join(attempt)\n",
    "        best_score = score    \n",
    "    if record != best_score:\n",
    "        print(\"Best attempt: {}\".format(best_attempt))\n",
    "        print(\"Best score: {0:0.1f}%\".format(100*best_score))\n",
    "        record = best_score\n",
    "    count += 1\n",
    "print(\"Attempts:\", count)\n",
    "print(\"Best attempt: {}\".format(best_attempt))\n",
    "print(\"Best score: {0:0.1f}%\".format(100*best_score))\n"
   ]
  },
  {
   "cell_type": "code",
   "execution_count": 5,
   "metadata": {},
   "outputs": [
    {
     "name": "stdout",
     "output_type": "stream",
     "text": [
      "3/5\n",
      "3/4\n",
      "True\n",
      "1/8\n",
      "1/2\n",
      "1/4\n",
      "True\n",
      "False\n"
     ]
    }
   ],
   "source": [
    "class Fraction:\n",
    "    \n",
    "    def __init__(self, top, bottom):\n",
    "        \n",
    "        self.num = top\n",
    "        self.den = bottom\n",
    "        \n",
    "    def __str__(self):\n",
    "        return \"{0}/{1}\".format(self.num, self.den)\n",
    "    \n",
    "    def __eq__(self, other):\n",
    "        firstnum = self.num * other.den\n",
    "        secondnum = other.num * self.den\n",
    "        \n",
    "        return firstnum == secondnum\n",
    "    \n",
    "    def __lt__(self, other):\n",
    "        firstnum = self.num * other.den\n",
    "        secondnum = other.num * self.den\n",
    "        \n",
    "        return firstnum < secondnum\n",
    "    \n",
    "    def __gt__(self, other):\n",
    "        firstnum = self.num * other.den\n",
    "        secondnum = other.num * self.den\n",
    "        \n",
    "        return firstnum > secondnum\n",
    "    \n",
    "    def __add__(self, otherfraction):\n",
    "        new_num = self.num*otherfraction.den + self.den*otherfraction.num\n",
    "        new_den = self.den*otherfraction.den\n",
    "        return self.reduce_fract(new_num,new_den)\n",
    "    \n",
    "    def __sub__(self, otherfraction):\n",
    "        new_num = self.num*otherfraction.den - self.den*otherfraction.num\n",
    "        new_den = self.den*otherfraction.den\n",
    "        return self.reduce_fract(new_num,new_den)\n",
    "    \n",
    "    def __mul__(self, otherfraction):\n",
    "        new_num = self.num*otherfraction.num\n",
    "        new_den = self.den*otherfraction.den\n",
    "        return self.reduce_fract(new_num,new_den)\n",
    "    \n",
    "    def __truediv__(self, otherfraction):\n",
    "        new_num = self.num*otherfraction.den\n",
    "        new_den = self.den*otherfraction.num\n",
    "        return self.reduce_fract(new_num,new_den)\n",
    "        \n",
    "    def reduce_fract(self, num, den):\n",
    "        common_den = self.gcd(num, den)\n",
    "        num //= common_den\n",
    "        den //= common_den\n",
    "        return Fraction(num,den)\n",
    "        \n",
    "    \n",
    "    def gcd(self,m,n):\n",
    "        # Uses Euclid's Algorithm to find the gcd\n",
    "        while m%n != 0:\n",
    "            m, n = n, m%n\n",
    "        return n\n",
    "        \n",
    "    \n",
    "test = Fraction(3,5)\n",
    "print(test)\n",
    "f1 = Fraction(1,4)\n",
    "f2 = Fraction(1,2)\n",
    "print(f1+f2)\n",
    "\n",
    "f3 = Fraction(27, 36)\n",
    "f4 = Fraction(6,8)\n",
    "print(f3==f4)\n",
    "\n",
    "print(f1*f2)\n",
    "\n",
    "print(f1/f2)\n",
    "\n",
    "print(f2-f1)\n",
    "\n",
    "print(f1<f2)\n",
    "\n",
    "print(f1>f2)"
   ]
  },
  {
   "cell_type": "code",
   "execution_count": 6,
   "metadata": {
    "scrolled": true
   },
   "outputs": [
    {
     "name": "stdout",
     "output_type": "stream",
     "text": [
      "-1/4\n"
     ]
    }
   ],
   "source": [
    "print(f1-f2)"
   ]
  },
  {
   "cell_type": "markdown",
   "metadata": {},
   "source": [
    "## Inheritance: Logic Gates and Circuits"
   ]
  },
  {
   "cell_type": "code",
   "execution_count": 9,
   "metadata": {
    "scrolled": true
   },
   "outputs": [
    {
     "name": "stdout",
     "output_type": "stream",
     "text": [
      "Enter Pin A input for gate G1-->1\n",
      "Enter Pin B input for gate G1-->0\n",
      "Enter Pin A input for gate G2-->1\n",
      "Enter Pin B input for gate G2-->0\n",
      "1\n"
     ]
    }
   ],
   "source": [
    "class LogicGate:\n",
    "\n",
    "    def __init__(self,n):\n",
    "        self.label = n\n",
    "        self.output = None\n",
    "\n",
    "    def getLabel(self):\n",
    "        return self.label\n",
    "\n",
    "    def getOutput(self):\n",
    "        self.output = self.performGateLogic()\n",
    "        return self.output\n",
    "    \n",
    "class BinaryGate(LogicGate):\n",
    "    \n",
    "    def __init__(self,n):\n",
    "        super().__init__(n)\n",
    "        \n",
    "        self.pinA = None\n",
    "        self.pinB = None\n",
    "        \n",
    "    def getPinA(self):\n",
    "        if self.pinA == None:\n",
    "            return int(input(\"Enter Pin A input for gate \"+ self.getLabel() +\"-->\"))\n",
    "        else:\n",
    "            return self.pinA.getFrom().getOutput()\n",
    "    \n",
    "    def getPinB(self):\n",
    "        if self.pinB == None:\n",
    "            return int(input(\"Enter Pin B input for gate \"+ self.getLabel() +\"-->\"))\n",
    "        else:\n",
    "            return self.pinB.getFrom().getOutput()\n",
    "    \n",
    "    def setNextPin(self,source):\n",
    "        if self.pinA == None:\n",
    "            self.pinA = source\n",
    "        else:\n",
    "            if self.pinB == None:\n",
    "                self.pinB = source\n",
    "            else:\n",
    "               raise RuntimeError(\"Error: NO EMPTY PINS\")\n",
    "\n",
    "class UnaryGate(LogicGate):\n",
    "    \n",
    "    def __init__(self,n):\n",
    "        super().__init__(n)\n",
    "        \n",
    "        self.pin = None\n",
    "        \n",
    "    def getPin(self):\n",
    "        if self.pin == None:\n",
    "            return int(input(\"Enter Pin input for gate \"+ self.getLabel() +\"-->\"))\n",
    "        else:\n",
    "            return self.pin.getFrom().getOutput()\n",
    "    \n",
    "    def setNextPin(self,source):\n",
    "        if self.pin == None:\n",
    "            self.pin = source\n",
    "        else:\n",
    "            raise RuntimeError(\"Error: NO EMPTY PINS\")\n",
    "    \n",
    "class AndGate(BinaryGate):\n",
    "\n",
    "    def __init__(self,n):\n",
    "        super().__init__(n)\n",
    "\n",
    "    def performGateLogic(self):\n",
    "\n",
    "        a = self.getPinA()\n",
    "        b = self.getPinB()\n",
    "        return int(a==1 and b==1)\n",
    "        \n",
    "class OrGate(BinaryGate):\n",
    "    \n",
    "    def __init__(self,n):\n",
    "        super().__init__(n)\n",
    "\n",
    "    def performGateLogic(self):\n",
    "\n",
    "        a = self.getPinA()\n",
    "        b = self.getPinB()\n",
    "        return int(a==1 or b==1)\n",
    "\n",
    "class NotGate(UnaryGate):\n",
    "    \n",
    "    def __init__(self,n):\n",
    "        super().__init__(n)\n",
    "        \n",
    "    def performGateLogic(self):\n",
    "        \n",
    "        a = self.getPin()\n",
    "        return int(not a)\n",
    "            \n",
    "class Connector:\n",
    "\n",
    "    def __init__(self, fgate, tgate):\n",
    "        self.fromgate = fgate\n",
    "        self.togate = tgate\n",
    "\n",
    "        tgate.setNextPin(self)\n",
    "\n",
    "    def getFrom(self):\n",
    "        return self.fromgate\n",
    "\n",
    "    def getTo(self):\n",
    "        return self.togate\n",
    "        \n",
    "def main():\n",
    "    g1 = AndGate(\"G1\")\n",
    "    g2 = AndGate(\"G2\")\n",
    "    g3 = OrGate(\"G3\")\n",
    "    g4 = NotGate(\"G4\")\n",
    "    c1 = Connector(g1,g3)\n",
    "    c2 = Connector(g2,g3)\n",
    "    c3 = Connector(g3,g4)\n",
    "    print(g4.getOutput())\n",
    "\n",
    "main()"
   ]
  },
  {
   "cell_type": "code",
   "execution_count": 10,
   "metadata": {},
   "outputs": [
    {
     "name": "stdout",
     "output_type": "stream",
     "text": [
      "Enter Pin A input for gate G1-->0\n",
      "Enter Pin B input for gate G1-->1\n",
      "Enter Pin A input for gate G2-->0\n",
      "Enter Pin B input for gate G2-->1\n",
      "Enter Pin A input for gate G4-->0\n",
      "Enter Pin B input for gate G4-->1\n",
      "Enter Pin A input for gate G5-->0\n",
      "Enter Pin B input for gate G5-->1\n",
      "True\n"
     ]
    }
   ],
   "source": [
    "class NorGate(OrGate):\n",
    "    \n",
    "    def __init__(self,n):\n",
    "        super().__init__(n)\n",
    "    \n",
    "    def performGateLogic(self):\n",
    "        return int(not(super().performGateLogic()))\n",
    "    \n",
    "    \n",
    "    \n",
    "class NandGate(AndGate):\n",
    "    \n",
    "    def __init__(self,n):\n",
    "        super().__init__(n)\n",
    "        \n",
    "    def performGateLogic(self):\n",
    "        return int(not(super().performGateLogic()))\n",
    "    \n",
    "g1 = NandGate(\"G1\")\n",
    "g2 = NandGate(\"G2\")\n",
    "g3 = AndGate(\"G3\")\n",
    "\n",
    "g4 = AndGate(\"G4\")\n",
    "g5 = AndGate(\"G5\")\n",
    "g6 = OrGate(\"G6\")\n",
    "g7 = NotGate(\"G7\")\n",
    "\n",
    "c1 = Connector(g1,g3)\n",
    "c2 = Connector(g2,g3)\n",
    "\n",
    "c3 = Connector(g4,g6)\n",
    "c4 = Connector(g5,g6)\n",
    "c5 = Connector(g6,g7)\n",
    "\n",
    "print(g3.getOutput() == g7.getOutput())"
   ]
  },
  {
   "cell_type": "markdown",
   "metadata": {},
   "source": [
    "# Analysis "
   ]
  },
  {
   "cell_type": "code",
   "execution_count": 11,
   "metadata": {},
   "outputs": [
    {
     "name": "stdout",
     "output_type": "stream",
     "text": [
      "5.02 µs ± 89.2 ns per loop (mean ± std. dev. of 7 runs, 100000 loops each)\n"
     ]
    }
   ],
   "source": [
    "def linear_min(l):\n",
    "    min_n = l[0]\n",
    "    for i in range(1,len(l)):\n",
    "        min_n = min((l[i], min_n))\n",
    "    return min_n\n",
    "\n",
    "def quadratic_min(l):\n",
    "    is_min = False\n",
    "    for i in range(len(l)):\n",
    "        is_min = True\n",
    "        for j in range(len(l)):\n",
    "            if l[i] > l[j]:\n",
    "                is_min = False\n",
    "        if is_min:\n",
    "            return l[i]\n",
    "\n",
    "test = [5,4,9,3,2,7]\n",
    "%timeit(quadratic_min(test))"
   ]
  },
  {
   "cell_type": "code",
   "execution_count": 12,
   "metadata": {},
   "outputs": [
    {
     "name": "stdout",
     "output_type": "stream",
     "text": [
      "2.05 µs ± 147 ns per loop (mean ± std. dev. of 7 runs, 100000 loops each)\n"
     ]
    }
   ],
   "source": [
    "%timeit(linear_min(test))"
   ]
  },
  {
   "cell_type": "code",
   "execution_count": 13,
   "metadata": {},
   "outputs": [
    {
     "data": {
      "text/plain": [
       "2"
      ]
     },
     "execution_count": 13,
     "metadata": {},
     "output_type": "execute_result"
    }
   ],
   "source": [
    "linear_min(test)"
   ]
  },
  {
   "cell_type": "code",
   "execution_count": 14,
   "metadata": {
    "collapsed": true
   },
   "outputs": [],
   "source": [
    "def test1():\n",
    "    l = []\n",
    "    for i in range(1000):\n",
    "        l = l + [i]\n",
    "\n",
    "def test2():\n",
    "    l = []\n",
    "    for i in range(1000):\n",
    "        l.append(i)\n",
    "\n",
    "def test3():\n",
    "    l = [i for i in range(1000)]\n",
    "\n",
    "def test4():\n",
    "    l = list(range(1000))"
   ]
  },
  {
   "cell_type": "code",
   "execution_count": 16,
   "metadata": {},
   "outputs": [
    {
     "name": "stdout",
     "output_type": "stream",
     "text": [
      "1.19 ms ± 40.3 µs per loop (mean ± std. dev. of 7 runs, 1000 loops each)\n"
     ]
    }
   ],
   "source": [
    "%timeit(test1())"
   ]
  },
  {
   "cell_type": "code",
   "execution_count": 17,
   "metadata": {},
   "outputs": [
    {
     "name": "stdout",
     "output_type": "stream",
     "text": [
      "88.3 µs ± 1.09 µs per loop (mean ± std. dev. of 7 runs, 10000 loops each)\n"
     ]
    }
   ],
   "source": [
    "%timeit(test2())"
   ]
  },
  {
   "cell_type": "code",
   "execution_count": 18,
   "metadata": {},
   "outputs": [
    {
     "name": "stdout",
     "output_type": "stream",
     "text": [
      "36.7 µs ± 403 ns per loop (mean ± std. dev. of 7 runs, 10000 loops each)\n"
     ]
    }
   ],
   "source": [
    "%timeit(test3())"
   ]
  },
  {
   "cell_type": "code",
   "execution_count": 19,
   "metadata": {},
   "outputs": [
    {
     "name": "stdout",
     "output_type": "stream",
     "text": [
      "16.1 µs ± 447 ns per loop (mean ± std. dev. of 7 runs, 100000 loops each)\n"
     ]
    }
   ],
   "source": [
    "%timeit(test4())"
   ]
  },
  {
   "cell_type": "markdown",
   "metadata": {},
   "source": [
    "# Basic Data Structures "
   ]
  },
  {
   "cell_type": "code",
   "execution_count": 4,
   "metadata": {},
   "outputs": [
    {
     "name": "stdout",
     "output_type": "stream",
     "text": [
      "True\n",
      "dog\n"
     ]
    }
   ],
   "source": [
    "from pythonds.basic.stack import Stack\n",
    "\n",
    "s = Stack()\n",
    "\n",
    "print(s.isEmpty())\n",
    "s.push(4)\n",
    "s.push('dog')\n",
    "print(s.peek())"
   ]
  },
  {
   "cell_type": "code",
   "execution_count": 5,
   "metadata": {},
   "outputs": [
    {
     "data": {
      "text/plain": [
       "['Stack',\n",
       " '__builtins__',\n",
       " '__cached__',\n",
       " '__doc__',\n",
       " '__file__',\n",
       " '__loader__',\n",
       " '__name__',\n",
       " '__package__',\n",
       " '__spec__']"
      ]
     },
     "execution_count": 5,
     "metadata": {},
     "output_type": "execute_result"
    }
   ],
   "source": [
    "import pythonds\n",
    "dir(pythonds.basic.stack)"
   ]
  },
  {
   "cell_type": "code",
   "execution_count": 5,
   "metadata": {},
   "outputs": [
    {
     "data": {
      "text/plain": [
       "'otoM olleH'"
      ]
     },
     "execution_count": 5,
     "metadata": {},
     "output_type": "execute_result"
    }
   ],
   "source": [
    "def revstring(mystr):\n",
    "    str_stack = Stack()\n",
    "    for l in mystr:\n",
    "        str_stack.push(l)\n",
    "    out_str = \"\"\n",
    "    while not str_stack.isEmpty():\n",
    "        out_str += str_stack.pop()\n",
    "    return out_str\n",
    "\n",
    "revstring(\"Hello Moto\")"
   ]
  },
  {
   "cell_type": "code",
   "execution_count": 80,
   "metadata": {},
   "outputs": [
    {
     "name": "stdout",
     "output_type": "stream",
     "text": [
      "A B * C D * -\n",
      "A B + C * D E - F G + * -\n",
      "5 3 4 2 - ** *\n",
      "A B C * D E - / +\n",
      "( A + B ) * ( C + D ) * ( E + F ): A B + C D + * E F + *\n"
     ]
    }
   ],
   "source": [
    "from pythonds.basic.stack import Stack\n",
    "\n",
    "def infixToPostfix(infixexpr):\n",
    "    prec = {}\n",
    "    prec[\"**\"] = 4\n",
    "    prec[\"*\"] = 3\n",
    "    prec[\"/\"] = 3\n",
    "    prec[\"+\"] = 2\n",
    "    prec[\"-\"] = 2\n",
    "    prec[\"(\"] = 1\n",
    "    opStack = Stack()\n",
    "    postfixList = []\n",
    "    tokenList = infixexpr.split()\n",
    "\n",
    "    for token in tokenList:\n",
    "        if token in \"ABCDEFGHIJKLMNOPQRSTUVWXYZ\" or token in \"0123456789\":\n",
    "            postfixList.append(token)\n",
    "        elif token == '(':\n",
    "            opStack.push(token)\n",
    "        elif token == ')':\n",
    "            topToken = opStack.pop()\n",
    "            while topToken != '(':\n",
    "                postfixList.append(topToken)\n",
    "                topToken = opStack.pop()\n",
    "        else:\n",
    "            while (not opStack.isEmpty()) and \\\n",
    "               (prec[opStack.peek()] >= prec[token]):\n",
    "                  postfixList.append(opStack.pop())\n",
    "            opStack.push(token)\n",
    "\n",
    "    while not opStack.isEmpty():\n",
    "        postfixList.append(opStack.pop())\n",
    "    return \" \".join(postfixList)\n",
    "\n",
    "5 * 3 ** (4 - 2)\n",
    "print(infixToPostfix(\"A * B - C * D\"))\n",
    "print(infixToPostfix(\"( A + B ) * C - ( D - E ) * ( F + G )\"))\n",
    "print(infixToPostfix(\"5 * 3 ** ( 4 - 2 )\"))\n",
    "print(infixToPostfix(\"A + B * C / ( D - E )\"))\n",
    "print(\"( A + B ) * ( C + D ) * ( E + F ):\", infixToPostfix(\"( A + B ) * ( C + D ) * ( E + F )\"))"
   ]
  },
  {
   "cell_type": "code",
   "execution_count": 36,
   "metadata": {},
   "outputs": [
    {
     "name": "stdout",
     "output_type": "stream",
     "text": [
      "True\n",
      "True\n",
      "True\n",
      "True\n",
      "True\n",
      "True\n",
      "True\n",
      "True\n"
     ]
    }
   ],
   "source": [
    "from pythonds.basic.queue import Queue\n",
    "\n",
    "def hotPotato(namelist, num):\n",
    "    simqueue = Queue()\n",
    "    for name in namelist:\n",
    "        simqueue.enqueue(name)\n",
    "\n",
    "    while simqueue.size() > 1:\n",
    "        for i in range(num):\n",
    "            simqueue.enqueue(simqueue.dequeue())\n",
    "\n",
    "        simqueue.dequeue()\n",
    "\n",
    "    return simqueue.dequeue()\n",
    "\n",
    "def hotPotatoMod(namelist, cycles):\n",
    "    namecopy = [name for name in namelist]\n",
    "    curpos = 0\n",
    "    while len(namecopy) > 1:\n",
    "        curpos += cycles\n",
    "        curpos %= len(namecopy)\n",
    "        namecopy.pop(curpos)\n",
    "        #curpos -= 1 \n",
    "    return namecopy.pop()\n",
    "\n",
    "names = [\"Bill\",\"David\",\"Susan\",\"Jane\",\"Kent\",\"Brad\"]\n",
    "\n",
    "for i in range(8):\n",
    "    print(hotPotatoMod(names, i) == hotPotato(names,i))\n",
    "#print(hotPotatoMod(names, 7))"
   ]
  },
  {
   "cell_type": "code",
   "execution_count": 45,
   "metadata": {},
   "outputs": [
    {
     "name": "stdout",
     "output_type": "stream",
     "text": [
      "1.87 ms ± 115 µs per loop (mean ± std. dev. of 7 runs, 1000 loops each)\n"
     ]
    }
   ],
   "source": [
    "%timeit(hotPotato(names,500))"
   ]
  },
  {
   "cell_type": "code",
   "execution_count": 46,
   "metadata": {},
   "outputs": [
    {
     "name": "stdout",
     "output_type": "stream",
     "text": [
      "2.94 µs ± 71.1 ns per loop (mean ± std. dev. of 7 runs, 100000 loops each)\n"
     ]
    }
   ],
   "source": [
    "%timeit(hotPotatoMod(names, 500))"
   ]
  },
  {
   "cell_type": "code",
   "execution_count": 41,
   "metadata": {},
   "outputs": [
    {
     "name": "stdout",
     "output_type": "stream",
     "text": [
      "Average Wait   5.31 secs   0 tasks remaining.\n",
      "Average Wait   7.39 secs   0 tasks remaining.\n",
      "Average Wait   4.97 secs   0 tasks remaining.\n",
      "Average Wait   0.92 secs   0 tasks remaining.\n",
      "Average Wait  10.68 secs   0 tasks remaining.\n",
      "Average Wait   1.52 secs   0 tasks remaining.\n",
      "Average Wait   3.71 secs   0 tasks remaining.\n",
      "Average Wait   3.57 secs   0 tasks remaining.\n",
      "Average Wait   3.90 secs   0 tasks remaining.\n",
      "Average Wait   7.49 secs   1 tasks remaining.\n"
     ]
    }
   ],
   "source": [
    "from pythonds.basic.queue import Queue\n",
    "\n",
    "import random\n",
    "\n",
    "class Printer:\n",
    "    def __init__(self, ppm):\n",
    "        self.pagerate = ppm\n",
    "        self.currentTask = None\n",
    "        self.timeRemaining = 0\n",
    "\n",
    "    def tick(self):\n",
    "        if self.currentTask != None:\n",
    "            self.timeRemaining = self.timeRemaining - 1\n",
    "            if self.timeRemaining <= 0:\n",
    "                self.currentTask = None\n",
    "\n",
    "    def busy(self):\n",
    "        if self.currentTask != None:\n",
    "            return True\n",
    "        else:\n",
    "            return False\n",
    "\n",
    "    def startNext(self,newtask):\n",
    "        self.currentTask = newtask\n",
    "        self.timeRemaining = newtask.getPages() * 60/self.pagerate\n",
    "\n",
    "class Task:\n",
    "    def __init__(self,time):\n",
    "        self.timestamp = time\n",
    "        self.pages = random.randrange(1,21)\n",
    "\n",
    "    def getStamp(self):\n",
    "        return self.timestamp\n",
    "\n",
    "    def getPages(self):\n",
    "        return self.pages\n",
    "\n",
    "    def waitTime(self, currenttime):\n",
    "        return currenttime - self.timestamp\n",
    "\n",
    "\n",
    "def simulation(numSeconds, pagesPerMinute):\n",
    "\n",
    "    labprinter = Printer(pagesPerMinute)\n",
    "    printQueue = Queue()\n",
    "    waitingtimes = []\n",
    "\n",
    "    for currentSecond in range(numSeconds):\n",
    "\n",
    "        if newPrintTask():\n",
    "            task = Task(currentSecond)\n",
    "            printQueue.enqueue(task)\n",
    "\n",
    "        if (not labprinter.busy()) and (not printQueue.isEmpty()):\n",
    "            nexttask = printQueue.dequeue()\n",
    "            waitingtimes.append( nexttask.waitTime(currentSecond))\n",
    "            labprinter.startNext(nexttask)\n",
    "\n",
    "        labprinter.tick()\n",
    "\n",
    "    averageWait=sum(waitingtimes)/len(waitingtimes)\n",
    "    print(\"Average Wait %6.2f secs %3d tasks remaining.\"%(averageWait,printQueue.size()))\n",
    "\n",
    "def newPrintTask():\n",
    "    num = random.randrange(1,121)\n",
    "    if num == 120:\n",
    "        return True\n",
    "    else:\n",
    "        return False\n",
    "\n",
    "for i in range(10):\n",
    "    simulation(3600,20)\n"
   ]
  },
  {
   "cell_type": "code",
   "execution_count": 42,
   "metadata": {},
   "outputs": [
    {
     "name": "stdout",
     "output_type": "stream",
     "text": [
      "False\n",
      "True\n",
      "True\n",
      "True\n",
      "True\n"
     ]
    }
   ],
   "source": [
    "from pythonds.basic.deque import Deque\n",
    "\n",
    "def palchecker(aString):\n",
    "    chardeque = Deque()\n",
    "\n",
    "    for ch in aString:\n",
    "        chardeque.addRear(ch)\n",
    "\n",
    "    if len(aString) == 1:\n",
    "        return True\n",
    "\n",
    "    first, last = chardeque.removeFront(), chardeque.removeRear()\n",
    "    while chardeque.size() > 1 and first == last:\n",
    "        first, last = chardeque.removeFront(), chardeque.removeRear()\n",
    "\n",
    "    return first == last\n",
    "\n",
    "print(palchecker(\"lsdkjfskf\"))\n",
    "print(palchecker(\"radar\"))\n",
    "print(palchecker(\"ada\"))\n",
    "print(palchecker(\"aa\"))\n",
    "print(palchecker(\"a\"))\n"
   ]
  },
  {
   "cell_type": "code",
   "execution_count": 51,
   "metadata": {},
   "outputs": [
    {
     "name": "stdout",
     "output_type": "stream",
     "text": [
      "1\n",
      "2\n",
      "3\n",
      "True\n"
     ]
    }
   ],
   "source": [
    "class Node:\n",
    "    def __init__(self,initdata):\n",
    "        self.data = initdata\n",
    "        self.next = None\n",
    "        \n",
    "\n",
    "    def getData(self):\n",
    "        return self.data\n",
    "\n",
    "    def getNext(self):\n",
    "        return self.next\n",
    "\n",
    "    def setData(self,newdata):\n",
    "        self.data = newdata\n",
    "\n",
    "    def setNext(self,newnext):\n",
    "        self.next = newnext\n",
    "\n",
    "\n",
    "class UnorderedList:\n",
    "\n",
    "    def __init__(self):\n",
    "        self.head = None\n",
    "        self.lastItem = None\n",
    "\n",
    "    def isEmpty(self):\n",
    "        return self.head == None\n",
    "\n",
    "    def add(self,item):\n",
    "        if not self.head:\n",
    "            temp = Node(item)\n",
    "            self.lastItem = temp\n",
    "        else:\n",
    "            temp = Node(item)\n",
    "        temp.setNext(self.head)\n",
    "        self.head = temp\n",
    " \n",
    "    def append(self, item):\n",
    "        \"\"\"\n",
    "        Adds an item to the end of the linked list\n",
    "        Time complexity: O(n)\n",
    "        \"\"\"\n",
    "        current = self.head\n",
    "        if not current:\n",
    "            item = Node(item)\n",
    "            self.head = item\n",
    "            self.lastItem = item\n",
    "        else:\n",
    "            while current.next != None:\n",
    "                current = current.next\n",
    "            item = Node(item)\n",
    "            current.next = item\n",
    "            \n",
    "    def appendEfficient(self, item):\n",
    "        \"\"\"\n",
    "        Adds an item to the end of the linked list using\n",
    "        the stored self.lastItem value\n",
    "        Last item's next becomes the new item.\n",
    "        Last item becomes the new item\n",
    "        \"\"\"\n",
    "        if self.lastItem:\n",
    "            temp = Node(item)\n",
    "            self.lastItem.next = temp\n",
    "            self.lastItem = temp\n",
    "        else:\n",
    "            item = Node(item)\n",
    "            self.head = item\n",
    "            self.lastItem = item\n",
    "\n",
    "    def size(self):\n",
    "        current = self.head\n",
    "        count = 0\n",
    "        while current != None:\n",
    "            count = count + 1\n",
    "            current = current.getNext()\n",
    "\n",
    "        return count\n",
    "\n",
    "    def search(self,item):\n",
    "        current = self.head\n",
    "        found = False\n",
    "        while current != None and not found:\n",
    "            print(current.getData())\n",
    "            if current.getData() == item:\n",
    "                found = True\n",
    "            else:\n",
    "                current = current.getNext()\n",
    "\n",
    "        return found\n",
    "\n",
    "    def remove(self,item):\n",
    "        current = self.head\n",
    "        previous = None\n",
    "        found = False\n",
    "        while not found:\n",
    "            if current.getData() == item:\n",
    "                found = True\n",
    "            else:\n",
    "                previous = current\n",
    "                current = current.getNext()\n",
    "\n",
    "        if previous == None:\n",
    "            self.head = current.getNext()\n",
    "        else:\n",
    "            previous.setNext(current.getNext())\n",
    "\n",
    "mylist = UnorderedList()\n",
    "\n",
    "mylist.add(2)\n",
    "mylist.add(1)\n",
    "mylist.appendEfficient(3)\n",
    "print(mylist.search(3))\n",
    "\n"
   ]
  },
  {
   "cell_type": "code",
   "execution_count": 76,
   "metadata": {},
   "outputs": [
    {
     "name": "stdout",
     "output_type": "stream",
     "text": [
      "8.8 µs ± 210 ns per loop (mean ± std. dev. of 7 runs, 100000 loops each)\n",
      "17 µs ± 289 ns per loop (mean ± std. dev. of 7 runs, 100000 loops each)\n",
      "24.4 µs ± 711 ns per loop (mean ± std. dev. of 7 runs, 10000 loops each)\n",
      "31.7 µs ± 344 ns per loop (mean ± std. dev. of 7 runs, 10000 loops each)\n",
      "39.8 µs ± 811 ns per loop (mean ± std. dev. of 7 runs, 10000 loops each)\n",
      "47.4 µs ± 602 ns per loop (mean ± std. dev. of 7 runs, 10000 loops each)\n",
      "55 µs ± 1.02 µs per loop (mean ± std. dev. of 7 runs, 10000 loops each)\n",
      "62.8 µs ± 718 ns per loop (mean ± std. dev. of 7 runs, 10000 loops each)\n",
      "70.8 µs ± 806 ns per loop (mean ± std. dev. of 7 runs, 10000 loops each)\n"
     ]
    }
   ],
   "source": [
    "def appendEfficientTest(r):\n",
    "    testlist = UnorderedList()\n",
    "\n",
    "    for i in range(r):\n",
    "        testlist.appendEfficient(i)\n",
    "\n",
    "for r in range(10,100,10):\n",
    "    %timeit(appendEfficientTest(r))"
   ]
  },
  {
   "cell_type": "code",
   "execution_count": 77,
   "metadata": {},
   "outputs": [
    {
     "name": "stdout",
     "output_type": "stream",
     "text": [
      "13.3 µs ± 113 ns per loop (mean ± std. dev. of 7 runs, 100000 loops each)\n",
      "38.2 µs ± 568 ns per loop (mean ± std. dev. of 7 runs, 10000 loops each)\n",
      "74 µs ± 484 ns per loop (mean ± std. dev. of 7 runs, 10000 loops each)\n",
      "126 µs ± 3.74 µs per loop (mean ± std. dev. of 7 runs, 10000 loops each)\n",
      "191 µs ± 13.5 µs per loop (mean ± std. dev. of 7 runs, 10000 loops each)\n",
      "333 µs ± 53 µs per loop (mean ± std. dev. of 7 runs, 1000 loops each)\n",
      "358 µs ± 15.3 µs per loop (mean ± std. dev. of 7 runs, 1000 loops each)\n",
      "463 µs ± 36.2 µs per loop (mean ± std. dev. of 7 runs, 1000 loops each)\n",
      "553 µs ± 8.95 µs per loop (mean ± std. dev. of 7 runs, 1000 loops each)\n"
     ]
    }
   ],
   "source": [
    "def appendTest(r):\n",
    "    testlist = UnorderedList()\n",
    "\n",
    "    for i in range(r):\n",
    "        testlist.append(i)\n",
    "    \n",
    "for r in range(10,100,10):\n",
    "    %timeit(appendTest(r))"
   ]
  },
  {
   "cell_type": "code",
   "execution_count": 78,
   "metadata": {},
   "outputs": [
    {
     "data": {
      "text/plain": [
       "0"
      ]
     },
     "execution_count": 78,
     "metadata": {},
     "output_type": "execute_result"
    }
   ],
   "source": [
    "testlist.size()"
   ]
  },
  {
   "cell_type": "markdown",
   "metadata": {},
   "source": [
    "# Recursion\n",
    "\n",
    "## The Three Laws of Recursion\n",
    "Like the robots of Asimov, all recursive algorithms must obey three important laws:\n",
    "\n",
    "1. A recursive algorithm must have a base case.\n",
    "2. A recursive algorithm must change its state and move toward the base case.\n",
    "3. A recursive algorithm must call itself, recursively."
   ]
  },
  {
   "cell_type": "code",
   "execution_count": 100,
   "metadata": {},
   "outputs": [
    {
     "name": "stdout",
     "output_type": "stream",
     "text": [
      "Pass\n",
      "Pass\n",
      "Pass\n",
      "Pass\n"
     ]
    }
   ],
   "source": [
    "def testEqual(a,b):\n",
    "    if a==b:\n",
    "        print(\"Pass\")\n",
    "    else:\n",
    "        message = \"Test Failed: expected {0} but got {1}\".format(b,a)\n",
    "        print(message)\n",
    "\n",
    "def reverse(s):\n",
    "    if len(s) < 2:\n",
    "        return s\n",
    "    else:\n",
    "        return reverse(s[1:]) + s[0]\n",
    "\n",
    "testEqual(reverse(\"hello\"),\"olleh\")\n",
    "testEqual(reverse(\"l\"),\"l\")\n",
    "testEqual(reverse(\"follow\"),\"wollof\")\n",
    "testEqual(reverse(\"\"),\"\")"
   ]
  },
  {
   "cell_type": "code",
   "execution_count": 104,
   "metadata": {},
   "outputs": [
    {
     "name": "stdout",
     "output_type": "stream",
     "text": [
      "Pass\n",
      "Pass\n",
      "Pass\n",
      "Pass\n",
      "Pass\n",
      "Pass\n"
     ]
    }
   ],
   "source": [
    "#from test import testEqual\n",
    "def removeWhite(s):\n",
    "    return [l for l in s if l.isalpha()]\n",
    "\n",
    "def isPal(s):\n",
    "    if len(s) < 2:\n",
    "        return True\n",
    "    else:\n",
    "        return s[0]==s[-1] and isPal(s[1:len(s)-1])\n",
    "\n",
    "testEqual(isPal(removeWhite(\"x\")),True)\n",
    "testEqual(isPal(removeWhite(\"radar\")),True)\n",
    "testEqual(isPal(removeWhite(\"hello\")),False)\n",
    "testEqual(isPal(removeWhite(\"\")),True)\n",
    "testEqual(isPal(removeWhite(\"hannah\")),True)\n",
    "testEqual(isPal(removeWhite(\"madam i'm adam\")),True)\n"
   ]
  },
  {
   "cell_type": "code",
   "execution_count": null,
   "metadata": {
    "collapsed": true
   },
   "outputs": [],
   "source": []
  }
 ],
 "metadata": {
  "kernelspec": {
   "display_name": "Python [conda env:py36]",
   "language": "python",
   "name": "conda-env-py36-py"
  },
  "language_info": {
   "codemirror_mode": {
    "name": "ipython",
    "version": 3
   },
   "file_extension": ".py",
   "mimetype": "text/x-python",
   "name": "python",
   "nbconvert_exporter": "python",
   "pygments_lexer": "ipython3",
   "version": "3.6.1"
  },
  "toc": {
   "nav_menu": {},
   "number_sections": true,
   "sideBar": true,
   "skip_h1_title": false,
   "toc_cell": false,
   "toc_position": {},
   "toc_section_display": "block",
   "toc_window_display": false
  }
 },
 "nbformat": 4,
 "nbformat_minor": 2
}
