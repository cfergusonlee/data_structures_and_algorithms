{
 "cells": [
  {
   "cell_type": "markdown",
   "metadata": {},
   "source": [
    "# Recursion Practice\n",
    "\n",
    "1. Compute the Factorial of a number N. F act(N) = N × (N −1)· · · 1.\n",
    "2. Compute the sum of natural numbers until N.\n",
    "3. Write a function for mutliply(a, b), where a and b are both positive\n",
    "integers, but you can only use the + or − operators.\n",
    "4. In the lecture, we discussed a method to raise a double to an\n",
    "integer power. In this question, write a recursive function that\n",
    "allows raising to a negative integer power as well.\n",
    "5. Find Greatest Common Divisor (GCD) of 2 numbers using recursion.\n",
    "6. Write a recursive function to reverse a string. Write a recursive\n",
    "function to reverse the words in a string, i.e., ”cat is running”\n",
    "becomes ”running is cat”.\n",
    "7. [Medium hard] A word is considered elfish if it contains the\n",
    "letters: e, l, and f in it, in any order. For example, we would say\n",
    "that the following words are elfish: whiteleaf, tasteful, unfriendly,\n",
    "and waffles, because they each contain those letters.\n",
    "• Write a predicate function called elfish? that, given a word,\n",
    "tells us if that word is elfish or not.\n",
    "• Write a more generalized predicate function called x-ish? that,\n",
    "given two words, returns true if all the letters of the first word\n",
    "are contained in the second.\n",
    "8. [Hard example] Coin game: Alice and Bob are playing a game\n",
    "using a bunch of coins. The players pick several coins out of the\n",
    "bunch in turn. Each time a player is allowed to pick 1, 2 or 4 coins,\n",
    "and the player that gets the last coin is the winner. Assume that\n",
    "both players are very smart and he/she will try his/her best to\n",
    "work out a strategy to win the game. For example, if there are 2\n",
    "1\n",
    "coins and Alice is the first player to pick, she will definitely pick 2\n",
    "coins and win. If there are 3 coins and Alice is still the first player\n",
    "to pick, no matter she picks 1 or 2 coins, Bob will get the last coin\n",
    "and win the game. Given the number of coins and the order of\n",
    "players (which means the first and the second players to pick the\n",
    "coins), you are required to write a program to calculate the winner\n",
    "of the game, and calculate how many different strategies there are\n",
    "for he/she to win the game. You should use recursion to solve\n",
    "the problem, and the parameters are read from the command line.\n",
    "You can assume that there are no more than 30 coins.\n",
    "Here are some sample runs of the program:\n",
    "\n",
    "    - /pickcoin 1 alice bob:\n",
    "    alice 1\n",
    "    - /pickcoin 2 bob alice:\n",
    "    bob 1\n",
    "    - /pickcoin 3 alice bob:\n",
    "    bob 2\n",
    "    - /pickcoin 10 alice bob:\n",
    "    alice 22\n",
    "    - /pickcoin 25 alice bob:\n",
    "    alice 3344\n",
    "    - /pickcoin 30 alice bob:\n",
    "    bob 18272"
   ]
  },
  {
   "cell_type": "code",
   "execution_count": 1,
   "metadata": {},
   "outputs": [
    {
     "data": {
      "text/plain": [
       "120"
      ]
     },
     "execution_count": 1,
     "metadata": {},
     "output_type": "execute_result"
    }
   ],
   "source": [
    "def factorial(n):\n",
    "    if n < 2:\n",
    "        return 1\n",
    "    else:\n",
    "        return n * factorial(n-1)\n",
    "    \n",
    "factorial(5)"
   ]
  },
  {
   "cell_type": "code",
   "execution_count": 2,
   "metadata": {},
   "outputs": [
    {
     "data": {
      "text/plain": [
       "15"
      ]
     },
     "execution_count": 2,
     "metadata": {},
     "output_type": "execute_result"
    }
   ],
   "source": [
    "def number_sum(n):\n",
    "    if n < 2:\n",
    "        return 1\n",
    "    else:\n",
    "        return n + number_sum(n-1)\n",
    "    \n",
    "number_sum(5)"
   ]
  },
  {
   "cell_type": "code",
   "execution_count": 4,
   "metadata": {},
   "outputs": [
    {
     "data": {
      "text/plain": [
       "27"
      ]
     },
     "execution_count": 4,
     "metadata": {},
     "output_type": "execute_result"
    }
   ],
   "source": [
    "def multiply(a,b):\n",
    "    if a == 1:\n",
    "        return b\n",
    "    else:\n",
    "        return b + multiply(a-1,b)\n",
    "    \n",
    "multiply(3,9)"
   ]
  },
  {
   "cell_type": "code",
   "execution_count": 6,
   "metadata": {},
   "outputs": [
    {
     "data": {
      "text/plain": [
       "0.25"
      ]
     },
     "execution_count": 6,
     "metadata": {},
     "output_type": "execute_result"
    }
   ],
   "source": [
    "def negative_power(a,b):\n",
    "    if b > -1:\n",
    "        return 1\n",
    "    else:\n",
    "        return 1/a * negative_power(a,b+1)\n",
    "    \n",
    "negative_power(2,-2)"
   ]
  },
  {
   "cell_type": "code",
   "execution_count": 20,
   "metadata": {},
   "outputs": [
    {
     "data": {
      "text/plain": [
       "3"
      ]
     },
     "execution_count": 20,
     "metadata": {},
     "output_type": "execute_result"
    }
   ],
   "source": [
    "def gcd(a,b):\n",
    "    if b == 0:\n",
    "        return a\n",
    "    return gcd(b,a%b)\n",
    "\n",
    "gcd(3,12)"
   ]
  },
  {
   "cell_type": "code",
   "execution_count": 21,
   "metadata": {
    "collapsed": true
   },
   "outputs": [],
   "source": [
    "test = [0,1,2]\n",
    "test.append(3)"
   ]
  },
  {
   "cell_type": "code",
   "execution_count": 22,
   "metadata": {},
   "outputs": [
    {
     "data": {
      "text/plain": [
       "'running is cat'"
      ]
     },
     "execution_count": 22,
     "metadata": {},
     "output_type": "execute_result"
    }
   ],
   "source": [
    "def reverse_helper(phrase,new_phrase):\n",
    "    if not phrase:\n",
    "        return phrase,new_phrase\n",
    "    new_phrase.append(phrase.pop())\n",
    "    return reverse_helper(phrase,new_phrase)\n",
    "def reverse_phrase(phrase):\n",
    "    ans = reverse_helper(phrase.split(),[])[1]\n",
    "    return \" \".join(ans)\n",
    "\n",
    "reverse_phrase(\"cat is running\")"
   ]
  },
  {
   "cell_type": "code",
   "execution_count": 26,
   "metadata": {},
   "outputs": [
    {
     "data": {
      "text/plain": [
       "True"
      ]
     },
     "execution_count": 26,
     "metadata": {},
     "output_type": "execute_result"
    }
   ],
   "source": [
    "def elfish(word,ish):\n",
    "    if not ish:\n",
    "        return True\n",
    "    elif not word:\n",
    "        return False\n",
    "    for i in range(len(ish)):\n",
    "        if ish[i] == word[0]:\n",
    "            ish = ish[:i] + ish[i+1:]\n",
    "            break\n",
    "    word = word[1:]    \n",
    "    return elfish(word,ish)\n",
    "        \n",
    "elfish(\"whiteleaf\",\"elf\")"
   ]
  },
  {
   "cell_type": "code",
   "execution_count": 33,
   "metadata": {},
   "outputs": [
    {
     "name": "stdout",
     "output_type": "stream",
     "text": [
      "{0: {'alice': 1, 'bob': 0}, 1: {'alice': 1}, 2: {'alice': 2}, 3: {'alice': 3}}\n"
     ]
    },
    {
     "data": {
      "text/plain": [
       "{'alice': 3}"
      ]
     },
     "execution_count": 33,
     "metadata": {},
     "output_type": "execute_result"
    }
   ],
   "source": [
    "# Use dynamic programming\n",
    "# Start with the base case of 1 coin and determine whether \n",
    "# it's possible to get to a solution from there. If so, enter the \n",
    "# number of possible options and add it to the number of options at\n",
    "# the smaller values from there\n",
    "\n",
    "def coin_game_helper(coins,p1,p2):\n",
    "    solutions[coins] = {p1:wins,p2:0}\n",
    "    \n",
    "    \n",
    "    for i in range(1,coins+1):\n",
    "        options = [p for p in picks if p<=i]\n",
    "        \n",
    "        for option in options:\n",
    "            \n",
    "        solutions[i] = {p1:wins}\n",
    "    solutions[i-option][p1]\n",
    "    print(solutions)\n",
    "    return solutions[coins]\n",
    "\n",
    "def coin_game(coins,p1,p2):\n",
    "    solutions = {0:{p1:0,p2:1}}\n",
    "    picks = [1,2,4]\n",
    "    for i in range(1,coins+1):\n",
    "        options = [p for p in picks if p<=i]\n",
    "        wins = 0\n",
    "        for option in options:\n",
    "            wins += coin_game_helper(i-option,p2,p1)\n",
    "        \n",
    "        \n",
    "\n",
    "coin_game(3,\"alice\",\"bob\")"
   ]
  },
  {
   "cell_type": "code",
   "execution_count": null,
   "metadata": {
    "collapsed": true
   },
   "outputs": [],
   "source": []
  }
 ],
 "metadata": {
  "kernelspec": {
   "display_name": "Python [conda env:py36]",
   "language": "python",
   "name": "conda-env-py36-py"
  },
  "language_info": {
   "codemirror_mode": {
    "name": "ipython",
    "version": 3
   },
   "file_extension": ".py",
   "mimetype": "text/x-python",
   "name": "python",
   "nbconvert_exporter": "python",
   "pygments_lexer": "ipython3",
   "version": "3.6.1"
  },
  "toc": {
   "nav_menu": {},
   "number_sections": true,
   "sideBar": true,
   "skip_h1_title": false,
   "toc_cell": false,
   "toc_position": {},
   "toc_section_display": "block",
   "toc_window_display": false
  }
 },
 "nbformat": 4,
 "nbformat_minor": 2
}
